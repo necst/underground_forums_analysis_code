{
 "cells": [
  {
   "cell_type": "code",
   "execution_count": null,
   "id": "7cc48fc8",
   "metadata": {
    "execution": {
     "iopub.execute_input": "2023-10-31T19:09:27.170251Z",
     "iopub.status.busy": "2023-10-31T19:09:27.169441Z",
     "iopub.status.idle": "2023-10-31T19:09:28.898264Z",
     "shell.execute_reply": "2023-10-31T19:09:28.896943Z"
    },
    "papermill": {
     "duration": 1.734989,
     "end_time": "2023-10-31T19:09:28.900192",
     "exception": false,
     "start_time": "2023-10-31T19:09:27.165203",
     "status": "completed"
    },
    "tags": []
   },
   "outputs": [],
   "source": [
    "import datetime\n",
    "import pandas as pd\n",
    "import json\n",
    "import time\n",
    "import re\n",
    "import os\n",
    "import zipfile\n",
    "from collections import defaultdict\n",
    "from tqdm import tqdm\n",
    "from concurrent.futures import ThreadPoolExecutor\n",
    "import nltk\n",
    "nltk.download('stopwords')\n",
    "from nltk.corpus import stopwords"
   ]
  },
  {
   "cell_type": "code",
   "execution_count": null,
   "id": "30353f88",
   "metadata": {
    "execution": {
     "iopub.execute_input": "2023-10-31T19:09:28.906918Z",
     "iopub.status.busy": "2023-10-31T19:09:28.906549Z",
     "iopub.status.idle": "2023-10-31T19:09:28.919313Z",
     "shell.execute_reply": "2023-10-31T19:09:28.918368Z"
    },
    "papermill": {
     "duration": 0.018929,
     "end_time": "2023-10-31T19:09:28.921783",
     "exception": false,
     "start_time": "2023-10-31T19:09:28.902854",
     "status": "completed"
    },
    "tags": []
   },
   "outputs": [],
   "source": [
    "nltk_stopwords = set(stopwords.words('english'))\n",
    "\n",
    "# Function to read data from a file and return it as a dictionary\n",
    "def read_json_file(file_name):\n",
    "    with open(file_name, 'r', encoding='utf-8') as file:\n",
    "        data = json.load(file)\n",
    "    return data\n",
    "\n",
    "# Function to merge multiple dictionaries into a single dictionary\n",
    "def merge_json_data(data_list):\n",
    "    merged_data = []\n",
    "    for data in data_list:\n",
    "        merged_data.extend(data)\n",
    "    return merged_data\n",
    "\n",
    "def execute_merge(file_names, change_fieldName=False):\n",
    "    # Load data from each file and merge into a single list\n",
    "    data_list = []\n",
    "    total_keywords = 0\n",
    "    for file_name in tqdm(file_names, desc='Merging'):\n",
    "        data = read_json_file(file_name)\n",
    "        data_list.append(data)\n",
    "\n",
    "        # Count the number of keywords in the current file and add it to the total\n",
    "        num_keywords = len(data)\n",
    "        total_keywords += num_keywords\n",
    "        #print(f\"File {file_name} - Number of keywords: {num_keywords}\")\n",
    "\n",
    "    # Merge data into a single JSON object\n",
    "    merged_chunks = merge_json_data(data_list)\n",
    "    \n",
    "    # Sort data by alphabetical order\n",
    "    merged_sorted_data = sorted(merged_chunks, key=lambda x: x['keyword'])  # Sort by keywords\n",
    "    \n",
    "    # Filter the data to keep only items where keyword is not a stopword and has length > 1\n",
    "    merged_sorted_data = [item for item in tqdm(merged_sorted_data, desc='Removing meaningless matches') if item[\"keyword\"].lower() not in nltk_stopwords and len(item[\"keyword\"]) > 1]\n",
    "\n",
    "    if change_fieldName:\n",
    "        for item in tqdm(merged_sorted_data, desc='Changing fieldname'):\n",
    "            item[\"matching_posts\"] = item.pop(\"matching posts\")\n",
    "\n",
    "    # Sort the matching_posts for each item by date\n",
    "    for item in tqdm(merged_sorted_data, desc='Sorting'):\n",
    "        item[\"matching_posts\"] = sorted(\n",
    "            item[\"matching_posts\"],\n",
    "            key=lambda x: datetime.datetime.strptime(x[\"date\"], \"%m-%d-%Y\")\n",
    "        )\n",
    "        \n",
    "    return merged_sorted_data, total_keywords"
   ]
  },
  {
   "cell_type": "markdown",
   "id": "3c1b8a40",
   "metadata": {
    "papermill": {
     "duration": 0.00213,
     "end_time": "2023-10-31T19:09:28.926636",
     "exception": false,
     "start_time": "2023-10-31T19:09:28.924506",
     "status": "completed"
    },
    "tags": []
   },
   "source": [
    "## Reports"
   ]
  },
  {
   "cell_type": "code",
   "execution_count": null,
   "id": "09f80c09",
   "metadata": {
    "execution": {
     "iopub.execute_input": "2023-10-31T19:09:28.932607Z",
     "iopub.status.busy": "2023-10-31T19:09:28.932235Z",
     "iopub.status.idle": "2023-10-31T19:10:11.134286Z",
     "shell.execute_reply": "2023-10-31T19:10:11.133348Z"
    },
    "papermill": {
     "duration": 42.219774,
     "end_time": "2023-10-31T19:10:11.148678",
     "exception": false,
     "start_time": "2023-10-31T19:09:28.928904",
     "status": "completed"
    },
    "tags": []
   },
   "outputs": [],
   "source": [
    "# List of file names to load\n",
    "file_names = [ \n",
    "    \"/home/anon/input/chunks-keywords-in-datasets/5-Chunks_REP_keywords_in_HF_posts/REP_keywords_in_HF_posts_{0}.json\"\n",
    "    .format(i) for i in range(1, 691)]\n",
    "\n",
    "merged_sorted_data, total_keywords = execute_merge(file_names, True)\n",
    "\n",
    "# Save the merged data to a new JSON file\n",
    "output_file = \"REP_keywords_in_HF_posts.json\"\n",
    "print('Saving', output_file)\n",
    "with open(output_file, 'w', encoding='utf-8') as file:\n",
    "    json.dump(merged_sorted_data, file, indent=4)\n",
    "\n",
    "print(f\"\\nData from {len(file_names)} files merged and saved to {output_file}.\")\n",
    "print(\"Total keywords with match: {0}\".format(total_keywords))"
   ]
  },
  {
   "cell_type": "code",
   "execution_count": null,
   "id": "f0cd191c",
   "metadata": {
    "execution": {
     "iopub.execute_input": "2023-10-31T19:10:11.176907Z",
     "iopub.status.busy": "2023-10-31T19:10:11.176595Z",
     "iopub.status.idle": "2023-10-31T19:12:25.747901Z",
     "shell.execute_reply": "2023-10-31T19:12:25.746752Z"
    },
    "papermill": {
     "duration": 134.621739,
     "end_time": "2023-10-31T19:12:25.783403",
     "exception": false,
     "start_time": "2023-10-31T19:10:11.161664",
     "status": "completed"
    },
    "tags": []
   },
   "outputs": [],
   "source": [
    "# List of file names to load\n",
    "file_names = [ \n",
    "    \"/home/anon/input/chunks-keywords-in-datasets/6-Chunks_REP_keywords_in_REP_articles/REP_keywords_in_REP_articles_{0}.json\"\n",
    "    .format(i) for i in range(1, 698)]\n",
    "\n",
    "merged_sorted_data, total_keywords = execute_merge(file_names)\n",
    "\n",
    "# Save the merged data to a new JSON file\n",
    "output_file = \"REP_keywords_in_REP_articles.json\" \n",
    "print('Saving', output_file)\n",
    "with open(output_file, 'w', encoding='utf-8') as file:\n",
    "    json.dump(merged_sorted_data, file, indent=4)\n",
    "\n",
    "print(f\"\\nData from {len(file_names)} files merged and saved to {output_file}.\")\n",
    "print(\"Total keywords with match: {0}\".format(total_keywords))"
   ]
  },
  {
   "cell_type": "markdown",
   "id": "357c0d3a",
   "metadata": {
    "papermill": {
     "duration": 0.033329,
     "end_time": "2023-10-31T19:12:25.850455",
     "exception": false,
     "start_time": "2023-10-31T19:12:25.817126",
     "status": "completed"
    },
    "tags": []
   },
   "source": [
    "## HF"
   ]
  },
  {
   "cell_type": "code",
   "execution_count": null,
   "id": "5dea75c4",
   "metadata": {
    "execution": {
     "iopub.execute_input": "2023-10-31T19:12:25.918651Z",
     "iopub.status.busy": "2023-10-31T19:12:25.917618Z",
     "iopub.status.idle": "2023-10-31T19:13:34.421744Z",
     "shell.execute_reply": "2023-10-31T19:13:34.420140Z"
    },
    "papermill": {
     "duration": 68.590917,
     "end_time": "2023-10-31T19:13:34.473737",
     "exception": false,
     "start_time": "2023-10-31T19:12:25.882820",
     "status": "completed"
    },
    "tags": []
   },
   "outputs": [],
   "source": [
    "# List of file names to load\n",
    "file_names = [ \n",
    "    \"/home/anon/input/chunks-keywords-in-datasets/5-Chunks_HF_keywords_in_REP_articles/HF_keywords_in_REP_articles_{0}.json\"\n",
    "    .format(i) for i in range(1, 271)]\n",
    "\n",
    "merged_sorted_data, total_keywords = execute_merge(file_names, True)\n",
    "\n",
    "# Save the merged data to a new JSON file\n",
    "output_file = \"HF_keywords_in_REP_articles.json\" \n",
    "print('Saving', output_file)\n",
    "with open(output_file, 'w', encoding='utf-8') as file:\n",
    "    json.dump(merged_sorted_data, file, indent=4)\n",
    "\n",
    "print(f\"\\nData from {len(file_names)} files merged and saved to {output_file}.\")\n",
    "print(\"Total keywords with match: {0}\".format(total_keywords))"
   ]
  },
  {
   "cell_type": "code",
   "execution_count": null,
   "id": "f0452f2c",
   "metadata": {
    "execution": {
     "iopub.execute_input": "2023-10-31T19:13:34.567339Z",
     "iopub.status.busy": "2023-10-31T19:13:34.565859Z",
     "iopub.status.idle": "2023-10-31T19:14:11.234482Z",
     "shell.execute_reply": "2023-10-31T19:14:11.233138Z"
    },
    "papermill": {
     "duration": 36.768845,
     "end_time": "2023-10-31T19:14:11.287797",
     "exception": false,
     "start_time": "2023-10-31T19:13:34.518952",
     "status": "completed"
    },
    "tags": []
   },
   "outputs": [],
   "source": [
    "# List of file names to load\n",
    "file_names = [ \n",
    "    \"/home/anon/input/chunks-keywords-in-datasets/6-Chunks_HF_keywords_in_HF_posts/HF_keywords_in_HF_posts_{0}.json\"\n",
    "    .format(i) for i in range(1, 281)]\n",
    "\n",
    "merged_sorted_data, total_keywords = execute_merge(file_names)\n",
    "\n",
    "# Save the merged data to a new JSON file\n",
    "output_file = \"HF_keywords_in_HF_posts.json\" \n",
    "with open(output_file, 'w', encoding='utf-8') as file:\n",
    "    json.dump(merged_sorted_data, file, indent=4)\n",
    "\n",
    "print(f\"\\nData from {len(file_names)} files merged and saved to {output_file}.\")\n",
    "print(\"Total keywords with match: {0}\".format(total_keywords))"
   ]
  }
 ],
 "metadata": {
  "kernelspec": {
   "display_name": "Python 3",
   "language": "python",
   "name": "python3"
  },
  "language_info": {
   "codemirror_mode": {
    "name": "ipython",
    "version": 3
   },
   "file_extension": ".py",
   "mimetype": "text/x-python",
   "name": "python",
   "nbconvert_exporter": "python",
   "pygments_lexer": "ipython3",
   "version": "3.10.12"
  },
  "papermill": {
   "default_parameters": {},
   "duration": 294.723414,
   "end_time": "2023-10-31T19:14:13.468032",
   "environment_variables": {},
   "exception": null,
   "input_path": "__notebook__.ipynb",
   "output_path": "__notebook__.ipynb",
   "parameters": {},
   "start_time": "2023-10-31T19:09:18.744618",
   "version": "2.4.0"
  }
 },
 "nbformat": 4,
 "nbformat_minor": 5
}
