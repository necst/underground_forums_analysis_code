{
 "cells": [
  {
   "cell_type": "markdown",
   "id": "7cf24a72",
   "metadata": {
    "papermill": {
     "duration": 0.014482,
     "end_time": "2023-06-21T16:23:14.888898",
     "exception": false,
     "start_time": "2023-06-21T16:23:14.874416",
     "status": "completed"
    },
    "tags": []
   },
   "source": [
    "### Import libraries"
   ]
  },
  {
   "cell_type": "code",
   "execution_count": null,
   "id": "13bfc71f",
   "metadata": {
    "execution": {
     "iopub.execute_input": "2023-06-21T16:23:14.919048Z",
     "iopub.status.busy": "2023-06-21T16:23:14.918350Z",
     "iopub.status.idle": "2023-06-21T16:23:27.662307Z",
     "shell.execute_reply": "2023-06-21T16:23:27.661382Z"
    },
    "papermill": {
     "duration": 12.761922,
     "end_time": "2023-06-21T16:23:27.665075",
     "exception": false,
     "start_time": "2023-06-21T16:23:14.903153",
     "status": "completed"
    },
    "tags": []
   },
   "outputs": [],
   "source": [
    "import os\n",
    "import time\n",
    "import torch\n",
    "import random\n",
    "import zipfile\n",
    "import datetime\n",
    "import numpy as np\n",
    "import pandas as pd\n",
    "import seaborn as sns\n",
    "import matplotlib.pyplot as plt\n",
    "\n",
    "from transformers import BertTokenizer\n",
    "from torch.utils.data import TensorDataset\n",
    "from sklearn.metrics import roc_curve, auc\n",
    "from sklearn.metrics import matthews_corrcoef\n",
    "from sklearn.model_selection import train_test_split\n",
    "from transformers import get_linear_schedule_with_warmup\n",
    "from transformers import BertForSequenceClassification, AdamW, BertConfig\n",
    "from torch.utils.data import DataLoader, RandomSampler, SequentialSampler\n",
    "from sklearn.metrics import accuracy_score, precision_score, recall_score, f1_score, confusion_matrix\n"
   ]
  },
  {
   "cell_type": "markdown",
   "id": "e8f84619",
   "metadata": {
    "id": "bXvcF2bbyqCL",
    "papermill": {
     "duration": 0.013765,
     "end_time": "2023-06-21T16:23:27.693450",
     "exception": false,
     "start_time": "2023-06-21T16:23:27.679685",
     "status": "completed"
    },
    "tags": []
   },
   "source": [
    "### Setup for GPU"
   ]
  },
  {
   "cell_type": "code",
   "execution_count": null,
   "id": "10ab48e0",
   "metadata": {
    "execution": {
     "iopub.execute_input": "2023-06-21T16:23:27.723470Z",
     "iopub.status.busy": "2023-06-21T16:23:27.723183Z",
     "iopub.status.idle": "2023-06-21T16:23:32.015062Z",
     "shell.execute_reply": "2023-06-21T16:23:32.012661Z"
    },
    "id": "VRsnTpAQwmlA",
    "outputId": "43f07993-987d-48a1-82c7-3d85d7fa2348",
    "papermill": {
     "duration": 4.310146,
     "end_time": "2023-06-21T16:23:32.017583",
     "exception": false,
     "start_time": "2023-06-21T16:23:27.707437",
     "status": "completed"
    },
    "tags": []
   },
   "outputs": [],
   "source": [
    "# To confirm that the GPU is detected\n",
    "\n",
    "import tensorflow as tf\n",
    "\n",
    "# Get the GPU device name\n",
    "device_name = tf.test.gpu_device_name()\n",
    "\n",
    "# The device name should look like the following:\n",
    "if device_name == '/device:GPU:0':\n",
    "    print('Found GPU at: {}'.format(device_name))\n",
    "else:\n",
    "    raise SystemError('GPU device not found')"
   ]
  },
  {
   "cell_type": "code",
   "execution_count": null,
   "id": "ba5564f7",
   "metadata": {
    "execution": {
     "iopub.execute_input": "2023-06-21T16:23:32.048042Z",
     "iopub.status.busy": "2023-06-21T16:23:32.047751Z",
     "iopub.status.idle": "2023-06-21T16:23:32.064653Z",
     "shell.execute_reply": "2023-06-21T16:23:32.063576Z"
    },
    "id": "pLsFUzYPw1ak",
    "outputId": "212f8783-cf79-413c-dabe-9006cf3b345b",
    "papermill": {
     "duration": 0.033865,
     "end_time": "2023-06-21T16:23:32.066676",
     "exception": false,
     "start_time": "2023-06-21T16:23:32.032811",
     "status": "completed"
    },
    "tags": []
   },
   "outputs": [],
   "source": [
    "# To identify and specify the GPU\n",
    "\n",
    "# If there's a GPU available...\n",
    "if torch.cuda.is_available():\n",
    "\n",
    "    # Tell PyTorch to use the GPU\n",
    "    device = torch.device(\"cuda\")\n",
    "\n",
    "    print('There are %d GPU(s) available.' % torch.cuda.device_count())\n",
    "\n",
    "    print('We will use the GPU:', torch.cuda.get_device_name(0))\n",
    "\n",
    "# If not...\n",
    "else:\n",
    "    print('No GPU available, using the CPU instead.')\n",
    "    device = torch.device(\"cpu\")"
   ]
  },
  {
   "cell_type": "markdown",
   "id": "e8c75bc7",
   "metadata": {
    "id": "h120nrZtyxJm",
    "papermill": {
     "duration": 0.013848,
     "end_time": "2023-06-21T16:23:32.094560",
     "exception": false,
     "start_time": "2023-06-21T16:23:32.080712",
     "status": "completed"
    },
    "tags": []
   },
   "source": [
    "### Installing the Hugging Face Library"
   ]
  },
  {
   "cell_type": "code",
   "execution_count": null,
   "id": "645116fb",
   "metadata": {
    "execution": {
     "iopub.execute_input": "2023-06-21T16:23:32.124092Z",
     "iopub.status.busy": "2023-06-21T16:23:32.123814Z",
     "iopub.status.idle": "2023-06-21T16:23:43.843219Z",
     "shell.execute_reply": "2023-06-21T16:23:43.842051Z"
    },
    "id": "UmqGaeD0xl1K",
    "outputId": "a712e237-b63d-4386-9dc7-61d149e4966d",
    "papermill": {
     "duration": 11.736891,
     "end_time": "2023-06-21T16:23:43.845683",
     "exception": false,
     "start_time": "2023-06-21T16:23:32.108792",
     "status": "completed"
    },
    "tags": []
   },
   "outputs": [],
   "source": [
    "!pip install transformers"
   ]
  },
  {
   "cell_type": "markdown",
   "id": "311f4806",
   "metadata": {
    "papermill": {
     "duration": 0.014661,
     "end_time": "2023-06-21T16:23:43.875302",
     "exception": false,
     "start_time": "2023-06-21T16:23:43.860641",
     "status": "completed"
    },
    "tags": []
   },
   "source": [
    "### Setup parameters\n"
   ]
  },
  {
   "cell_type": "code",
   "execution_count": null,
   "id": "bd8a6f76",
   "metadata": {
    "execution": {
     "iopub.execute_input": "2023-06-21T16:23:43.906408Z",
     "iopub.status.busy": "2023-06-21T16:23:43.905528Z",
     "iopub.status.idle": "2023-06-21T16:23:43.911150Z",
     "shell.execute_reply": "2023-06-21T16:23:43.910270Z"
    },
    "papermill": {
     "duration": 0.023178,
     "end_time": "2023-06-21T16:23:43.913084",
     "exception": false,
     "start_time": "2023-06-21T16:23:43.889906",
     "status": "completed"
    },
    "tags": []
   },
   "outputs": [],
   "source": [
    "# Seed for reproducibility\n",
    "seed_val = 42\n",
    "\n",
    "# Number of training epochs. The BERT authors recommend between 2 and 4\n",
    "epochs = 4\n",
    "\n",
    "# Define the maximum sequence length for each window\n",
    "window_length = 512\n",
    "\n",
    "# The DataLoader needs to know the batch size for training\n",
    "# For fine-tuning BERT on a specific task, the authors recommend a batch\n",
    "# size of 16 or 32\n",
    "batch_size = 16"
   ]
  },
  {
   "cell_type": "markdown",
   "id": "d2333af7",
   "metadata": {
    "id": "CI7oaf4YzFqP",
    "papermill": {
     "duration": 0.014418,
     "end_time": "2023-06-21T16:23:43.941959",
     "exception": false,
     "start_time": "2023-06-21T16:23:43.927541",
     "status": "completed"
    },
    "tags": []
   },
   "source": [
    "### Load the labeld dataset"
   ]
  },
  {
   "cell_type": "code",
   "execution_count": null,
   "id": "54ef85e3",
   "metadata": {
    "execution": {
     "iopub.execute_input": "2023-06-21T16:23:43.972654Z",
     "iopub.status.busy": "2023-06-21T16:23:43.971807Z",
     "iopub.status.idle": "2023-06-21T16:23:44.099613Z",
     "shell.execute_reply": "2023-06-21T16:23:44.098576Z"
    },
    "id": "oMnGf2UnxvRP",
    "outputId": "d18afe1d-987e-4132-f594-46832edfd61e",
    "papermill": {
     "duration": 0.145622,
     "end_time": "2023-06-21T16:23:44.102160",
     "exception": false,
     "start_time": "2023-06-21T16:23:43.956538",
     "status": "completed"
    },
    "tags": []
   },
   "outputs": [],
   "source": [
    "# Load the JSON file into a pandas DataFrame\n",
    "df = pd.read_json('../input/total-entries-labeled-processed/total_entries_labeled_processed.json')\n",
    "\n",
    "# Report the number of sentences\n",
    "print('Number of sentences: {:,}\\n'.format(df.shape[0]))\n",
    "\n",
    "# Display 5 random rows from the data\n",
    "df.sample(5)"
   ]
  },
  {
   "cell_type": "markdown",
   "id": "2aafaf84",
   "metadata": {
    "id": "QYCUkIdiYMXd",
    "papermill": {
     "duration": 0.015233,
     "end_time": "2023-06-21T16:23:44.132467",
     "exception": false,
     "start_time": "2023-06-21T16:23:44.117234",
     "status": "completed"
    },
    "tags": []
   },
   "source": [
    "### Split train - validation - test sets"
   ]
  },
  {
   "cell_type": "code",
   "execution_count": null,
   "id": "51e44fba",
   "metadata": {
    "execution": {
     "iopub.execute_input": "2023-06-21T16:23:44.163732Z",
     "iopub.status.busy": "2023-06-21T16:23:44.162966Z",
     "iopub.status.idle": "2023-06-21T16:23:44.176420Z",
     "shell.execute_reply": "2023-06-21T16:23:44.175552Z"
    },
    "id": "0oElO2o6VaR0",
    "outputId": "7561ab75-9080-4480-ded0-d6b52b160387",
    "papermill": {
     "duration": 0.031128,
     "end_time": "2023-06-21T16:23:44.178465",
     "exception": false,
     "start_time": "2023-06-21T16:23:44.147337",
     "status": "completed"
    },
    "tags": []
   },
   "outputs": [],
   "source": [
    "# Split the features and labels using stratified sampling\n",
    "features_train, features_val_test, labels_train, labels_val_test = train_test_split(\n",
    "    df['processedContent'],      # Features\n",
    "    df['CTIrelevant'],           # Labels\n",
    "    test_size=0.3,               # 30% for validation and test combined\n",
    "    stratify=df['CTIrelevant'],  # Stratified sampling based on labels\n",
    "    random_state=seed_val        # Set a random seed for reproducibility\n",
    ")\n",
    "\n",
    "# Split the validation and test sets\n",
    "features_val, features_test, labels_val, labels_test = train_test_split(\n",
    "    features_val_test, labels_val_test,\n",
    "    test_size=0.333,             # Split remaining 30% into 20% for validation and 10% for test\n",
    "    stratify=labels_val_test,    # Stratified sampling based on labels\n",
    "    random_state=seed_val        # Set a random seed for reproducibility\n",
    ")\n",
    "\n",
    "# Create dataframes for each split\n",
    "df_train = df.loc[features_train.index]\n",
    "df_val = df.loc[features_val.index]\n",
    "df_test = df.loc[features_test.index]"
   ]
  },
  {
   "cell_type": "code",
   "execution_count": null,
   "id": "f52f97ee",
   "metadata": {
    "execution": {
     "iopub.execute_input": "2023-06-21T16:23:44.210904Z",
     "iopub.status.busy": "2023-06-21T16:23:44.210356Z",
     "iopub.status.idle": "2023-06-21T16:23:44.219877Z",
     "shell.execute_reply": "2023-06-21T16:23:44.218828Z"
    },
    "papermill": {
     "duration": 0.027436,
     "end_time": "2023-06-21T16:23:44.222036",
     "exception": false,
     "start_time": "2023-06-21T16:23:44.194600",
     "status": "completed"
    },
    "tags": []
   },
   "outputs": [],
   "source": [
    "# Reset indices for features and labels\n",
    "df_train = df_train.reset_index()\n",
    "df_val = df_val.reset_index()\n",
    "df_test = df_test.reset_index()\n",
    "\n",
    "features_train = features_train.reset_index(drop=True)\n",
    "features_val = features_val.reset_index(drop=True)\n",
    "features_test = features_test.reset_index(drop=True)\n",
    "labels_train = labels_train.reset_index(drop=True)\n",
    "labels_val = labels_val.reset_index(drop=True)\n",
    "labels_test = labels_test.reset_index(drop=True)\n",
    "\n",
    "# Print the number of samples in each set\n",
    "print('Training samples:', len(features_train))\n",
    "print('Validation samples:', len(features_val))\n",
    "print('Test samples:', len(features_test))"
   ]
  },
  {
   "cell_type": "markdown",
   "id": "9b8482dc",
   "metadata": {
    "id": "Qj5_yK8w-dqk",
    "papermill": {
     "duration": 0.014773,
     "end_time": "2023-06-21T16:23:44.251962",
     "exception": false,
     "start_time": "2023-06-21T16:23:44.237189",
     "status": "completed"
    },
    "tags": []
   },
   "source": [
    "### BERT Tokenizer"
   ]
  },
  {
   "cell_type": "code",
   "execution_count": null,
   "id": "756efffb",
   "metadata": {
    "execution": {
     "iopub.execute_input": "2023-06-21T16:23:44.283760Z",
     "iopub.status.busy": "2023-06-21T16:23:44.283357Z",
     "iopub.status.idle": "2023-06-21T16:23:47.629495Z",
     "shell.execute_reply": "2023-06-21T16:23:47.628666Z"
    },
    "id": "eXy4FB-E_By_",
    "outputId": "f5b5fb56-38bb-4b72-85d8-b042de9441aa",
    "papermill": {
     "duration": 3.364129,
     "end_time": "2023-06-21T16:23:47.631489",
     "exception": false,
     "start_time": "2023-06-21T16:23:44.267360",
     "status": "completed"
    },
    "tags": []
   },
   "outputs": [],
   "source": [
    "# Load the BERT tokenizer\n",
    "tokenizer = BertTokenizer.from_pretrained('bert-base-uncased', do_lower_case=True)"
   ]
  },
  {
   "cell_type": "markdown",
   "id": "8bcc5b5e",
   "metadata": {
    "papermill": {
     "duration": 0.015622,
     "end_time": "2023-06-21T16:23:47.663051",
     "exception": false,
     "start_time": "2023-06-21T16:23:47.647429",
     "status": "completed"
    },
    "tags": []
   },
   "source": [
    "### Inspect possible number of tokens"
   ]
  },
  {
   "cell_type": "code",
   "execution_count": null,
   "id": "c2fc2efe",
   "metadata": {
    "execution": {
     "iopub.execute_input": "2023-06-21T16:23:47.695747Z",
     "iopub.status.busy": "2023-06-21T16:23:47.694862Z",
     "iopub.status.idle": "2023-06-21T16:23:55.591893Z",
     "shell.execute_reply": "2023-06-21T16:23:55.590978Z"
    },
    "papermill": {
     "duration": 7.915376,
     "end_time": "2023-06-21T16:23:55.593867",
     "exception": false,
     "start_time": "2023-06-21T16:23:47.678491",
     "status": "completed"
    },
    "tags": []
   },
   "outputs": [],
   "source": [
    "# Get length of all the messages in the dataset\n",
    "seq_len = [len(tokenizer.tokenize(i)) for i in df['processedContent']]\n",
    "\n",
    "plt.rcParams[\"figure.figsize\"] = (12,6)\n",
    "\n",
    "pd.Series(seq_len).hist(bins = 30)\n",
    "\n",
    "# Display the histogram\n",
    "plt.show()"
   ]
  },
  {
   "cell_type": "code",
   "execution_count": null,
   "id": "ea0b176c",
   "metadata": {
    "execution": {
     "iopub.execute_input": "2023-06-21T16:23:55.629437Z",
     "iopub.status.busy": "2023-06-21T16:23:55.627793Z",
     "iopub.status.idle": "2023-06-21T16:23:55.934339Z",
     "shell.execute_reply": "2023-06-21T16:23:55.933414Z"
    },
    "papermill": {
     "duration": 0.32631,
     "end_time": "2023-06-21T16:23:55.936468",
     "exception": false,
     "start_time": "2023-06-21T16:23:55.610158",
     "status": "completed"
    },
    "tags": []
   },
   "outputs": [],
   "source": [
    "# More specifically...\n",
    "filtered_seq_len = [length for length in seq_len if length < 500]\n",
    "\n",
    "# Plot the histogram for filtered_seq_len\n",
    "pd.Series(filtered_seq_len).hist(bins=30)\n",
    "\n",
    "# Display the histogram\n",
    "plt.show()"
   ]
  },
  {
   "cell_type": "code",
   "execution_count": null,
   "id": "5a177963",
   "metadata": {
    "execution": {
     "iopub.execute_input": "2023-06-21T16:23:55.973951Z",
     "iopub.status.busy": "2023-06-21T16:23:55.973105Z",
     "iopub.status.idle": "2023-06-21T16:23:55.981370Z",
     "shell.execute_reply": "2023-06-21T16:23:55.980213Z"
    },
    "id": "_TEZ2zVB_PX8",
    "outputId": "870550dd-672d-4052-a5ec-237121b7ca4b",
    "papermill": {
     "duration": 0.029056,
     "end_time": "2023-06-21T16:23:55.983470",
     "exception": false,
     "start_time": "2023-06-21T16:23:55.954414",
     "status": "completed"
    },
    "tags": []
   },
   "outputs": [],
   "source": [
    "# Example of sentence\n",
    "sentence = features_train[0]\n",
    "\n",
    "# Print the original sentence\n",
    "print(' Original: ', sentence)\n",
    "\n",
    "# Print the sentence split into tokens\n",
    "print('Tokenized: ', tokenizer.tokenize(sentence))\n",
    "\n",
    "# Print the sentence mapped to token ids\n",
    "print('Token IDs: ', tokenizer.convert_tokens_to_ids(tokenizer.tokenize(sentence)))"
   ]
  },
  {
   "cell_type": "markdown",
   "id": "6bececbe",
   "metadata": {
    "papermill": {
     "duration": 0.017386,
     "end_time": "2023-06-21T16:23:56.018388",
     "exception": false,
     "start_time": "2023-06-21T16:23:56.001002",
     "status": "completed"
    },
    "tags": []
   },
   "source": [
    "### Tokenize train set"
   ]
  },
  {
   "cell_type": "code",
   "execution_count": null,
   "id": "9b80aacf",
   "metadata": {
    "execution": {
     "iopub.execute_input": "2023-06-21T16:23:56.054947Z",
     "iopub.status.busy": "2023-06-21T16:23:56.054090Z",
     "iopub.status.idle": "2023-06-21T16:24:02.233483Z",
     "shell.execute_reply": "2023-06-21T16:24:02.232566Z"
    },
    "id": "xPUsWv7qEJXM",
    "outputId": "905891c0-b6bb-4ba5-86d4-91a2bd72c223",
    "papermill": {
     "duration": 6.200233,
     "end_time": "2023-06-21T16:24:02.236383",
     "exception": false,
     "start_time": "2023-06-21T16:23:56.036150",
     "status": "completed"
    },
    "tags": []
   },
   "outputs": [],
   "source": [
    "# Tokenize all of the sentences and map the tokens to thier word IDs\n",
    "input_ids = []\n",
    "attention_masks = []\n",
    "\n",
    "# For every sentence...\n",
    "for sample in features_train:\n",
    "    # `encode_plus` will:\n",
    "    #   (1) Tokenize the sentence\n",
    "    #   (2) Prepend the `[CLS]` token to the start\n",
    "    #   (3) Append the `[SEP]` token to the end\n",
    "    #   (4) Map tokens to their IDs\n",
    "    #   (5) Pad or truncate the sentence to `max_length`\n",
    "    #   (6) Create attention masks for [PAD] tokens\n",
    "    encoded_dict = tokenizer.encode_plus(\n",
    "                        sample,                       # Sentence to encode\n",
    "                        add_special_tokens = True,    # Add '[CLS]' and '[SEP]'\n",
    "                        max_length = window_length,   # Pad & truncate all sentences\n",
    "                        pad_to_max_length = True,\n",
    "                        return_attention_mask = True, # Construct attn. masks\n",
    "                        return_tensors = 'pt',        # Return pytorch tensors\n",
    "                   )\n",
    "\n",
    "    # Add the encoded sentence to the list\n",
    "    input_ids.append(encoded_dict['input_ids'])\n",
    "\n",
    "    # And its attention mask (simply differentiates padding from non-padding)\n",
    "    attention_masks.append(encoded_dict['attention_mask'])\n",
    "\n",
    "# Convert the lists into tensors\n",
    "input_ids = torch.cat(input_ids, dim=0)\n",
    "attention_masks = torch.cat(attention_masks, dim=0)\n",
    "labels = torch.tensor(labels_train)\n",
    "\n",
    "# Print sentence 0, now as a list of IDs\n",
    "print('Original: ', features_train[0])\n",
    "print('Tokenized: ', tokenizer.tokenize(features_train[0]))\n",
    "print('Token IDs:', input_ids[0])"
   ]
  },
  {
   "cell_type": "code",
   "execution_count": null,
   "id": "14611229",
   "metadata": {
    "execution": {
     "iopub.execute_input": "2023-06-21T16:24:02.271070Z",
     "iopub.status.busy": "2023-06-21T16:24:02.270767Z",
     "iopub.status.idle": "2023-06-21T16:24:02.275833Z",
     "shell.execute_reply": "2023-06-21T16:24:02.274926Z"
    },
    "papermill": {
     "duration": 0.024981,
     "end_time": "2023-06-21T16:24:02.278261",
     "exception": false,
     "start_time": "2023-06-21T16:24:02.253280",
     "status": "completed"
    },
    "tags": []
   },
   "outputs": [],
   "source": [
    "# Combine the training inputs into a TensorDataset\n",
    "train_dataset = TensorDataset(input_ids, attention_masks, labels)\n",
    "\n",
    "# Print the number of samples in the set\n",
    "print('{:>5,} training samples'.format(len(train_dataset)))"
   ]
  },
  {
   "cell_type": "code",
   "execution_count": null,
   "id": "dd146895",
   "metadata": {
    "execution": {
     "iopub.execute_input": "2023-06-21T16:24:02.313433Z",
     "iopub.status.busy": "2023-06-21T16:24:02.312605Z",
     "iopub.status.idle": "2023-06-21T16:24:02.318430Z",
     "shell.execute_reply": "2023-06-21T16:24:02.317394Z"
    },
    "papermill": {
     "duration": 0.025349,
     "end_time": "2023-06-21T16:24:02.320355",
     "exception": false,
     "start_time": "2023-06-21T16:24:02.295006",
     "status": "completed"
    },
    "tags": []
   },
   "outputs": [],
   "source": [
    "# Create an iterator for the dataset using the torch DataLoader class\n",
    "\n",
    "# Create the DataLoaders for the training set\n",
    "# Take training samples in random order\n",
    "train_dataloader = DataLoader(\n",
    "            train_dataset,                          # The training samples\n",
    "            sampler = RandomSampler(train_dataset), # Select batches randomly\n",
    "            batch_size = batch_size                 # Trains with this batch size\n",
    "        )"
   ]
  },
  {
   "cell_type": "markdown",
   "id": "d1cd4a2b",
   "metadata": {
    "id": "t49i5pw5FCWf",
    "papermill": {
     "duration": 0.01628,
     "end_time": "2023-06-21T16:24:02.353045",
     "exception": false,
     "start_time": "2023-06-21T16:24:02.336765",
     "status": "completed"
    },
    "tags": []
   },
   "source": [
    "### Tokenize validation set"
   ]
  },
  {
   "cell_type": "code",
   "execution_count": null,
   "id": "ca71b7de",
   "metadata": {
    "execution": {
     "iopub.execute_input": "2023-06-21T16:24:02.387604Z",
     "iopub.status.busy": "2023-06-21T16:24:02.386779Z",
     "iopub.status.idle": "2023-06-21T16:24:03.970906Z",
     "shell.execute_reply": "2023-06-21T16:24:03.969955Z"
    },
    "id": "wdzIm7wnFFhP",
    "outputId": "a608f963-3cdb-431f-9587-c337508ed5e2",
    "papermill": {
     "duration": 1.603537,
     "end_time": "2023-06-21T16:24:03.972989",
     "exception": false,
     "start_time": "2023-06-21T16:24:02.369452",
     "status": "completed"
    },
    "tags": []
   },
   "outputs": [],
   "source": [
    "# Tokenize all of the sentences and map the tokens to thier word IDs\n",
    "input_ids = []\n",
    "attention_masks = []\n",
    "\n",
    "# For every sentence...\n",
    "for sample in features_val:\n",
    "    # `encode_plus` will:\n",
    "    #   (1) Tokenize the sentence\n",
    "    #   (2) Prepend the `[CLS]` token to the start\n",
    "    #   (3) Append the `[SEP]` token to the end\n",
    "    #   (4) Map tokens to their IDs\n",
    "    #   (5) Pad or truncate the sentence to `max_length`\n",
    "    #   (6) Create attention masks for [PAD] tokens\n",
    "    encoded_dict = tokenizer.encode_plus(\n",
    "                        sample,                       # Sentence to encode\n",
    "                        add_special_tokens = True,    # Add '[CLS]' and '[SEP]'\n",
    "                        max_length = window_length,   # Pad & truncate all sentences\n",
    "                        pad_to_max_length = True,\n",
    "                        return_attention_mask = True, # Construct attn. masks\n",
    "                        return_tensors = 'pt',        # Return pytorch tensors\n",
    "                   )\n",
    "\n",
    "    # Add the encoded sentence to the list\n",
    "    input_ids.append(encoded_dict['input_ids'])\n",
    "\n",
    "    # And its attention mask (simply differentiates padding from non-padding)\n",
    "    attention_masks.append(encoded_dict['attention_mask'])\n",
    "\n",
    "# Convert the lists into tensors\n",
    "input_ids = torch.cat(input_ids, dim=0)\n",
    "attention_masks = torch.cat(attention_masks, dim=0)\n",
    "labels = torch.tensor(labels_val)\n",
    "\n",
    "# Print sentence 0, now as a list of IDs\n",
    "print('Original: ', features_val[0])\n",
    "print('Tokenized: ', tokenizer.tokenize(features_val[0]))\n",
    "print('Token IDs:', input_ids[0])"
   ]
  },
  {
   "cell_type": "code",
   "execution_count": null,
   "id": "0168e494",
   "metadata": {
    "execution": {
     "iopub.execute_input": "2023-06-21T16:24:04.008795Z",
     "iopub.status.busy": "2023-06-21T16:24:04.008470Z",
     "iopub.status.idle": "2023-06-21T16:24:04.013859Z",
     "shell.execute_reply": "2023-06-21T16:24:04.012921Z"
    },
    "id": "tVvJ7tIFM7-_",
    "papermill": {
     "duration": 0.026164,
     "end_time": "2023-06-21T16:24:04.016388",
     "exception": false,
     "start_time": "2023-06-21T16:24:03.990224",
     "status": "completed"
    },
    "tags": []
   },
   "outputs": [],
   "source": [
    "# Combine the validation inputs into a TensorDataset\n",
    "val_dataset = TensorDataset(input_ids, attention_masks, labels)\n",
    "\n",
    "# Print the number of samples in the set\n",
    "print('{:>5,} validation samples'.format(len(val_dataset)))"
   ]
  },
  {
   "cell_type": "code",
   "execution_count": null,
   "id": "0bf97d56",
   "metadata": {
    "execution": {
     "iopub.execute_input": "2023-06-21T16:24:04.052262Z",
     "iopub.status.busy": "2023-06-21T16:24:04.051494Z",
     "iopub.status.idle": "2023-06-21T16:24:04.056525Z",
     "shell.execute_reply": "2023-06-21T16:24:04.055699Z"
    },
    "papermill": {
     "duration": 0.024682,
     "end_time": "2023-06-21T16:24:04.058485",
     "exception": false,
     "start_time": "2023-06-21T16:24:04.033803",
     "status": "completed"
    },
    "tags": []
   },
   "outputs": [],
   "source": [
    "# Create an iterator for the dataset using the torch DataLoader class\n",
    "\n",
    "# For validation the order doesn't matter, so read them sequentially\n",
    "validation_dataloader = DataLoader(\n",
    "            val_dataset,                              # The validation samples\n",
    "            sampler = SequentialSampler(val_dataset), # Pull out batches sequentially\n",
    "            batch_size = batch_size                   # Evaluate with this batch size\n",
    "        )"
   ]
  },
  {
   "cell_type": "markdown",
   "id": "12b6747b",
   "metadata": {
    "id": "Vdw9BqKrOuYW",
    "papermill": {
     "duration": 0.016817,
     "end_time": "2023-06-21T16:24:04.092289",
     "exception": false,
     "start_time": "2023-06-21T16:24:04.075472",
     "status": "completed"
    },
    "tags": []
   },
   "source": [
    "### Train Classification Model"
   ]
  },
  {
   "cell_type": "code",
   "execution_count": null,
   "id": "516f52c3",
   "metadata": {
    "execution": {
     "iopub.execute_input": "2023-06-21T16:24:04.127586Z",
     "iopub.status.busy": "2023-06-21T16:24:04.126825Z",
     "iopub.status.idle": "2023-06-21T16:24:22.397265Z",
     "shell.execute_reply": "2023-06-21T16:24:22.396052Z"
    },
    "id": "edhGTqsmOxjr",
    "outputId": "f63c0862-67b1-498e-f270-52ed3e767b92",
    "papermill": {
     "duration": 18.290631,
     "end_time": "2023-06-21T16:24:22.399744",
     "exception": false,
     "start_time": "2023-06-21T16:24:04.109113",
     "status": "completed"
    },
    "tags": []
   },
   "outputs": [],
   "source": [
    "# Load BertForSequenceClassification, the pretrained BERT model with a single\n",
    "# linear classification layer on top\n",
    "model = BertForSequenceClassification.from_pretrained(\n",
    "    \"bert-base-uncased\",          # Use the 12-layer BERT model, with an uncased vocab\n",
    "    num_labels = 2,               # The number of output labels, 2 for binary classification\n",
    "    output_attentions = False,    # Whether the model returns attentions weights\n",
    "    output_hidden_states = False, # Whether the model returns all hidden-states\n",
    ")\n",
    "\n",
    "# Tell pytorch to run this model on the GPU\n",
    "model.cuda()"
   ]
  },
  {
   "cell_type": "code",
   "execution_count": null,
   "id": "45891ed0",
   "metadata": {
    "execution": {
     "iopub.execute_input": "2023-06-21T16:24:22.436239Z",
     "iopub.status.busy": "2023-06-21T16:24:22.435949Z",
     "iopub.status.idle": "2023-06-21T16:24:22.445654Z",
     "shell.execute_reply": "2023-06-21T16:24:22.444651Z"
    },
    "id": "J5V6b1hNPYsb",
    "outputId": "8ecc9b8b-83e9-4948-e64f-465beb218f00",
    "papermill": {
     "duration": 0.030715,
     "end_time": "2023-06-21T16:24:22.448083",
     "exception": false,
     "start_time": "2023-06-21T16:24:22.417368",
     "status": "completed"
    },
    "tags": []
   },
   "outputs": [],
   "source": [
    "# Note: AdamW is a class from the huggingface library (as opposed to pytorch)\n",
    "optimizer = AdamW(model.parameters(),\n",
    "                  lr = 2e-5, # args.learning_rate - default is 5e-5\n",
    "                  eps = 1e-8 # args.adam_epsilon  - default is 1e-8\n",
    "                )"
   ]
  },
  {
   "cell_type": "code",
   "execution_count": null,
   "id": "6cf46c81",
   "metadata": {
    "execution": {
     "iopub.execute_input": "2023-06-21T16:24:22.485608Z",
     "iopub.status.busy": "2023-06-21T16:24:22.483979Z",
     "iopub.status.idle": "2023-06-21T16:24:22.489536Z",
     "shell.execute_reply": "2023-06-21T16:24:22.488649Z"
    },
    "id": "c6cemYHRPb5C",
    "papermill": {
     "duration": 0.026192,
     "end_time": "2023-06-21T16:24:22.491598",
     "exception": false,
     "start_time": "2023-06-21T16:24:22.465406",
     "status": "completed"
    },
    "tags": []
   },
   "outputs": [],
   "source": [
    "# Total number of training steps is [number of batches] x [number of epochs]\n",
    "# (This is not the same as the number of training samples)\n",
    "total_steps = len(train_dataloader) * epochs\n",
    "\n",
    "# Create the learning rate scheduler\n",
    "scheduler = get_linear_schedule_with_warmup(optimizer,\n",
    "                                            num_warmup_steps = 0, # Default value in run_glue.py\n",
    "                                            num_training_steps = total_steps)"
   ]
  },
  {
   "cell_type": "code",
   "execution_count": null,
   "id": "7246442d",
   "metadata": {
    "execution": {
     "iopub.execute_input": "2023-06-21T16:24:22.527412Z",
     "iopub.status.busy": "2023-06-21T16:24:22.527147Z",
     "iopub.status.idle": "2023-06-21T16:24:22.533030Z",
     "shell.execute_reply": "2023-06-21T16:24:22.532151Z"
    },
    "id": "fRuxeVmbPpJ1",
    "papermill": {
     "duration": 0.026091,
     "end_time": "2023-06-21T16:24:22.534999",
     "exception": false,
     "start_time": "2023-06-21T16:24:22.508908",
     "status": "completed"
    },
    "tags": []
   },
   "outputs": [],
   "source": [
    "# Helper function for calculating accuracy\n",
    "\n",
    "# Function to calculate the accuracy of the predictions vs labels\n",
    "def flat_accuracy(preds, labels):\n",
    "    pred_flat = np.argmax(preds, axis=1).flatten()\n",
    "    labels_flat = labels.flatten()\n",
    "    return np.sum(pred_flat == labels_flat) / len(labels_flat)"
   ]
  },
  {
   "cell_type": "code",
   "execution_count": null,
   "id": "76a7aec0",
   "metadata": {
    "execution": {
     "iopub.execute_input": "2023-06-21T16:24:22.570471Z",
     "iopub.status.busy": "2023-06-21T16:24:22.570205Z",
     "iopub.status.idle": "2023-06-21T16:24:22.575304Z",
     "shell.execute_reply": "2023-06-21T16:24:22.574295Z"
    },
    "id": "RDn4EuLTPuMr",
    "papermill": {
     "duration": 0.025364,
     "end_time": "2023-06-21T16:24:22.577551",
     "exception": false,
     "start_time": "2023-06-21T16:24:22.552187",
     "status": "completed"
    },
    "tags": []
   },
   "outputs": [],
   "source": [
    "# Helper function for formatting elapsed times as hh:mm:ss\n",
    "\n",
    "def format_time(elapsed):\n",
    "    '''\n",
    "    Takes a time in seconds and returns a string hh:mm:ss\n",
    "    '''\n",
    "    # Round to the nearest second\n",
    "    elapsed_rounded = int(round((elapsed)))\n",
    "\n",
    "    # Format as hh:mm:ss\n",
    "    return str(datetime.timedelta(seconds=elapsed_rounded))"
   ]
  },
  {
   "cell_type": "code",
   "execution_count": null,
   "id": "759c0bfb",
   "metadata": {
    "execution": {
     "iopub.execute_input": "2023-06-21T16:24:22.613736Z",
     "iopub.status.busy": "2023-06-21T16:24:22.613462Z",
     "iopub.status.idle": "2023-06-21T16:27:38.221709Z",
     "shell.execute_reply": "2023-06-21T16:27:38.220587Z"
    },
    "id": "7IujE0eqP2_S",
    "outputId": "bddc2a8e-cb1a-4f42-b211-735bbfed4119",
    "papermill": {
     "duration": 195.629144,
     "end_time": "2023-06-21T16:27:38.224078",
     "exception": false,
     "start_time": "2023-06-21T16:24:22.594934",
     "status": "completed"
    },
    "tags": []
   },
   "outputs": [],
   "source": [
    "random.seed(seed_val)\n",
    "np.random.seed(seed_val)\n",
    "torch.manual_seed(seed_val)\n",
    "torch.cuda.manual_seed_all(seed_val)\n",
    "\n",
    "# We'll store a number of quantities such as training and validation loss,\n",
    "# validation accuracy, and timings\n",
    "training_stats = []\n",
    "\n",
    "# Measure the total training time for the whole run\n",
    "total_t0 = time.time()\n",
    "\n",
    "# For each epoch...\n",
    "for epoch_i in range(0, epochs):\n",
    "\n",
    "    # ========================================\n",
    "    #               Training\n",
    "    # ========================================\n",
    "\n",
    "    # Perform one full pass over the training set\n",
    "\n",
    "    print(\"\")\n",
    "    print('======== Epoch {:} / {:} ========'.format(epoch_i + 1, epochs))\n",
    "    print('Training...')\n",
    "\n",
    "    # Measure how long the training epoch takes\n",
    "    t0 = time.time()\n",
    "\n",
    "    # Reset the total loss for this epoch\n",
    "    total_train_loss = 0\n",
    "\n",
    "    # Put the model into training mode. Don't be mislead--the call to\n",
    "    # `train` just changes the *mode*, it doesn't *perform* the training.\n",
    "    # `dropout` and `batchnorm` layers behave differently during training\n",
    "    # vs. test (source: https://stackoverflow.com/questions/51433378/what-does-model-train-do-in-pytorch)\n",
    "    model.train()\n",
    "\n",
    "    # For each batch of training data...\n",
    "    for step, batch in enumerate(train_dataloader):\n",
    "\n",
    "        # Progress update every 40 batches\n",
    "        if step % 40 == 0 and not step == 0:\n",
    "            # Calculate elapsed time in minutes\n",
    "            elapsed = format_time(time.time() - t0)\n",
    "\n",
    "            # Report progress\n",
    "            print('  Batch {:>5,}  of  {:>5,}.    Elapsed: {:}.'.format(step, len(train_dataloader), elapsed))\n",
    "\n",
    "        # Unpack this training batch from the dataloader\n",
    "        #\n",
    "        # Also copy each tensor to the GPU using the\n",
    "        # `to` method\n",
    "        #\n",
    "        # `batch` contains three pytorch tensors:\n",
    "        #   [0]: input ids\n",
    "        #   [1]: attention masks\n",
    "        #   [2]: labels\n",
    "\n",
    "        b_input_ids = batch[0].to(device)\n",
    "        b_input_mask = batch[1].to(device)\n",
    "        b_labels = batch[2].to(device)\n",
    "\n",
    "\n",
    "        # Always clear any previously calculated gradients before performing a\n",
    "        # backward pass. PyTorch doesn't do this automatically because\n",
    "        # accumulating the gradients is \"convenient while training RNNs\".\n",
    "        # (source: https://stackoverflow.com/questions/48001598/why-do-we-need-to-call-zero-grad-in-pytorch)\n",
    "        model.zero_grad()\n",
    "\n",
    "        # Perform a forward pass (evaluate the model on this training batch).\n",
    "        # The documentation for this `model` function is here:\n",
    "        # https://huggingface.co/transformers/v2.2.0/model_doc/bert.html#transformers.BertForSequenceClassification\n",
    "        # It returns different numbers of parameters depending on what arguments\n",
    "        # arge given and what flags are set. For the useage here, it returns\n",
    "        # the loss (because labels are provided) and the \"logits\"--the model\n",
    "        # outputs prior to activation\n",
    "\n",
    "        result = model(b_input_ids,\n",
    "                       token_type_ids=None,\n",
    "                       attention_mask=b_input_mask,\n",
    "                       labels=b_labels,\n",
    "                       return_dict=True)\n",
    "\n",
    "        loss = result.loss\n",
    "        logits = result.logits\n",
    "\n",
    "        # Accumulate the training loss over all of the batches so that it's possible to\n",
    "        # calculate the average loss at the end. `loss` is a Tensor containing a\n",
    "        # single value; the `.item()` function just returns the Python value\n",
    "        # from the tensor\n",
    "        total_train_loss += loss.item()\n",
    "\n",
    "        # Perform a backward pass to calculate the gradients\n",
    "        loss.backward()\n",
    "\n",
    "        # Clip the norm of the gradients to 1.0.\n",
    "        # This is to help prevent the \"exploding gradients\" problem\n",
    "        torch.nn.utils.clip_grad_norm_(model.parameters(), 1.0)\n",
    "\n",
    "        # Update parameters and take a step using the computed gradient.\n",
    "        # The optimizer dictates the \"update rule\"--how the parameters are\n",
    "        # modified based on their gradients, the learning rate, etc\n",
    "        optimizer.step()\n",
    "\n",
    "        # Update the learning rate\n",
    "        scheduler.step()\n",
    "\n",
    "    # Calculate the average loss over all of the batches\n",
    "    avg_train_loss = total_train_loss / len(train_dataloader)\n",
    "\n",
    "    # Measure how long this epoch took\n",
    "    training_time = format_time(time.time() - t0)\n",
    "\n",
    "    print(\"\")\n",
    "    print(\"  Average training loss: {0:.2f}\".format(avg_train_loss))\n",
    "    print(\"  Training epcoh took: {:}\".format(training_time))\n",
    "\n",
    "    # ========================================\n",
    "    #               Validation\n",
    "    # ========================================\n",
    "    # After the completion of each training epoch, measure the performance on\n",
    "    # the validation set\n",
    "\n",
    "    print(\"\")\n",
    "    print(\"Running Validation...\")\n",
    "\n",
    "    t0 = time.time()\n",
    "\n",
    "    # Put the model in evaluation mode--the dropout layers behave differently\n",
    "    # during evaluation\n",
    "    model.eval()\n",
    "\n",
    "    # Tracking variables\n",
    "    total_eval_accuracy = 0\n",
    "    total_eval_loss = 0\n",
    "    nb_eval_steps = 0\n",
    "    best_eval_loss = 1\n",
    "\n",
    "    # Evaluate data for one epoch\n",
    "    for batch in validation_dataloader:\n",
    "\n",
    "        # Unpack this training batch from our dataloader\n",
    "        #\n",
    "        # Also copy each tensor to the GPU using\n",
    "        # the `to` method\n",
    "        #\n",
    "        # `batch` contains three pytorch tensors:\n",
    "        #   [0]: input ids\n",
    "        #   [1]: attention masks\n",
    "        #   [2]: labels\n",
    "        b_input_ids = batch[0].to(device)\n",
    "        b_input_mask = batch[1].to(device)\n",
    "        b_labels = batch[2].to(device)\n",
    "\n",
    "        # Tell pytorch not to bother with constructing the compute graph during\n",
    "        # the forward pass, since this is only needed for backprop (training)\n",
    "        with torch.no_grad():\n",
    "\n",
    "            # Forward pass, calculate logit predictions.\n",
    "            # token_type_ids is the same as the \"segment ids\", which\n",
    "            # differentiates sentence 1 and 2 in 2-sentence tasks.\n",
    "            # The documentation for this `model` function is here:\n",
    "            # https://huggingface.co/transformers/v2.2.0/model_doc/bert.html#transformers.BertForSequenceClassification\n",
    "            # Get the \"logits\" output by the model. The \"logits\" are the output\n",
    "            # values prior to applying an activation function like the softmax\n",
    "            result = model(b_input_ids,\n",
    "                           token_type_ids=None,\n",
    "                           attention_mask=b_input_mask,\n",
    "                           labels=b_labels,\n",
    "                           return_dict=True)\n",
    "\n",
    "\n",
    "        loss = result.loss\n",
    "        logits = result.logits\n",
    "\n",
    "        # Accumulate the validation loss\n",
    "        total_eval_loss += loss.item()\n",
    "\n",
    "        # Move logits and labels to CPU\n",
    "        logits = logits.detach().cpu().numpy()\n",
    "        label_ids = b_labels.to('cpu').numpy()\n",
    "\n",
    "        # Calculate the accuracy for this batch of test sentences, and\n",
    "        # accumulate it over all batches\n",
    "        total_eval_accuracy += flat_accuracy(logits, label_ids)\n",
    "\n",
    "\n",
    "    # Report the final accuracy for this validation run\n",
    "    avg_val_accuracy = total_eval_accuracy / len(validation_dataloader)\n",
    "    print(\"  Accuracy: {0:.2f}\".format(avg_val_accuracy))\n",
    "\n",
    "    # Calculate the average loss over all of the batches\n",
    "    avg_val_loss = total_eval_loss / len(validation_dataloader)\n",
    "\n",
    "    # Measure how long the validation run took\n",
    "    validation_time = format_time(time.time() - t0)\n",
    "\n",
    "    print(\"  Validation Loss: {0:.2f}\".format(avg_val_loss))\n",
    "    print(\"  Validation took: {:}\".format(validation_time))\n",
    "    \n",
    "    \"\"\"if avg_val_accuracy > best_eval_accuracy:\n",
    "        torch.save(model, 'bert_model')\n",
    "        best_eval_accuracy = avg_val_accuracy\"\"\"\n",
    "    if avg_val_loss < best_eval_loss:\n",
    "        torch.save(model, 'bert_model')\n",
    "        best_eval_loss = avg_val_loss\n",
    "\n",
    "    # Record all statistics from this epoch\n",
    "    training_stats.append(\n",
    "        {\n",
    "            'epoch': epoch_i + 1,\n",
    "            'Training Loss': avg_train_loss,\n",
    "            'Valid. Loss': avg_val_loss,\n",
    "            'Valid. Accur.': avg_val_accuracy,\n",
    "            'Training Time': training_time,\n",
    "            'Validation Time': validation_time\n",
    "        }\n",
    "    )\n",
    "\n",
    "print(\"\")\n",
    "print(\"Training complete!\")\n",
    "\n",
    "print(\"Total training took {:} (h:mm:ss)\".format(format_time(time.time()-total_t0)))"
   ]
  },
  {
   "cell_type": "markdown",
   "id": "fea5f904",
   "metadata": {
    "papermill": {
     "duration": 0.018314,
     "end_time": "2023-06-21T16:27:38.261729",
     "exception": false,
     "start_time": "2023-06-21T16:27:38.243415",
     "status": "completed"
    },
    "tags": []
   },
   "source": [
    "### Training evaluation"
   ]
  },
  {
   "cell_type": "code",
   "execution_count": null,
   "id": "9d4c1ed6",
   "metadata": {
    "execution": {
     "iopub.execute_input": "2023-06-21T16:27:38.300733Z",
     "iopub.status.busy": "2023-06-21T16:27:38.300423Z",
     "iopub.status.idle": "2023-06-21T16:27:38.316235Z",
     "shell.execute_reply": "2023-06-21T16:27:38.315342Z"
    },
    "id": "6O_NbXFGMukX",
    "outputId": "598ee076-134a-4a97-8079-b0e353a85a97",
    "papermill": {
     "duration": 0.037884,
     "end_time": "2023-06-21T16:27:38.318543",
     "exception": false,
     "start_time": "2023-06-21T16:27:38.280659",
     "status": "completed"
    },
    "tags": []
   },
   "outputs": [],
   "source": [
    "# Summary of the training process\n",
    "\n",
    "# Display floats with two decimal places\n",
    "\n",
    "pd.reset_option('^display.')\n",
    "pd.set_option('display.precision', 2)\n",
    "\n",
    "# Create a DataFrame from the training statistics\n",
    "df_stats = pd.DataFrame(data=training_stats)\n",
    "\n",
    "# Use the 'epoch' as the row index\n",
    "df_stats = df_stats.set_index('epoch')\n",
    "\n",
    "# Display the table\n",
    "df_stats"
   ]
  },
  {
   "cell_type": "code",
   "execution_count": null,
   "id": "bbc7d08d",
   "metadata": {
    "execution": {
     "iopub.execute_input": "2023-06-21T16:27:38.358717Z",
     "iopub.status.busy": "2023-06-21T16:27:38.357888Z",
     "iopub.status.idle": "2023-06-21T16:27:38.720929Z",
     "shell.execute_reply": "2023-06-21T16:27:38.719949Z"
    },
    "id": "oBXl9wi2X8Sw",
    "outputId": "d1f0f1ea-cbdc-4e4e-aca2-0202ab100b72",
    "papermill": {
     "duration": 0.385166,
     "end_time": "2023-06-21T16:27:38.723325",
     "exception": false,
     "start_time": "2023-06-21T16:27:38.338159",
     "status": "completed"
    },
    "tags": []
   },
   "outputs": [],
   "source": [
    "# Use plot styling from seaborn\n",
    "sns.set(style='darkgrid')\n",
    "\n",
    "# Increase the plot size and font size\n",
    "sns.set(font_scale=1.5)\n",
    "plt.rcParams[\"figure.figsize\"] = (12,6)\n",
    "\n",
    "# Plot the learning curve\n",
    "plt.plot(df_stats['Training Loss'], 'b-o', label=\"Training\")\n",
    "plt.plot(df_stats['Valid. Loss'], 'g-o', label=\"Validation\")\n",
    "\n",
    "# Label the plot\n",
    "plt.title(\"Training & Validation Loss\")\n",
    "plt.xlabel(\"Epoch\")\n",
    "plt.ylabel(\"Loss\")\n",
    "plt.legend()\n",
    "plt.xticks([1, 2, 3, 4])\n",
    "\n",
    "plt.show()"
   ]
  },
  {
   "cell_type": "markdown",
   "id": "293280ea",
   "metadata": {
    "id": "N5qrPf-NXQmV",
    "papermill": {
     "duration": 0.019463,
     "end_time": "2023-06-21T16:27:38.763306",
     "exception": false,
     "start_time": "2023-06-21T16:27:38.743843",
     "status": "completed"
    },
    "tags": []
   },
   "source": [
    "### Performance On Test Set"
   ]
  },
  {
   "cell_type": "code",
   "execution_count": null,
   "id": "139a53ff",
   "metadata": {
    "execution": {
     "iopub.execute_input": "2023-06-21T16:27:38.809997Z",
     "iopub.status.busy": "2023-06-21T16:27:38.808317Z",
     "iopub.status.idle": "2023-06-21T16:27:39.142002Z",
     "shell.execute_reply": "2023-06-21T16:27:39.141023Z"
    },
    "papermill": {
     "duration": 0.361468,
     "end_time": "2023-06-21T16:27:39.144594",
     "exception": false,
     "start_time": "2023-06-21T16:27:38.783126",
     "status": "completed"
    },
    "tags": []
   },
   "outputs": [],
   "source": [
    "# Load best model\n",
    "model = torch.load('bert_model')"
   ]
  },
  {
   "cell_type": "code",
   "execution_count": null,
   "id": "8fabb186",
   "metadata": {
    "execution": {
     "iopub.execute_input": "2023-06-21T16:27:39.186587Z",
     "iopub.status.busy": "2023-06-21T16:27:39.186258Z",
     "iopub.status.idle": "2023-06-21T16:27:39.817392Z",
     "shell.execute_reply": "2023-06-21T16:27:39.816501Z"
    },
    "id": "F_6lRbSuXZYk",
    "outputId": "80eafb6d-e281-4bf0-98f2-cbe1c33b3be9",
    "papermill": {
     "duration": 0.65436,
     "end_time": "2023-06-21T16:27:39.819800",
     "exception": false,
     "start_time": "2023-06-21T16:27:39.165440",
     "status": "completed"
    },
    "tags": []
   },
   "outputs": [],
   "source": [
    "# Tokenize all of the sentences and map the tokens to thier word IDs.\n",
    "input_ids = []\n",
    "attention_masks = []\n",
    "\n",
    "# For every sentence...\n",
    "for sample in features_test:\n",
    "    # `encode_plus` will:\n",
    "    #   (1) Tokenize the sentence\n",
    "    #   (2) Prepend the `[CLS]` token to the start\n",
    "    #   (3) Append the `[SEP]` token to the end\n",
    "    #   (4) Map tokens to their IDs\n",
    "    #   (5) Pad or truncate the sentence to `max_length`\n",
    "    #   (6) Create attention masks for [PAD] tokens\n",
    "    encoded_dict = tokenizer.encode_plus(\n",
    "                        sample,                         # Sentence to encode\n",
    "                        add_special_tokens = True,      # Add '[CLS]' and '[SEP]'\n",
    "                        max_length = window_length,     # Pad & truncate all sentences\n",
    "                        pad_to_max_length = True,\n",
    "                        return_attention_mask = True,   # Construct attn. masks\n",
    "                        return_tensors = 'pt',          # Return pytorch tensors\n",
    "                   )\n",
    "\n",
    "    # Add the encoded sentence to the list\n",
    "    input_ids.append(encoded_dict['input_ids'])\n",
    "\n",
    "    # And its attention mask (simply differentiates padding from non-padding)\n",
    "    attention_masks.append(encoded_dict['attention_mask'])\n",
    "\n",
    "# Convert the lists into tensors\n",
    "input_ids = torch.cat(input_ids, dim=0)\n",
    "attention_masks = torch.cat(attention_masks, dim=0)\n",
    "labels = torch.tensor(labels_test)\n",
    "\n",
    "# Create the DataLoader\n",
    "prediction_data = TensorDataset(input_ids, attention_masks, labels)\n",
    "prediction_sampler = SequentialSampler(prediction_data)\n",
    "prediction_dataloader = DataLoader(prediction_data, sampler=prediction_sampler, batch_size=batch_size)"
   ]
  },
  {
   "cell_type": "code",
   "execution_count": null,
   "id": "aaee9850",
   "metadata": {
    "execution": {
     "iopub.execute_input": "2023-06-21T16:27:39.861749Z",
     "iopub.status.busy": "2023-06-21T16:27:39.861434Z",
     "iopub.status.idle": "2023-06-21T16:27:41.952128Z",
     "shell.execute_reply": "2023-06-21T16:27:41.950684Z"
    },
    "id": "YLak2zd_YYZi",
    "outputId": "12cb3821-2b6f-4a58-cf8b-c456d4989a3f",
    "papermill": {
     "duration": 2.113968,
     "end_time": "2023-06-21T16:27:41.954225",
     "exception": false,
     "start_time": "2023-06-21T16:27:39.840257",
     "status": "completed"
    },
    "tags": []
   },
   "outputs": [],
   "source": [
    "# Prediction on test set\n",
    "\n",
    "print('Predicting labels for {:,} test sentences...'.format(len(input_ids)))\n",
    "\n",
    "# Put model in evaluation mode\n",
    "model.eval()\n",
    "\n",
    "# Tracking variables\n",
    "predictions , true_labels = [], []\n",
    "\n",
    "# Predict\n",
    "for batch in prediction_dataloader:\n",
    "    # Add batch to GPU\n",
    "    batch = tuple(t.to(device) for t in batch)\n",
    "\n",
    "    # Unpack the inputs from the dataloader\n",
    "    b_input_ids, b_input_mask, b_labels = batch\n",
    "\n",
    "    # Telling the model not to compute or store gradients, saving memory and\n",
    "    # speeding up prediction\n",
    "    with torch.no_grad():\n",
    "      # Forward pass, calculate logit predictions\n",
    "      result = model(b_input_ids,\n",
    "                     token_type_ids=None,\n",
    "                     attention_mask=b_input_mask,\n",
    "                     return_dict=True)\n",
    "\n",
    "    logits = result.logits\n",
    "\n",
    "    # Move logits and labels to CPU\n",
    "    logits = logits.detach().cpu().numpy()\n",
    "    label_ids = b_labels.to('cpu').numpy()\n",
    "\n",
    "    # Store predictions and true labels\n",
    "    predictions.append(logits)\n",
    "    true_labels.append(label_ids)\n",
    "\n",
    "print('    DONE.')\n",
    "\n",
    "print('\\nPositive samples: %d of %d (%.2f%%)' % (labels.sum().item(), len(labels), (labels.sum().item() / len(labels) * 100.0)))"
   ]
  },
  {
   "cell_type": "markdown",
   "id": "e44ec15f",
   "metadata": {
    "papermill": {
     "duration": 0.01995,
     "end_time": "2023-06-21T16:27:41.994781",
     "exception": false,
     "start_time": "2023-06-21T16:27:41.974831",
     "status": "completed"
    },
    "tags": []
   },
   "source": [
    "### Test evaluation"
   ]
  },
  {
   "cell_type": "code",
   "execution_count": null,
   "id": "de43f826",
   "metadata": {
    "execution": {
     "iopub.execute_input": "2023-06-21T16:27:42.037456Z",
     "iopub.status.busy": "2023-06-21T16:27:42.035997Z",
     "iopub.status.idle": "2023-06-21T16:27:42.052344Z",
     "shell.execute_reply": "2023-06-21T16:27:42.051013Z"
    },
    "papermill": {
     "duration": 0.039544,
     "end_time": "2023-06-21T16:27:42.054391",
     "exception": false,
     "start_time": "2023-06-21T16:27:42.014847",
     "status": "completed"
    },
    "tags": []
   },
   "outputs": [],
   "source": [
    "# Flatten the true labels and predictions\n",
    "flat_true_labels = np.concatenate(true_labels, axis=0)\n",
    "flat_predictions = np.concatenate(predictions, axis=0)\n",
    "\n",
    "flat_predictions_avg = []\n",
    "# Adjust predictions\n",
    "for i in range(len(true_labels)):\n",
    "\n",
    "    # The predictions for this batch are a 2-column ndarray (one column for \"0\"\n",
    "    # and one column for \"1\"). Pick the label with the highest value and turn this\n",
    "    # in to a list of 0s and 1s\n",
    "    pred_labels_i = np.argmax(predictions[i], axis=1).flatten()\n",
    "    flat_predictions_avg.append(pred_labels_i)\n",
    "    \n",
    "flat_predictions_avg = np.concatenate(flat_predictions_avg, axis=0)\n",
    "\n",
    "# Calculate additional performance indices\n",
    "precision = precision_score(flat_true_labels, flat_predictions_avg)\n",
    "recall = recall_score(flat_true_labels, flat_predictions_avg)\n",
    "f1 = f1_score(flat_true_labels, flat_predictions_avg)\n",
    "accuracy = accuracy_score(flat_true_labels, flat_predictions_avg)\n",
    "\n",
    "print('Accuracy: %.3f' % accuracy)\n",
    "print('Precision: %.3f' % precision)\n",
    "print('Recall: %.3f' % recall)\n",
    "print('F1 Score: %.3f' % f1)"
   ]
  },
  {
   "cell_type": "code",
   "execution_count": null,
   "id": "96e2f049",
   "metadata": {
    "execution": {
     "iopub.execute_input": "2023-06-21T16:27:42.097735Z",
     "iopub.status.busy": "2023-06-21T16:27:42.097440Z",
     "iopub.status.idle": "2023-06-21T16:27:42.300377Z",
     "shell.execute_reply": "2023-06-21T16:27:42.299395Z"
    },
    "papermill": {
     "duration": 0.226015,
     "end_time": "2023-06-21T16:27:42.302518",
     "exception": false,
     "start_time": "2023-06-21T16:27:42.076503",
     "status": "completed"
    },
    "tags": []
   },
   "outputs": [],
   "source": [
    "# Calculate the confusion matrix\n",
    "cm = confusion_matrix(flat_true_labels, flat_predictions_avg)\n",
    "\n",
    "# Display the confusion matrix as a heatmap\n",
    "plt.figure(figsize=(3, 3))\n",
    "sns.heatmap(cm, annot=True, fmt=\"d\", cmap=\"Blues\", cbar=False)\n",
    "plt.title(\"Confusion Matrix\")\n",
    "plt.xlabel(\"Predicted Labels\")\n",
    "plt.ylabel(\"True Labels\")\n",
    "plt.show()"
   ]
  },
  {
   "cell_type": "code",
   "execution_count": null,
   "id": "af1b3b72",
   "metadata": {
    "execution": {
     "iopub.execute_input": "2023-06-21T16:27:42.350234Z",
     "iopub.status.busy": "2023-06-21T16:27:42.349934Z",
     "iopub.status.idle": "2023-06-21T16:27:42.726231Z",
     "shell.execute_reply": "2023-06-21T16:27:42.725350Z"
    },
    "id": "cMysz7LeZlXm",
    "outputId": "d989d0ba-519f-473f-c5ca-2badb95fac51",
    "papermill": {
     "duration": 0.403438,
     "end_time": "2023-06-21T16:27:42.728231",
     "exception": false,
     "start_time": "2023-06-21T16:27:42.324793",
     "status": "completed"
    },
    "tags": []
   },
   "outputs": [],
   "source": [
    "# Use MCC here because the classes are imbalanced\n",
    "matthews_set = []\n",
    "\n",
    "# Evaluate each test batch using Matthew's correlation coefficient\n",
    "print('Calculating Matthews Corr. Coef. for each batch...')\n",
    "\n",
    "# For each input batch...\n",
    "for i in range(len(true_labels)):\n",
    "\n",
    "    # The predictions for this batch are a 2-column ndarray (one column for \"0\"\n",
    "    # and one column for \"1\"). Pick the label with the highest value and turn this\n",
    "    # in to a list of 0s and 1s\n",
    "    pred_labels_i = np.argmax(predictions[i], axis=1).flatten()\n",
    "\n",
    "    # Calculate and store the coef for this batch\n",
    "    matthews = matthews_corrcoef(true_labels[i], pred_labels_i)\n",
    "    matthews_set.append(matthews)\n",
    "\n",
    "# Create a barplot showing the MCC score for each batch of test samples\n",
    "ax = sns.barplot(x=list(range(len(matthews_set))), y=matthews_set, errorbar=None)\n",
    "\n",
    "plt.title('MCC Score per Batch')\n",
    "plt.ylabel('MCC Score (-1 to +1)')\n",
    "plt.xlabel('Batch #')\n",
    "\n",
    "plt.show()"
   ]
  },
  {
   "cell_type": "code",
   "execution_count": null,
   "id": "31edc354",
   "metadata": {
    "execution": {
     "iopub.execute_input": "2023-06-21T16:27:42.774764Z",
     "iopub.status.busy": "2023-06-21T16:27:42.773954Z",
     "iopub.status.idle": "2023-06-21T16:27:42.782535Z",
     "shell.execute_reply": "2023-06-21T16:27:42.781189Z"
    },
    "id": "p09a5qmFZwI4",
    "outputId": "e031628a-a552-4dcd-ae6b-a0070bfc4f64",
    "papermill": {
     "duration": 0.033252,
     "end_time": "2023-06-21T16:27:42.784878",
     "exception": false,
     "start_time": "2023-06-21T16:27:42.751626",
     "status": "completed"
    },
    "tags": []
   },
   "outputs": [],
   "source": [
    "# Combine the results across all batches\n",
    "flat_predictions = np.concatenate(predictions, axis=0)\n",
    "\n",
    "# For each sample, pick the label (0 or 1) with the higher score\n",
    "flat_predictions = np.argmax(flat_predictions, axis=1).flatten()\n",
    "\n",
    "# Combine the correct labels for each batch into a single list\n",
    "flat_true_labels = np.concatenate(true_labels, axis=0)\n",
    "\n",
    "# Calculate the MCC\n",
    "mcc = matthews_corrcoef(flat_true_labels, flat_predictions)\n",
    "\n",
    "print('Total MCC: %.3f' % mcc)"
   ]
  },
  {
   "cell_type": "code",
   "execution_count": null,
   "id": "3082d1fc",
   "metadata": {
    "execution": {
     "iopub.execute_input": "2023-06-21T16:27:42.831467Z",
     "iopub.status.busy": "2023-06-21T16:27:42.831176Z",
     "iopub.status.idle": "2023-06-21T16:27:42.838514Z",
     "shell.execute_reply": "2023-06-21T16:27:42.837662Z"
    },
    "papermill": {
     "duration": 0.034022,
     "end_time": "2023-06-21T16:27:42.840493",
     "exception": false,
     "start_time": "2023-06-21T16:27:42.806471",
     "status": "completed"
    },
    "tags": []
   },
   "outputs": [],
   "source": [
    "# Combine the results across all batches\n",
    "flat_predictions = np.concatenate(predictions, axis=0)\n",
    "\n",
    "# Calculate the probabilities for the positive class\n",
    "probs = flat_predictions[:, 1]\n",
    "\n",
    "# Calculate the false positive rate (fpr), true positive rate (tpr), and threshold values using the roc_curve function\n",
    "fpr, tpr, thresholds = roc_curve(flat_true_labels, probs)\n",
    "\n",
    "# Calculate the Area Under the Curve (AUC) using the auc function\n",
    "roc_auc = auc(fpr, tpr)"
   ]
  },
  {
   "cell_type": "code",
   "execution_count": null,
   "id": "3cf00d23",
   "metadata": {
    "execution": {
     "iopub.execute_input": "2023-06-21T16:27:42.886147Z",
     "iopub.status.busy": "2023-06-21T16:27:42.885384Z",
     "iopub.status.idle": "2023-06-21T16:27:43.254203Z",
     "shell.execute_reply": "2023-06-21T16:27:43.253293Z"
    },
    "papermill": {
     "duration": 0.397614,
     "end_time": "2023-06-21T16:27:43.260579",
     "exception": false,
     "start_time": "2023-06-21T16:27:42.862965",
     "status": "completed"
    },
    "tags": []
   },
   "outputs": [],
   "source": [
    "# Plot the ROC curve\n",
    "plt.rcParams[\"figure.figsize\"] = (8,5)\n",
    "plt.figure()\n",
    "plt.plot(fpr, tpr, color='darkorange', lw=2, label='ROC curve (area = %0.2f)' % roc_auc)\n",
    "plt.plot([0, 1], [0, 1], color='navy', lw=2, linestyle='--')\n",
    "plt.xlim([0.0, 1.0])\n",
    "plt.ylim([0.0, 1.05])\n",
    "plt.xlabel('False Positive Rate')\n",
    "plt.ylabel('True Positive Rate')\n",
    "plt.title('Receiver Operating Characteristic')\n",
    "plt.legend(loc=\"lower right\")\n",
    "plt.show()"
   ]
  },
  {
   "cell_type": "markdown",
   "id": "d5c1c1bd",
   "metadata": {
    "papermill": {
     "duration": 0.022116,
     "end_time": "2023-06-21T16:27:43.306147",
     "exception": false,
     "start_time": "2023-06-21T16:27:43.284031",
     "status": "completed"
    },
    "tags": []
   },
   "source": [
    "### Inspect prediction"
   ]
  },
  {
   "cell_type": "code",
   "execution_count": null,
   "id": "afdf9c7c",
   "metadata": {
    "execution": {
     "iopub.execute_input": "2023-06-21T16:27:43.354177Z",
     "iopub.status.busy": "2023-06-21T16:27:43.353620Z",
     "iopub.status.idle": "2023-06-21T16:27:43.416655Z",
     "shell.execute_reply": "2023-06-21T16:27:43.415794Z"
    },
    "papermill": {
     "duration": 0.089929,
     "end_time": "2023-06-21T16:27:43.418838",
     "exception": false,
     "start_time": "2023-06-21T16:27:43.328909",
     "status": "completed"
    },
    "tags": []
   },
   "outputs": [],
   "source": [
    "predtiction_sample = []\n",
    "\n",
    "for index in range(0,len(flat_true_labels)):\n",
    "    predtiction_sample.append(\n",
    "        {\n",
    "            'postID': df_test.loc[index].at[\"postID\"],\n",
    "            'threadID': df_test.loc[index].at[\"threadID\"],\n",
    "            'subforumID': df_test.loc[index].at[\"subforumID\"],\n",
    "            'origin': df_test.loc[index].at[\"origin\"],\n",
    "            'processedContent': features_test[index],\n",
    "            'True label': flat_true_labels[index],\n",
    "            'Predicted label': flat_predictions_avg[index]\n",
    "        }\n",
    "    )"
   ]
  },
  {
   "cell_type": "code",
   "execution_count": null,
   "id": "af5592d2",
   "metadata": {
    "execution": {
     "iopub.execute_input": "2023-06-21T16:27:43.466196Z",
     "iopub.status.busy": "2023-06-21T16:27:43.465304Z",
     "iopub.status.idle": "2023-06-21T16:27:43.602841Z",
     "shell.execute_reply": "2023-06-21T16:27:43.601759Z"
    },
    "papermill": {
     "duration": 0.165988,
     "end_time": "2023-06-21T16:27:43.607240",
     "exception": false,
     "start_time": "2023-06-21T16:27:43.441252",
     "status": "completed"
    },
    "tags": []
   },
   "outputs": [],
   "source": [
    "# Create a DataFrame from the statistics\n",
    "df_stats = pd.DataFrame(data=predtiction_sample)\n",
    "\n",
    "# Create a styler object\n",
    "styler = df_stats.style.set_table_styles([\n",
    "    {'selector': 'th', 'props': [('text-align', 'left')]},\n",
    "    {'selector': 'td', 'props': [('text-align', 'left')]}\n",
    "])\n",
    "\n",
    "# Display the table with aligned content\n",
    "styler"
   ]
  },
  {
   "cell_type": "code",
   "execution_count": null,
   "id": "e3c6464b",
   "metadata": {
    "execution": {
     "iopub.execute_input": "2023-06-21T16:27:43.659097Z",
     "iopub.status.busy": "2023-06-21T16:27:43.658198Z",
     "iopub.status.idle": "2023-06-21T16:27:43.672384Z",
     "shell.execute_reply": "2023-06-21T16:27:43.671414Z"
    },
    "papermill": {
     "duration": 0.042106,
     "end_time": "2023-06-21T16:27:43.674571",
     "exception": false,
     "start_time": "2023-06-21T16:27:43.632465",
     "status": "completed"
    },
    "tags": []
   },
   "outputs": [],
   "source": [
    "# For a single entry\n",
    "index = 0\n",
    "pd.set_option('display.max_colwidth', None)  # Display full content in each cell\n",
    "\n",
    "predtiction_sample = []\n",
    "predtiction_sample.append(\n",
    "        {\n",
    "            'postID': df_test.loc[index].at[\"postID\"],\n",
    "            'threadID': df_test.loc[index].at[\"threadID\"],\n",
    "            'subforumID': df_test.loc[index].at[\"subforumID\"],\n",
    "            'origin': df_test.loc[index].at[\"origin\"],\n",
    "            'Sample': features_test[index],\n",
    "            'True label': flat_true_labels[index],\n",
    "            'Predicted label': flat_predictions_avg[index]\n",
    "        }\n",
    "    )\n",
    "\n",
    "# Create a DataFrame from the statistics\n",
    "df_stats = pd.DataFrame(data=predtiction_sample)\n",
    "\n",
    "# Create a styler object\n",
    "styler = df_stats.style.set_table_styles([\n",
    "    {'selector': 'th', 'props': [('text-align', 'left')]},\n",
    "    {'selector': 'td', 'props': [('text-align', 'left')]}\n",
    "])\n",
    "\n",
    "# Display the table with aligned content\n",
    "styler"
   ]
  },
  {
   "cell_type": "markdown",
   "id": "4f344ece",
   "metadata": {
    "papermill": {
     "duration": 0.024821,
     "end_time": "2023-06-21T16:27:43.724172",
     "exception": false,
     "start_time": "2023-06-21T16:27:43.699351",
     "status": "completed"
    },
    "tags": []
   },
   "source": [
    "### Saving & Loading Fine-Tuned Model"
   ]
  },
  {
   "cell_type": "code",
   "execution_count": null,
   "id": "84c3f0b5",
   "metadata": {
    "execution": {
     "iopub.execute_input": "2023-06-21T16:27:43.775893Z",
     "iopub.status.busy": "2023-06-21T16:27:43.775084Z",
     "iopub.status.idle": "2023-06-21T16:27:44.460489Z",
     "shell.execute_reply": "2023-06-21T16:27:44.459519Z"
    },
    "papermill": {
     "duration": 0.713696,
     "end_time": "2023-06-21T16:27:44.462791",
     "exception": false,
     "start_time": "2023-06-21T16:27:43.749095",
     "status": "completed"
    },
    "tags": []
   },
   "outputs": [],
   "source": [
    "# Save files\n",
    "output_dir = \"/home/anon/Classifier_BERT\"\n",
    "os.makedirs(output_dir, exist_ok=True)\n",
    "print(\"Saving model to %s\" % output_dir)\n",
    "\n",
    "# Save a trained model, configuration and tokenizer using `save_pretrained()`.\n",
    "# They can then be reloaded using `from_pretrained()`\n",
    "model_to_save = model.module if hasattr(model, 'module') else model  # Take care of distributed/parallel training\n",
    "model_to_save.save_pretrained(output_dir)\n",
    "tokenizer.save_pretrained(output_dir)"
   ]
  },
  {
   "cell_type": "code",
   "execution_count": null,
   "id": "947575a9",
   "metadata": {
    "execution": {
     "iopub.execute_input": "2023-06-21T16:27:44.516404Z",
     "iopub.status.busy": "2023-06-21T16:27:44.515321Z",
     "iopub.status.idle": "2023-06-21T16:28:09.912765Z",
     "shell.execute_reply": "2023-06-21T16:28:09.911761Z"
    },
    "papermill": {
     "duration": 25.42677,
     "end_time": "2023-06-21T16:28:09.915659",
     "exception": false,
     "start_time": "2023-06-21T16:27:44.488889",
     "status": "completed"
    },
    "tags": []
   },
   "outputs": [],
   "source": [
    "# Create a zip file\n",
    "output_dir = '/home/anon/Classifier_BERT'\n",
    "zip_path = '/home/anon/Classifier_BERT.zip'\n",
    "\n",
    "with zipfile.ZipFile(zip_path, 'w', zipfile.ZIP_DEFLATED) as zipf:\n",
    "    for root, _, files in os.walk(output_dir):\n",
    "        for file in files:\n",
    "            zipf.write(os.path.join(root, file), os.path.relpath(os.path.join(root, file), output_dir))"
   ]
  },
  {
   "cell_type": "code",
   "execution_count": null,
   "id": "ca22d1a1",
   "metadata": {
    "execution": {
     "iopub.execute_input": "2023-06-21T16:28:09.974164Z",
     "iopub.status.busy": "2023-06-21T16:28:09.973850Z",
     "iopub.status.idle": "2023-06-21T16:28:14.673074Z",
     "shell.execute_reply": "2023-06-21T16:28:14.672057Z"
    },
    "papermill": {
     "duration": 4.730699,
     "end_time": "2023-06-21T16:28:14.676833",
     "exception": false,
     "start_time": "2023-06-21T16:28:09.946134",
     "status": "completed"
    },
    "tags": []
   },
   "outputs": [],
   "source": [
    "# Load a trained model and vocabulary that you have fine-tuned\n",
    "zip_path = '/home/anon/Classifier_BERT.zip'\n",
    "output_dir = '/home/anon/Classifier_BERT'\n",
    "\n",
    "with zipfile.ZipFile(zip_path, 'r') as zip_ref:\n",
    "        zip_ref.extractall(output_dir)\n",
    "\n",
    "# Load the tokenizer and model\n",
    "tokenizer = BertTokenizer.from_pretrained(output_dir)\n",
    "\n",
    "# Load the fine-tuned model\n",
    "model = BertForSequenceClassification.from_pretrained(output_dir)\n",
    "\n",
    "# Copy the model to the GPU.\n",
    "model.to(device)"
   ]
  },
  {
   "cell_type": "markdown",
   "id": "2bcba093",
   "metadata": {
    "papermill": {
     "duration": 0.083019,
     "end_time": "2023-06-21T16:28:14.838353",
     "exception": false,
     "start_time": "2023-06-21T16:28:14.755334",
     "status": "completed"
    },
    "tags": []
   },
   "source": [
    "### Classification of unseen sample (an example)"
   ]
  },
  {
   "cell_type": "code",
   "execution_count": null,
   "id": "e3c4de8a",
   "metadata": {
    "execution": {
     "iopub.execute_input": "2023-06-21T16:28:14.900380Z",
     "iopub.status.busy": "2023-06-21T16:28:14.900024Z",
     "iopub.status.idle": "2023-06-21T16:28:14.940412Z",
     "shell.execute_reply": "2023-06-21T16:28:14.939214Z"
    },
    "papermill": {
     "duration": 0.069556,
     "end_time": "2023-06-21T16:28:14.942910",
     "exception": false,
     "start_time": "2023-06-21T16:28:14.873354",
     "status": "completed"
    },
    "tags": []
   },
   "outputs": [],
   "source": [
    "txt = \"random phrase threat kind sql injection other random word confuse classificator wonder result prediction\"           \n",
    "# Apply tokenization as for the training part\n",
    "inputs = tokenizer.encode_plus(\n",
    "    txt,\n",
    "    add_special_tokens = True,      # Add '[CLS]' and '[SEP]'\n",
    "    max_length = window_length,     # Pad & truncate all sentences\n",
    "    pad_to_max_length = True,\n",
    "    return_attention_mask = True,   # Construct attn. masks\n",
    "    return_tensors = 'pt',          # Return pytorch tensors\n",
    ")\n",
    "\n",
    "inputs = {key: value.to(device) for key, value in inputs.items()}\n",
    "\n",
    "# Make the prediction\n",
    "with torch.no_grad():\n",
    "    outputs = model(**inputs)\n",
    "    logits = outputs.logits\n",
    "    \n",
    "probabilities = torch.softmax(logits, dim=1)\n",
    "predicted_class = torch.argmax(probabilities, dim=1).item()\n",
    "\n",
    "# Print the result\n",
    "pd.set_option('display.max_colwidth', None)  # Display full content in each cell\n",
    "\n",
    "predtiction_sample = []\n",
    "predtiction_sample.append(\n",
    "        {\n",
    "            #'postID': df_test.loc[index].at[\"postID\"],\n",
    "            #'threadID': df_test.loc[index].at[\"threadID\"],\n",
    "            #'subforumID': df_test.loc[index].at[\"subforumID\"],\n",
    "            #'origin': df_test.loc[index].at[\"origin\"],\n",
    "            'Sample': txt,\n",
    "            'Predicted label': predicted_class\n",
    "        }\n",
    "    )\n",
    "\n",
    "# Create a DataFrame from the statistics\n",
    "df_stats = pd.DataFrame(data=predtiction_sample)\n",
    "\n",
    "# Create a styler object\n",
    "styler = df_stats.style.set_table_styles([\n",
    "    {'selector': 'th', 'props': [('text-align', 'left')]},\n",
    "    {'selector': 'td', 'props': [('text-align', 'left')]}\n",
    "])\n",
    "\n",
    "# Display the table with aligned content\n",
    "styler"
   ]
  }
 ],
 "metadata": {
  "kernelspec": {
   "display_name": "Python 3",
   "language": "python",
   "name": "python3"
  },
  "language_info": {
   "codemirror_mode": {
    "name": "ipython",
    "version": 3
   },
   "file_extension": ".py",
   "mimetype": "text/x-python",
   "name": "python",
   "nbconvert_exporter": "python",
   "pygments_lexer": "ipython3",
   "version": "3.10.10"
  },
  "papermill": {
   "default_parameters": {},
   "duration": 312.710549,
   "end_time": "2023-06-21T16:28:17.919042",
   "environment_variables": {},
   "exception": null,
   "input_path": "__notebook__.ipynb",
   "output_path": "__notebook__.ipynb",
   "parameters": {},
   "start_time": "2023-06-21T16:23:05.208493",
   "version": "2.4.0"
  },
  "widgets": {
   "application/vnd.jupyter.widget-state+json": {
    "state": {
     "03f34122b21b4dcf8d27256cd55a45ff": {
      "model_module": "@jupyter-widgets/base",
      "model_module_version": "1.2.0",
      "model_name": "LayoutModel",
      "state": {
       "_model_module": "@jupyter-widgets/base",
       "_model_module_version": "1.2.0",
       "_model_name": "LayoutModel",
       "_view_count": null,
       "_view_module": "@jupyter-widgets/base",
       "_view_module_version": "1.2.0",
       "_view_name": "LayoutView",
       "align_content": null,
       "align_items": null,
       "align_self": null,
       "border": null,
       "bottom": null,
       "display": null,
       "flex": null,
       "flex_flow": null,
       "grid_area": null,
       "grid_auto_columns": null,
       "grid_auto_flow": null,
       "grid_auto_rows": null,
       "grid_column": null,
       "grid_gap": null,
       "grid_row": null,
       "grid_template_areas": null,
       "grid_template_columns": null,
       "grid_template_rows": null,
       "height": null,
       "justify_content": null,
       "justify_items": null,
       "left": null,
       "margin": null,
       "max_height": null,
       "max_width": null,
       "min_height": null,
       "min_width": null,
       "object_fit": null,
       "object_position": null,
       "order": null,
       "overflow": null,
       "overflow_x": null,
       "overflow_y": null,
       "padding": null,
       "right": null,
       "top": null,
       "visibility": null,
       "width": "20px"
      }
     },
     "0d70229c5adc4f4b85e71a05e6fea46a": {
      "model_module": "@jupyter-widgets/controls",
      "model_module_version": "1.5.0",
      "model_name": "HBoxModel",
      "state": {
       "_dom_classes": [],
       "_model_module": "@jupyter-widgets/controls",
       "_model_module_version": "1.5.0",
       "_model_name": "HBoxModel",
       "_view_count": null,
       "_view_module": "@jupyter-widgets/controls",
       "_view_module_version": "1.5.0",
       "_view_name": "HBoxView",
       "box_style": "",
       "children": [
        "IPY_MODEL_14d4dfa7a0d34d9286d1b57902fb0ff4",
        "IPY_MODEL_3d0dd8ead63f495d9c93a1ae8fd0ca1e",
        "IPY_MODEL_3062f60162334b48906c648bd3acc115"
       ],
       "layout": "IPY_MODEL_3c45e18c42f34368b704e6d406d659f4"
      }
     },
     "14d4dfa7a0d34d9286d1b57902fb0ff4": {
      "model_module": "@jupyter-widgets/controls",
      "model_module_version": "1.5.0",
      "model_name": "HTMLModel",
      "state": {
       "_dom_classes": [],
       "_model_module": "@jupyter-widgets/controls",
       "_model_module_version": "1.5.0",
       "_model_name": "HTMLModel",
       "_view_count": null,
       "_view_module": "@jupyter-widgets/controls",
       "_view_module_version": "1.5.0",
       "_view_name": "HTMLView",
       "description": "",
       "description_tooltip": null,
       "layout": "IPY_MODEL_f73c6790afc64ac1af5ca90810b8e75b",
       "placeholder": "​",
       "style": "IPY_MODEL_cab866881a1e4e15a1589a098eb223fa",
       "value": "Downloading (…)solve/main/vocab.txt: "
      }
     },
     "2004bdc34e2f4d1c8116d662f8a6253b": {
      "model_module": "@jupyter-widgets/base",
      "model_module_version": "1.2.0",
      "model_name": "LayoutModel",
      "state": {
       "_model_module": "@jupyter-widgets/base",
       "_model_module_version": "1.2.0",
       "_model_name": "LayoutModel",
       "_view_count": null,
       "_view_module": "@jupyter-widgets/base",
       "_view_module_version": "1.2.0",
       "_view_name": "LayoutView",
       "align_content": null,
       "align_items": null,
       "align_self": null,
       "border": null,
       "bottom": null,
       "display": null,
       "flex": null,
       "flex_flow": null,
       "grid_area": null,
       "grid_auto_columns": null,
       "grid_auto_flow": null,
       "grid_auto_rows": null,
       "grid_column": null,
       "grid_gap": null,
       "grid_row": null,
       "grid_template_areas": null,
       "grid_template_columns": null,
       "grid_template_rows": null,
       "height": null,
       "justify_content": null,
       "justify_items": null,
       "left": null,
       "margin": null,
       "max_height": null,
       "max_width": null,
       "min_height": null,
       "min_width": null,
       "object_fit": null,
       "object_position": null,
       "order": null,
       "overflow": null,
       "overflow_x": null,
       "overflow_y": null,
       "padding": null,
       "right": null,
       "top": null,
       "visibility": null,
       "width": null
      }
     },
     "2d617337feb14d57b78afa6710741a67": {
      "model_module": "@jupyter-widgets/controls",
      "model_module_version": "1.5.0",
      "model_name": "HBoxModel",
      "state": {
       "_dom_classes": [],
       "_model_module": "@jupyter-widgets/controls",
       "_model_module_version": "1.5.0",
       "_model_name": "HBoxModel",
       "_view_count": null,
       "_view_module": "@jupyter-widgets/controls",
       "_view_module_version": "1.5.0",
       "_view_name": "HBoxView",
       "box_style": "",
       "children": [
        "IPY_MODEL_44459a64b7a941c3afeed179637cc357",
        "IPY_MODEL_763f900f230042eebc1e7a63e7d31965",
        "IPY_MODEL_4a5fab772cba455bbfd69c5bded41038"
       ],
       "layout": "IPY_MODEL_ee0bc7c5641c4b11b7344b058da74e70"
      }
     },
     "3062f60162334b48906c648bd3acc115": {
      "model_module": "@jupyter-widgets/controls",
      "model_module_version": "1.5.0",
      "model_name": "HTMLModel",
      "state": {
       "_dom_classes": [],
       "_model_module": "@jupyter-widgets/controls",
       "_model_module_version": "1.5.0",
       "_model_name": "HTMLModel",
       "_view_count": null,
       "_view_module": "@jupyter-widgets/controls",
       "_view_module_version": "1.5.0",
       "_view_name": "HTMLView",
       "description": "",
       "description_tooltip": null,
       "layout": "IPY_MODEL_d92729c066504e7b918d9a4344ca86a9",
       "placeholder": "​",
       "style": "IPY_MODEL_7132a8bb1464412f85ed7aa9742b612d",
       "value": " 232k/? [00:00&lt;00:00, 469kB/s]"
      }
     },
     "30b52e3d1de24e1b97156f854e265e97": {
      "model_module": "@jupyter-widgets/controls",
      "model_module_version": "1.5.0",
      "model_name": "ProgressStyleModel",
      "state": {
       "_model_module": "@jupyter-widgets/controls",
       "_model_module_version": "1.5.0",
       "_model_name": "ProgressStyleModel",
       "_view_count": null,
       "_view_module": "@jupyter-widgets/base",
       "_view_module_version": "1.2.0",
       "_view_name": "StyleView",
       "bar_color": null,
       "description_width": ""
      }
     },
     "332bc77a632d4e33b54cfc768e880096": {
      "model_module": "@jupyter-widgets/base",
      "model_module_version": "1.2.0",
      "model_name": "LayoutModel",
      "state": {
       "_model_module": "@jupyter-widgets/base",
       "_model_module_version": "1.2.0",
       "_model_name": "LayoutModel",
       "_view_count": null,
       "_view_module": "@jupyter-widgets/base",
       "_view_module_version": "1.2.0",
       "_view_name": "LayoutView",
       "align_content": null,
       "align_items": null,
       "align_self": null,
       "border": null,
       "bottom": null,
       "display": null,
       "flex": null,
       "flex_flow": null,
       "grid_area": null,
       "grid_auto_columns": null,
       "grid_auto_flow": null,
       "grid_auto_rows": null,
       "grid_column": null,
       "grid_gap": null,
       "grid_row": null,
       "grid_template_areas": null,
       "grid_template_columns": null,
       "grid_template_rows": null,
       "height": null,
       "justify_content": null,
       "justify_items": null,
       "left": null,
       "margin": null,
       "max_height": null,
       "max_width": null,
       "min_height": null,
       "min_width": null,
       "object_fit": null,
       "object_position": null,
       "order": null,
       "overflow": null,
       "overflow_x": null,
       "overflow_y": null,
       "padding": null,
       "right": null,
       "top": null,
       "visibility": null,
       "width": null
      }
     },
     "3c45e18c42f34368b704e6d406d659f4": {
      "model_module": "@jupyter-widgets/base",
      "model_module_version": "1.2.0",
      "model_name": "LayoutModel",
      "state": {
       "_model_module": "@jupyter-widgets/base",
       "_model_module_version": "1.2.0",
       "_model_name": "LayoutModel",
       "_view_count": null,
       "_view_module": "@jupyter-widgets/base",
       "_view_module_version": "1.2.0",
       "_view_name": "LayoutView",
       "align_content": null,
       "align_items": null,
       "align_self": null,
       "border": null,
       "bottom": null,
       "display": null,
       "flex": null,
       "flex_flow": null,
       "grid_area": null,
       "grid_auto_columns": null,
       "grid_auto_flow": null,
       "grid_auto_rows": null,
       "grid_column": null,
       "grid_gap": null,
       "grid_row": null,
       "grid_template_areas": null,
       "grid_template_columns": null,
       "grid_template_rows": null,
       "height": null,
       "justify_content": null,
       "justify_items": null,
       "left": null,
       "margin": null,
       "max_height": null,
       "max_width": null,
       "min_height": null,
       "min_width": null,
       "object_fit": null,
       "object_position": null,
       "order": null,
       "overflow": null,
       "overflow_x": null,
       "overflow_y": null,
       "padding": null,
       "right": null,
       "top": null,
       "visibility": null,
       "width": null
      }
     },
     "3c4ba8d2328d43a0bcad070cdba68ffd": {
      "model_module": "@jupyter-widgets/controls",
      "model_module_version": "1.5.0",
      "model_name": "HBoxModel",
      "state": {
       "_dom_classes": [],
       "_model_module": "@jupyter-widgets/controls",
       "_model_module_version": "1.5.0",
       "_model_name": "HBoxModel",
       "_view_count": null,
       "_view_module": "@jupyter-widgets/controls",
       "_view_module_version": "1.5.0",
       "_view_name": "HBoxView",
       "box_style": "",
       "children": [
        "IPY_MODEL_c061ffd9fd4c4ee19decd178ab0d4ce8",
        "IPY_MODEL_da7482eb2e3b4d5783f68f7a4e5f76a1",
        "IPY_MODEL_e2d61874fab44183b4f29d08b7fa6528"
       ],
       "layout": "IPY_MODEL_946189f00cd44a65a78094ebd473b237"
      }
     },
     "3d0dd8ead63f495d9c93a1ae8fd0ca1e": {
      "model_module": "@jupyter-widgets/controls",
      "model_module_version": "1.5.0",
      "model_name": "FloatProgressModel",
      "state": {
       "_dom_classes": [],
       "_model_module": "@jupyter-widgets/controls",
       "_model_module_version": "1.5.0",
       "_model_name": "FloatProgressModel",
       "_view_count": null,
       "_view_module": "@jupyter-widgets/controls",
       "_view_module_version": "1.5.0",
       "_view_name": "ProgressView",
       "bar_style": "success",
       "description": "",
       "description_tooltip": null,
       "layout": "IPY_MODEL_03f34122b21b4dcf8d27256cd55a45ff",
       "max": 1,
       "min": 0,
       "orientation": "horizontal",
       "style": "IPY_MODEL_419faf96d1fb41f3babbb4a765f3415e",
       "value": 1
      }
     },
     "3f54b9a5c621499cb7d159de61f56010": {
      "model_module": "@jupyter-widgets/base",
      "model_module_version": "1.2.0",
      "model_name": "LayoutModel",
      "state": {
       "_model_module": "@jupyter-widgets/base",
       "_model_module_version": "1.2.0",
       "_model_name": "LayoutModel",
       "_view_count": null,
       "_view_module": "@jupyter-widgets/base",
       "_view_module_version": "1.2.0",
       "_view_name": "LayoutView",
       "align_content": null,
       "align_items": null,
       "align_self": null,
       "border": null,
       "bottom": null,
       "display": null,
       "flex": null,
       "flex_flow": null,
       "grid_area": null,
       "grid_auto_columns": null,
       "grid_auto_flow": null,
       "grid_auto_rows": null,
       "grid_column": null,
       "grid_gap": null,
       "grid_row": null,
       "grid_template_areas": null,
       "grid_template_columns": null,
       "grid_template_rows": null,
       "height": null,
       "justify_content": null,
       "justify_items": null,
       "left": null,
       "margin": null,
       "max_height": null,
       "max_width": null,
       "min_height": null,
       "min_width": null,
       "object_fit": null,
       "object_position": null,
       "order": null,
       "overflow": null,
       "overflow_x": null,
       "overflow_y": null,
       "padding": null,
       "right": null,
       "top": null,
       "visibility": null,
       "width": null
      }
     },
     "419faf96d1fb41f3babbb4a765f3415e": {
      "model_module": "@jupyter-widgets/controls",
      "model_module_version": "1.5.0",
      "model_name": "ProgressStyleModel",
      "state": {
       "_model_module": "@jupyter-widgets/controls",
       "_model_module_version": "1.5.0",
       "_model_name": "ProgressStyleModel",
       "_view_count": null,
       "_view_module": "@jupyter-widgets/base",
       "_view_module_version": "1.2.0",
       "_view_name": "StyleView",
       "bar_color": null,
       "description_width": ""
      }
     },
     "44459a64b7a941c3afeed179637cc357": {
      "model_module": "@jupyter-widgets/controls",
      "model_module_version": "1.5.0",
      "model_name": "HTMLModel",
      "state": {
       "_dom_classes": [],
       "_model_module": "@jupyter-widgets/controls",
       "_model_module_version": "1.5.0",
       "_model_name": "HTMLModel",
       "_view_count": null,
       "_view_module": "@jupyter-widgets/controls",
       "_view_module_version": "1.5.0",
       "_view_name": "HTMLView",
       "description": "",
       "description_tooltip": null,
       "layout": "IPY_MODEL_2004bdc34e2f4d1c8116d662f8a6253b",
       "placeholder": "​",
       "style": "IPY_MODEL_e0d72102e69a457cb280a821ce19677b",
       "value": "Downloading model.safetensors: 100%"
      }
     },
     "4a5fab772cba455bbfd69c5bded41038": {
      "model_module": "@jupyter-widgets/controls",
      "model_module_version": "1.5.0",
      "model_name": "HTMLModel",
      "state": {
       "_dom_classes": [],
       "_model_module": "@jupyter-widgets/controls",
       "_model_module_version": "1.5.0",
       "_model_name": "HTMLModel",
       "_view_count": null,
       "_view_module": "@jupyter-widgets/controls",
       "_view_module_version": "1.5.0",
       "_view_name": "HTMLView",
       "description": "",
       "description_tooltip": null,
       "layout": "IPY_MODEL_e8d28d6bc3974b128105d3b38d0e548c",
       "placeholder": "​",
       "style": "IPY_MODEL_98b93d2e92fe4849a3e6b949c42fdb3f",
       "value": " 440M/440M [00:15&lt;00:00, 30.0MB/s]"
      }
     },
     "60f986bb96a84c69baadac3797dbc240": {
      "model_module": "@jupyter-widgets/base",
      "model_module_version": "1.2.0",
      "model_name": "LayoutModel",
      "state": {
       "_model_module": "@jupyter-widgets/base",
       "_model_module_version": "1.2.0",
       "_model_name": "LayoutModel",
       "_view_count": null,
       "_view_module": "@jupyter-widgets/base",
       "_view_module_version": "1.2.0",
       "_view_name": "LayoutView",
       "align_content": null,
       "align_items": null,
       "align_self": null,
       "border": null,
       "bottom": null,
       "display": null,
       "flex": null,
       "flex_flow": null,
       "grid_area": null,
       "grid_auto_columns": null,
       "grid_auto_flow": null,
       "grid_auto_rows": null,
       "grid_column": null,
       "grid_gap": null,
       "grid_row": null,
       "grid_template_areas": null,
       "grid_template_columns": null,
       "grid_template_rows": null,
       "height": null,
       "justify_content": null,
       "justify_items": null,
       "left": null,
       "margin": null,
       "max_height": null,
       "max_width": null,
       "min_height": null,
       "min_width": null,
       "object_fit": null,
       "object_position": null,
       "order": null,
       "overflow": null,
       "overflow_x": null,
       "overflow_y": null,
       "padding": null,
       "right": null,
       "top": null,
       "visibility": null,
       "width": null
      }
     },
     "6e5ec283b33548f0ba274b4082aaf4ff": {
      "model_module": "@jupyter-widgets/controls",
      "model_module_version": "1.5.0",
      "model_name": "DescriptionStyleModel",
      "state": {
       "_model_module": "@jupyter-widgets/controls",
       "_model_module_version": "1.5.0",
       "_model_name": "DescriptionStyleModel",
       "_view_count": null,
       "_view_module": "@jupyter-widgets/base",
       "_view_module_version": "1.2.0",
       "_view_name": "StyleView",
       "description_width": ""
      }
     },
     "7132a8bb1464412f85ed7aa9742b612d": {
      "model_module": "@jupyter-widgets/controls",
      "model_module_version": "1.5.0",
      "model_name": "DescriptionStyleModel",
      "state": {
       "_model_module": "@jupyter-widgets/controls",
       "_model_module_version": "1.5.0",
       "_model_name": "DescriptionStyleModel",
       "_view_count": null,
       "_view_module": "@jupyter-widgets/base",
       "_view_module_version": "1.2.0",
       "_view_name": "StyleView",
       "description_width": ""
      }
     },
     "763f900f230042eebc1e7a63e7d31965": {
      "model_module": "@jupyter-widgets/controls",
      "model_module_version": "1.5.0",
      "model_name": "FloatProgressModel",
      "state": {
       "_dom_classes": [],
       "_model_module": "@jupyter-widgets/controls",
       "_model_module_version": "1.5.0",
       "_model_name": "FloatProgressModel",
       "_view_count": null,
       "_view_module": "@jupyter-widgets/controls",
       "_view_module_version": "1.5.0",
       "_view_name": "ProgressView",
       "bar_style": "success",
       "description": "",
       "description_tooltip": null,
       "layout": "IPY_MODEL_332bc77a632d4e33b54cfc768e880096",
       "max": 440449768,
       "min": 0,
       "orientation": "horizontal",
       "style": "IPY_MODEL_30b52e3d1de24e1b97156f854e265e97",
       "value": 440449768
      }
     },
     "81a3c7f6543b4f44b915bbad3225ca74": {
      "model_module": "@jupyter-widgets/controls",
      "model_module_version": "1.5.0",
      "model_name": "ProgressStyleModel",
      "state": {
       "_model_module": "@jupyter-widgets/controls",
       "_model_module_version": "1.5.0",
       "_model_name": "ProgressStyleModel",
       "_view_count": null,
       "_view_module": "@jupyter-widgets/base",
       "_view_module_version": "1.2.0",
       "_view_name": "StyleView",
       "bar_color": null,
       "description_width": ""
      }
     },
     "901feaab9c4d41dfbe4955722be2b521": {
      "model_module": "@jupyter-widgets/controls",
      "model_module_version": "1.5.0",
      "model_name": "ProgressStyleModel",
      "state": {
       "_model_module": "@jupyter-widgets/controls",
       "_model_module_version": "1.5.0",
       "_model_name": "ProgressStyleModel",
       "_view_count": null,
       "_view_module": "@jupyter-widgets/base",
       "_view_module_version": "1.2.0",
       "_view_name": "StyleView",
       "bar_color": null,
       "description_width": ""
      }
     },
     "92df1553df0d4bee807e569add444e9c": {
      "model_module": "@jupyter-widgets/controls",
      "model_module_version": "1.5.0",
      "model_name": "DescriptionStyleModel",
      "state": {
       "_model_module": "@jupyter-widgets/controls",
       "_model_module_version": "1.5.0",
       "_model_name": "DescriptionStyleModel",
       "_view_count": null,
       "_view_module": "@jupyter-widgets/base",
       "_view_module_version": "1.2.0",
       "_view_name": "StyleView",
       "description_width": ""
      }
     },
     "946189f00cd44a65a78094ebd473b237": {
      "model_module": "@jupyter-widgets/base",
      "model_module_version": "1.2.0",
      "model_name": "LayoutModel",
      "state": {
       "_model_module": "@jupyter-widgets/base",
       "_model_module_version": "1.2.0",
       "_model_name": "LayoutModel",
       "_view_count": null,
       "_view_module": "@jupyter-widgets/base",
       "_view_module_version": "1.2.0",
       "_view_name": "LayoutView",
       "align_content": null,
       "align_items": null,
       "align_self": null,
       "border": null,
       "bottom": null,
       "display": null,
       "flex": null,
       "flex_flow": null,
       "grid_area": null,
       "grid_auto_columns": null,
       "grid_auto_flow": null,
       "grid_auto_rows": null,
       "grid_column": null,
       "grid_gap": null,
       "grid_row": null,
       "grid_template_areas": null,
       "grid_template_columns": null,
       "grid_template_rows": null,
       "height": null,
       "justify_content": null,
       "justify_items": null,
       "left": null,
       "margin": null,
       "max_height": null,
       "max_width": null,
       "min_height": null,
       "min_width": null,
       "object_fit": null,
       "object_position": null,
       "order": null,
       "overflow": null,
       "overflow_x": null,
       "overflow_y": null,
       "padding": null,
       "right": null,
       "top": null,
       "visibility": null,
       "width": null
      }
     },
     "98b93d2e92fe4849a3e6b949c42fdb3f": {
      "model_module": "@jupyter-widgets/controls",
      "model_module_version": "1.5.0",
      "model_name": "DescriptionStyleModel",
      "state": {
       "_model_module": "@jupyter-widgets/controls",
       "_model_module_version": "1.5.0",
       "_model_name": "DescriptionStyleModel",
       "_view_count": null,
       "_view_module": "@jupyter-widgets/base",
       "_view_module_version": "1.2.0",
       "_view_name": "StyleView",
       "description_width": ""
      }
     },
     "9b43c47ad60b455e9e6eea6d3cf56764": {
      "model_module": "@jupyter-widgets/controls",
      "model_module_version": "1.5.0",
      "model_name": "DescriptionStyleModel",
      "state": {
       "_model_module": "@jupyter-widgets/controls",
       "_model_module_version": "1.5.0",
       "_model_name": "DescriptionStyleModel",
       "_view_count": null,
       "_view_module": "@jupyter-widgets/base",
       "_view_module_version": "1.2.0",
       "_view_name": "StyleView",
       "description_width": ""
      }
     },
     "a351a42db9824cf7905a864d0bcc7a14": {
      "model_module": "@jupyter-widgets/controls",
      "model_module_version": "1.5.0",
      "model_name": "HTMLModel",
      "state": {
       "_dom_classes": [],
       "_model_module": "@jupyter-widgets/controls",
       "_model_module_version": "1.5.0",
       "_model_name": "HTMLModel",
       "_view_count": null,
       "_view_module": "@jupyter-widgets/controls",
       "_view_module_version": "1.5.0",
       "_view_name": "HTMLView",
       "description": "",
       "description_tooltip": null,
       "layout": "IPY_MODEL_d85445811ee140789cac95a50ede5430",
       "placeholder": "​",
       "style": "IPY_MODEL_6e5ec283b33548f0ba274b4082aaf4ff",
       "value": "Downloading (…)lve/main/config.json: 100%"
      }
     },
     "b1ce12e809324bd488f4aa1c1df81768": {
      "model_module": "@jupyter-widgets/controls",
      "model_module_version": "1.5.0",
      "model_name": "DescriptionStyleModel",
      "state": {
       "_model_module": "@jupyter-widgets/controls",
       "_model_module_version": "1.5.0",
       "_model_name": "DescriptionStyleModel",
       "_view_count": null,
       "_view_module": "@jupyter-widgets/base",
       "_view_module_version": "1.2.0",
       "_view_name": "StyleView",
       "description_width": ""
      }
     },
     "b71ce384949948879b0a9b110ced0280": {
      "model_module": "@jupyter-widgets/base",
      "model_module_version": "1.2.0",
      "model_name": "LayoutModel",
      "state": {
       "_model_module": "@jupyter-widgets/base",
       "_model_module_version": "1.2.0",
       "_model_name": "LayoutModel",
       "_view_count": null,
       "_view_module": "@jupyter-widgets/base",
       "_view_module_version": "1.2.0",
       "_view_name": "LayoutView",
       "align_content": null,
       "align_items": null,
       "align_self": null,
       "border": null,
       "bottom": null,
       "display": null,
       "flex": null,
       "flex_flow": null,
       "grid_area": null,
       "grid_auto_columns": null,
       "grid_auto_flow": null,
       "grid_auto_rows": null,
       "grid_column": null,
       "grid_gap": null,
       "grid_row": null,
       "grid_template_areas": null,
       "grid_template_columns": null,
       "grid_template_rows": null,
       "height": null,
       "justify_content": null,
       "justify_items": null,
       "left": null,
       "margin": null,
       "max_height": null,
       "max_width": null,
       "min_height": null,
       "min_width": null,
       "object_fit": null,
       "object_position": null,
       "order": null,
       "overflow": null,
       "overflow_x": null,
       "overflow_y": null,
       "padding": null,
       "right": null,
       "top": null,
       "visibility": null,
       "width": null
      }
     },
     "bfb3ed0fb6434206ab71472f0efe567e": {
      "model_module": "@jupyter-widgets/controls",
      "model_module_version": "1.5.0",
      "model_name": "FloatProgressModel",
      "state": {
       "_dom_classes": [],
       "_model_module": "@jupyter-widgets/controls",
       "_model_module_version": "1.5.0",
       "_model_name": "FloatProgressModel",
       "_view_count": null,
       "_view_module": "@jupyter-widgets/controls",
       "_view_module_version": "1.5.0",
       "_view_name": "ProgressView",
       "bar_style": "success",
       "description": "",
       "description_tooltip": null,
       "layout": "IPY_MODEL_3f54b9a5c621499cb7d159de61f56010",
       "max": 570,
       "min": 0,
       "orientation": "horizontal",
       "style": "IPY_MODEL_81a3c7f6543b4f44b915bbad3225ca74",
       "value": 570
      }
     },
     "c061ffd9fd4c4ee19decd178ab0d4ce8": {
      "model_module": "@jupyter-widgets/controls",
      "model_module_version": "1.5.0",
      "model_name": "HTMLModel",
      "state": {
       "_dom_classes": [],
       "_model_module": "@jupyter-widgets/controls",
       "_model_module_version": "1.5.0",
       "_model_name": "HTMLModel",
       "_view_count": null,
       "_view_module": "@jupyter-widgets/controls",
       "_view_module_version": "1.5.0",
       "_view_name": "HTMLView",
       "description": "",
       "description_tooltip": null,
       "layout": "IPY_MODEL_e48933d647fc46b48f11fd6c50af74ff",
       "placeholder": "​",
       "style": "IPY_MODEL_92df1553df0d4bee807e569add444e9c",
       "value": "Downloading (…)okenizer_config.json: 100%"
      }
     },
     "cab866881a1e4e15a1589a098eb223fa": {
      "model_module": "@jupyter-widgets/controls",
      "model_module_version": "1.5.0",
      "model_name": "DescriptionStyleModel",
      "state": {
       "_model_module": "@jupyter-widgets/controls",
       "_model_module_version": "1.5.0",
       "_model_name": "DescriptionStyleModel",
       "_view_count": null,
       "_view_module": "@jupyter-widgets/base",
       "_view_module_version": "1.2.0",
       "_view_name": "StyleView",
       "description_width": ""
      }
     },
     "d85445811ee140789cac95a50ede5430": {
      "model_module": "@jupyter-widgets/base",
      "model_module_version": "1.2.0",
      "model_name": "LayoutModel",
      "state": {
       "_model_module": "@jupyter-widgets/base",
       "_model_module_version": "1.2.0",
       "_model_name": "LayoutModel",
       "_view_count": null,
       "_view_module": "@jupyter-widgets/base",
       "_view_module_version": "1.2.0",
       "_view_name": "LayoutView",
       "align_content": null,
       "align_items": null,
       "align_self": null,
       "border": null,
       "bottom": null,
       "display": null,
       "flex": null,
       "flex_flow": null,
       "grid_area": null,
       "grid_auto_columns": null,
       "grid_auto_flow": null,
       "grid_auto_rows": null,
       "grid_column": null,
       "grid_gap": null,
       "grid_row": null,
       "grid_template_areas": null,
       "grid_template_columns": null,
       "grid_template_rows": null,
       "height": null,
       "justify_content": null,
       "justify_items": null,
       "left": null,
       "margin": null,
       "max_height": null,
       "max_width": null,
       "min_height": null,
       "min_width": null,
       "object_fit": null,
       "object_position": null,
       "order": null,
       "overflow": null,
       "overflow_x": null,
       "overflow_y": null,
       "padding": null,
       "right": null,
       "top": null,
       "visibility": null,
       "width": null
      }
     },
     "d92729c066504e7b918d9a4344ca86a9": {
      "model_module": "@jupyter-widgets/base",
      "model_module_version": "1.2.0",
      "model_name": "LayoutModel",
      "state": {
       "_model_module": "@jupyter-widgets/base",
       "_model_module_version": "1.2.0",
       "_model_name": "LayoutModel",
       "_view_count": null,
       "_view_module": "@jupyter-widgets/base",
       "_view_module_version": "1.2.0",
       "_view_name": "LayoutView",
       "align_content": null,
       "align_items": null,
       "align_self": null,
       "border": null,
       "bottom": null,
       "display": null,
       "flex": null,
       "flex_flow": null,
       "grid_area": null,
       "grid_auto_columns": null,
       "grid_auto_flow": null,
       "grid_auto_rows": null,
       "grid_column": null,
       "grid_gap": null,
       "grid_row": null,
       "grid_template_areas": null,
       "grid_template_columns": null,
       "grid_template_rows": null,
       "height": null,
       "justify_content": null,
       "justify_items": null,
       "left": null,
       "margin": null,
       "max_height": null,
       "max_width": null,
       "min_height": null,
       "min_width": null,
       "object_fit": null,
       "object_position": null,
       "order": null,
       "overflow": null,
       "overflow_x": null,
       "overflow_y": null,
       "padding": null,
       "right": null,
       "top": null,
       "visibility": null,
       "width": null
      }
     },
     "da7482eb2e3b4d5783f68f7a4e5f76a1": {
      "model_module": "@jupyter-widgets/controls",
      "model_module_version": "1.5.0",
      "model_name": "FloatProgressModel",
      "state": {
       "_dom_classes": [],
       "_model_module": "@jupyter-widgets/controls",
       "_model_module_version": "1.5.0",
       "_model_name": "FloatProgressModel",
       "_view_count": null,
       "_view_module": "@jupyter-widgets/controls",
       "_view_module_version": "1.5.0",
       "_view_name": "ProgressView",
       "bar_style": "success",
       "description": "",
       "description_tooltip": null,
       "layout": "IPY_MODEL_b71ce384949948879b0a9b110ced0280",
       "max": 28,
       "min": 0,
       "orientation": "horizontal",
       "style": "IPY_MODEL_901feaab9c4d41dfbe4955722be2b521",
       "value": 28
      }
     },
     "e0d72102e69a457cb280a821ce19677b": {
      "model_module": "@jupyter-widgets/controls",
      "model_module_version": "1.5.0",
      "model_name": "DescriptionStyleModel",
      "state": {
       "_model_module": "@jupyter-widgets/controls",
       "_model_module_version": "1.5.0",
       "_model_name": "DescriptionStyleModel",
       "_view_count": null,
       "_view_module": "@jupyter-widgets/base",
       "_view_module_version": "1.2.0",
       "_view_name": "StyleView",
       "description_width": ""
      }
     },
     "e1cff7ed50b941b682f16ac663efe134": {
      "model_module": "@jupyter-widgets/controls",
      "model_module_version": "1.5.0",
      "model_name": "HTMLModel",
      "state": {
       "_dom_classes": [],
       "_model_module": "@jupyter-widgets/controls",
       "_model_module_version": "1.5.0",
       "_model_name": "HTMLModel",
       "_view_count": null,
       "_view_module": "@jupyter-widgets/controls",
       "_view_module_version": "1.5.0",
       "_view_name": "HTMLView",
       "description": "",
       "description_tooltip": null,
       "layout": "IPY_MODEL_feac4852a6e241238085efa7da227ad2",
       "placeholder": "​",
       "style": "IPY_MODEL_9b43c47ad60b455e9e6eea6d3cf56764",
       "value": " 570/570 [00:00&lt;00:00, 45.9kB/s]"
      }
     },
     "e2d61874fab44183b4f29d08b7fa6528": {
      "model_module": "@jupyter-widgets/controls",
      "model_module_version": "1.5.0",
      "model_name": "HTMLModel",
      "state": {
       "_dom_classes": [],
       "_model_module": "@jupyter-widgets/controls",
       "_model_module_version": "1.5.0",
       "_model_name": "HTMLModel",
       "_view_count": null,
       "_view_module": "@jupyter-widgets/controls",
       "_view_module_version": "1.5.0",
       "_view_name": "HTMLView",
       "description": "",
       "description_tooltip": null,
       "layout": "IPY_MODEL_ea61a0526540475db5b2450514cd5712",
       "placeholder": "​",
       "style": "IPY_MODEL_b1ce12e809324bd488f4aa1c1df81768",
       "value": " 28.0/28.0 [00:00&lt;00:00, 2.09kB/s]"
      }
     },
     "e48933d647fc46b48f11fd6c50af74ff": {
      "model_module": "@jupyter-widgets/base",
      "model_module_version": "1.2.0",
      "model_name": "LayoutModel",
      "state": {
       "_model_module": "@jupyter-widgets/base",
       "_model_module_version": "1.2.0",
       "_model_name": "LayoutModel",
       "_view_count": null,
       "_view_module": "@jupyter-widgets/base",
       "_view_module_version": "1.2.0",
       "_view_name": "LayoutView",
       "align_content": null,
       "align_items": null,
       "align_self": null,
       "border": null,
       "bottom": null,
       "display": null,
       "flex": null,
       "flex_flow": null,
       "grid_area": null,
       "grid_auto_columns": null,
       "grid_auto_flow": null,
       "grid_auto_rows": null,
       "grid_column": null,
       "grid_gap": null,
       "grid_row": null,
       "grid_template_areas": null,
       "grid_template_columns": null,
       "grid_template_rows": null,
       "height": null,
       "justify_content": null,
       "justify_items": null,
       "left": null,
       "margin": null,
       "max_height": null,
       "max_width": null,
       "min_height": null,
       "min_width": null,
       "object_fit": null,
       "object_position": null,
       "order": null,
       "overflow": null,
       "overflow_x": null,
       "overflow_y": null,
       "padding": null,
       "right": null,
       "top": null,
       "visibility": null,
       "width": null
      }
     },
     "e8d28d6bc3974b128105d3b38d0e548c": {
      "model_module": "@jupyter-widgets/base",
      "model_module_version": "1.2.0",
      "model_name": "LayoutModel",
      "state": {
       "_model_module": "@jupyter-widgets/base",
       "_model_module_version": "1.2.0",
       "_model_name": "LayoutModel",
       "_view_count": null,
       "_view_module": "@jupyter-widgets/base",
       "_view_module_version": "1.2.0",
       "_view_name": "LayoutView",
       "align_content": null,
       "align_items": null,
       "align_self": null,
       "border": null,
       "bottom": null,
       "display": null,
       "flex": null,
       "flex_flow": null,
       "grid_area": null,
       "grid_auto_columns": null,
       "grid_auto_flow": null,
       "grid_auto_rows": null,
       "grid_column": null,
       "grid_gap": null,
       "grid_row": null,
       "grid_template_areas": null,
       "grid_template_columns": null,
       "grid_template_rows": null,
       "height": null,
       "justify_content": null,
       "justify_items": null,
       "left": null,
       "margin": null,
       "max_height": null,
       "max_width": null,
       "min_height": null,
       "min_width": null,
       "object_fit": null,
       "object_position": null,
       "order": null,
       "overflow": null,
       "overflow_x": null,
       "overflow_y": null,
       "padding": null,
       "right": null,
       "top": null,
       "visibility": null,
       "width": null
      }
     },
     "ea61a0526540475db5b2450514cd5712": {
      "model_module": "@jupyter-widgets/base",
      "model_module_version": "1.2.0",
      "model_name": "LayoutModel",
      "state": {
       "_model_module": "@jupyter-widgets/base",
       "_model_module_version": "1.2.0",
       "_model_name": "LayoutModel",
       "_view_count": null,
       "_view_module": "@jupyter-widgets/base",
       "_view_module_version": "1.2.0",
       "_view_name": "LayoutView",
       "align_content": null,
       "align_items": null,
       "align_self": null,
       "border": null,
       "bottom": null,
       "display": null,
       "flex": null,
       "flex_flow": null,
       "grid_area": null,
       "grid_auto_columns": null,
       "grid_auto_flow": null,
       "grid_auto_rows": null,
       "grid_column": null,
       "grid_gap": null,
       "grid_row": null,
       "grid_template_areas": null,
       "grid_template_columns": null,
       "grid_template_rows": null,
       "height": null,
       "justify_content": null,
       "justify_items": null,
       "left": null,
       "margin": null,
       "max_height": null,
       "max_width": null,
       "min_height": null,
       "min_width": null,
       "object_fit": null,
       "object_position": null,
       "order": null,
       "overflow": null,
       "overflow_x": null,
       "overflow_y": null,
       "padding": null,
       "right": null,
       "top": null,
       "visibility": null,
       "width": null
      }
     },
     "ee0bc7c5641c4b11b7344b058da74e70": {
      "model_module": "@jupyter-widgets/base",
      "model_module_version": "1.2.0",
      "model_name": "LayoutModel",
      "state": {
       "_model_module": "@jupyter-widgets/base",
       "_model_module_version": "1.2.0",
       "_model_name": "LayoutModel",
       "_view_count": null,
       "_view_module": "@jupyter-widgets/base",
       "_view_module_version": "1.2.0",
       "_view_name": "LayoutView",
       "align_content": null,
       "align_items": null,
       "align_self": null,
       "border": null,
       "bottom": null,
       "display": null,
       "flex": null,
       "flex_flow": null,
       "grid_area": null,
       "grid_auto_columns": null,
       "grid_auto_flow": null,
       "grid_auto_rows": null,
       "grid_column": null,
       "grid_gap": null,
       "grid_row": null,
       "grid_template_areas": null,
       "grid_template_columns": null,
       "grid_template_rows": null,
       "height": null,
       "justify_content": null,
       "justify_items": null,
       "left": null,
       "margin": null,
       "max_height": null,
       "max_width": null,
       "min_height": null,
       "min_width": null,
       "object_fit": null,
       "object_position": null,
       "order": null,
       "overflow": null,
       "overflow_x": null,
       "overflow_y": null,
       "padding": null,
       "right": null,
       "top": null,
       "visibility": null,
       "width": null
      }
     },
     "f73c6790afc64ac1af5ca90810b8e75b": {
      "model_module": "@jupyter-widgets/base",
      "model_module_version": "1.2.0",
      "model_name": "LayoutModel",
      "state": {
       "_model_module": "@jupyter-widgets/base",
       "_model_module_version": "1.2.0",
       "_model_name": "LayoutModel",
       "_view_count": null,
       "_view_module": "@jupyter-widgets/base",
       "_view_module_version": "1.2.0",
       "_view_name": "LayoutView",
       "align_content": null,
       "align_items": null,
       "align_self": null,
       "border": null,
       "bottom": null,
       "display": null,
       "flex": null,
       "flex_flow": null,
       "grid_area": null,
       "grid_auto_columns": null,
       "grid_auto_flow": null,
       "grid_auto_rows": null,
       "grid_column": null,
       "grid_gap": null,
       "grid_row": null,
       "grid_template_areas": null,
       "grid_template_columns": null,
       "grid_template_rows": null,
       "height": null,
       "justify_content": null,
       "justify_items": null,
       "left": null,
       "margin": null,
       "max_height": null,
       "max_width": null,
       "min_height": null,
       "min_width": null,
       "object_fit": null,
       "object_position": null,
       "order": null,
       "overflow": null,
       "overflow_x": null,
       "overflow_y": null,
       "padding": null,
       "right": null,
       "top": null,
       "visibility": null,
       "width": null
      }
     },
     "fe198b94db484364b9a1de5b1f1c652d": {
      "model_module": "@jupyter-widgets/controls",
      "model_module_version": "1.5.0",
      "model_name": "HBoxModel",
      "state": {
       "_dom_classes": [],
       "_model_module": "@jupyter-widgets/controls",
       "_model_module_version": "1.5.0",
       "_model_name": "HBoxModel",
       "_view_count": null,
       "_view_module": "@jupyter-widgets/controls",
       "_view_module_version": "1.5.0",
       "_view_name": "HBoxView",
       "box_style": "",
       "children": [
        "IPY_MODEL_a351a42db9824cf7905a864d0bcc7a14",
        "IPY_MODEL_bfb3ed0fb6434206ab71472f0efe567e",
        "IPY_MODEL_e1cff7ed50b941b682f16ac663efe134"
       ],
       "layout": "IPY_MODEL_60f986bb96a84c69baadac3797dbc240"
      }
     },
     "feac4852a6e241238085efa7da227ad2": {
      "model_module": "@jupyter-widgets/base",
      "model_module_version": "1.2.0",
      "model_name": "LayoutModel",
      "state": {
       "_model_module": "@jupyter-widgets/base",
       "_model_module_version": "1.2.0",
       "_model_name": "LayoutModel",
       "_view_count": null,
       "_view_module": "@jupyter-widgets/base",
       "_view_module_version": "1.2.0",
       "_view_name": "LayoutView",
       "align_content": null,
       "align_items": null,
       "align_self": null,
       "border": null,
       "bottom": null,
       "display": null,
       "flex": null,
       "flex_flow": null,
       "grid_area": null,
       "grid_auto_columns": null,
       "grid_auto_flow": null,
       "grid_auto_rows": null,
       "grid_column": null,
       "grid_gap": null,
       "grid_row": null,
       "grid_template_areas": null,
       "grid_template_columns": null,
       "grid_template_rows": null,
       "height": null,
       "justify_content": null,
       "justify_items": null,
       "left": null,
       "margin": null,
       "max_height": null,
       "max_width": null,
       "min_height": null,
       "min_width": null,
       "object_fit": null,
       "object_position": null,
       "order": null,
       "overflow": null,
       "overflow_x": null,
       "overflow_y": null,
       "padding": null,
       "right": null,
       "top": null,
       "visibility": null,
       "width": null
      }
     }
    },
    "version_major": 2,
    "version_minor": 0
   }
  }
 },
 "nbformat": 4,
 "nbformat_minor": 5
}
