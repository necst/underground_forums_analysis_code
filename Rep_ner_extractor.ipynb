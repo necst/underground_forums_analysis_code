{
 "cells": [
  {
   "cell_type": "markdown",
   "id": "f5d1d76c",
   "metadata": {
    "papermill": {
     "duration": 0.006446,
     "end_time": "2023-10-29T17:52:07.967313",
     "exception": false,
     "start_time": "2023-10-29T17:52:07.960867",
     "status": "completed"
    },
    "tags": []
   },
   "source": [
    "### Import libraries"
   ]
  },
  {
   "cell_type": "code",
   "execution_count": null,
   "id": "8405dddb",
   "metadata": {
    "_cell_guid": "b1076dfc-b9ad-4769-8c92-a6c4dae69d19",
    "_uuid": "8f2839f25d086af736a60e9eeb907d3b93b6e0e5",
    "execution": {
     "iopub.execute_input": "2023-10-29T17:52:07.980811Z",
     "iopub.status.busy": "2023-10-29T17:52:07.980448Z",
     "iopub.status.idle": "2023-10-29T17:52:21.834479Z",
     "shell.execute_reply": "2023-10-29T17:52:21.833689Z"
    },
    "papermill": {
     "duration": 13.863402,
     "end_time": "2023-10-29T17:52:21.836831",
     "exception": false,
     "start_time": "2023-10-29T17:52:07.973429",
     "status": "completed"
    },
    "tags": []
   },
   "outputs": [],
   "source": [
    "import os\n",
    "import math\n",
    "import time\n",
    "import json\n",
    "import torch\n",
    "import zipfile\n",
    "import numpy as np\n",
    "import pandas as pd\n",
    "from tqdm import tqdm\n",
    "from torch import cuda\n",
    "from torch.utils.data import DataLoader, Dataset\n",
    "from transformers import RobertaTokenizerFast, RobertaForTokenClassification\n",
    "from torch.utils.data import DataLoader, SequentialSampler, TensorDataset\n",
    "\n",
    "import warnings\n",
    "warnings.filterwarnings(\"ignore\")"
   ]
  },
  {
   "cell_type": "code",
   "execution_count": null,
   "id": "c5eac6e8",
   "metadata": {
    "execution": {
     "iopub.execute_input": "2023-10-29T17:52:21.850470Z",
     "iopub.status.busy": "2023-10-29T17:52:21.850167Z",
     "iopub.status.idle": "2023-10-29T17:52:21.922969Z",
     "shell.execute_reply": "2023-10-29T17:52:21.921907Z"
    },
    "papermill": {
     "duration": 0.08193,
     "end_time": "2023-10-29T17:52:21.925007",
     "exception": false,
     "start_time": "2023-10-29T17:52:21.843077",
     "status": "completed"
    },
    "tags": []
   },
   "outputs": [],
   "source": [
    "# Set the default device to GPU\n",
    "device = 'cuda' if cuda.is_available() else 'cpu'\n",
    "print(device)"
   ]
  },
  {
   "cell_type": "markdown",
   "id": "ffd81f46",
   "metadata": {
    "papermill": {
     "duration": 0.005786,
     "end_time": "2023-10-29T17:52:21.936856",
     "exception": false,
     "start_time": "2023-10-29T17:52:21.931070",
     "status": "completed"
    },
    "tags": []
   },
   "source": [
    "### Setup the pathes"
   ]
  },
  {
   "cell_type": "code",
   "execution_count": null,
   "id": "0064f791",
   "metadata": {
    "execution": {
     "iopub.execute_input": "2023-10-29T17:52:21.949826Z",
     "iopub.status.busy": "2023-10-29T17:52:21.949542Z",
     "iopub.status.idle": "2023-10-29T17:52:21.955087Z",
     "shell.execute_reply": "2023-10-29T17:52:21.954365Z"
    },
    "papermill": {
     "duration": 0.014154,
     "end_time": "2023-10-29T17:52:21.956918",
     "exception": false,
     "start_time": "2023-10-29T17:52:21.942764",
     "status": "completed"
    },
    "tags": []
   },
   "outputs": [],
   "source": [
    "model_input_dir = '/home/anon/input/ner-models/REP_NER_model'  # Directory with the fine-tuned RoBERTa model\n",
    "\n",
    "df_input_dir = '/home/anon/input/chunks-nlp/REP_chunks_NLP'  # Directory with the posts to label\n",
    "json_output_dir = '/home/anon/working/outputs'  # Direcotry with the final predicted posts\n",
    "if not os.path.exists(json_output_dir):\n",
    "    os.makedirs(json_output_dir)\n",
    "\n",
    "intermediate_predictions_dir = '/home/anon/working/intermediate_predictions'  # Directory with intermediate predictions\n",
    "if not os.path.exists(intermediate_predictions_dir):\n",
    "    os.makedirs(intermediate_predictions_dir)"
   ]
  },
  {
   "cell_type": "markdown",
   "id": "0052384d",
   "metadata": {
    "papermill": {
     "duration": 0.005732,
     "end_time": "2023-10-29T17:52:21.968542",
     "exception": false,
     "start_time": "2023-10-29T17:52:21.962810",
     "status": "completed"
    },
    "tags": []
   },
   "source": [
    "### Load the model"
   ]
  },
  {
   "cell_type": "code",
   "execution_count": null,
   "id": "4cb05755",
   "metadata": {
    "execution": {
     "iopub.execute_input": "2023-10-29T17:52:21.981908Z",
     "iopub.status.busy": "2023-10-29T17:52:21.981216Z",
     "iopub.status.idle": "2023-10-29T17:52:32.682576Z",
     "shell.execute_reply": "2023-10-29T17:52:32.681603Z"
    },
    "papermill": {
     "duration": 10.710487,
     "end_time": "2023-10-29T17:52:32.684831",
     "exception": false,
     "start_time": "2023-10-29T17:52:21.974344",
     "status": "completed"
    },
    "tags": []
   },
   "outputs": [],
   "source": [
    "# Load the tokenizer\n",
    "tokenizer = RobertaTokenizerFast.from_pretrained(model_input_dir)\n",
    "\n",
    "# Load the fine-tuned model\n",
    "model = RobertaForTokenClassification.from_pretrained(model_input_dir)\n",
    "\n",
    "# Copy the model to the GPU.\n",
    "model.to(device)"
   ]
  },
  {
   "cell_type": "code",
   "execution_count": null,
   "id": "27957525",
   "metadata": {
    "execution": {
     "iopub.execute_input": "2023-10-29T17:52:32.699596Z",
     "iopub.status.busy": "2023-10-29T17:52:32.698802Z",
     "iopub.status.idle": "2023-10-29T17:52:32.703225Z",
     "shell.execute_reply": "2023-10-29T17:52:32.702308Z"
    },
    "papermill": {
     "duration": 0.013584,
     "end_time": "2023-10-29T17:52:32.705202",
     "exception": false,
     "start_time": "2023-10-29T17:52:32.691618",
     "status": "completed"
    },
    "tags": []
   },
   "outputs": [],
   "source": [
    "# Define the maximum sequence length for each window - as in the training phase\n",
    "max_length = 128"
   ]
  },
  {
   "cell_type": "code",
   "execution_count": null,
   "id": "1398eb30",
   "metadata": {
    "execution": {
     "iopub.execute_input": "2023-10-29T17:52:32.719035Z",
     "iopub.status.busy": "2023-10-29T17:52:32.718693Z",
     "iopub.status.idle": "2023-10-29T17:52:32.724372Z",
     "shell.execute_reply": "2023-10-29T17:52:32.723476Z"
    },
    "papermill": {
     "duration": 0.0148,
     "end_time": "2023-10-29T17:52:32.726371",
     "exception": false,
     "start_time": "2023-10-29T17:52:32.711571",
     "status": "completed"
    },
    "tags": []
   },
   "outputs": [],
   "source": [
    "# Create list of categories\n",
    "tags = [\"APT\", \"SECTEAM\", \"IDTY\", \"OS\", \"EMAIL\", \"LOC\", \"TIME\", \"IP\", \"DOM\", \"URL\", \"PROT\", \n",
    "         \"FILE\", \"TOOL\", \"MD5\", \"SHA1\", \"SHA2\", \"MAL\", \"ENCR\", \"VULNAME\", \"VULID\", \"ACT\"]\n",
    "limits = [\"B\", \"I\"]  # Annotation scheme\n",
    "entity_tags = [\"O\"] + [limit + \"-\" + tag for tag in tags for limit in limits]"
   ]
  },
  {
   "cell_type": "code",
   "execution_count": null,
   "id": "b9bc0755",
   "metadata": {
    "execution": {
     "iopub.execute_input": "2023-10-29T17:52:32.740574Z",
     "iopub.status.busy": "2023-10-29T17:52:32.739852Z",
     "iopub.status.idle": "2023-10-29T17:52:32.745284Z",
     "shell.execute_reply": "2023-10-29T17:52:32.744279Z"
    },
    "papermill": {
     "duration": 0.014754,
     "end_time": "2023-10-29T17:52:32.747379",
     "exception": false,
     "start_time": "2023-10-29T17:52:32.732625",
     "status": "completed"
    },
    "tags": []
   },
   "outputs": [],
   "source": [
    "# Create dictionaries\n",
    "labels_to_ids = {label: str(i) for i,label in enumerate(entity_tags)}  # Maps individual tags to indices\n",
    "ids_to_labels = {str(i): label for i,label in enumerate(entity_tags)}  # Maps indices to individual tags"
   ]
  },
  {
   "cell_type": "markdown",
   "id": "fe868721",
   "metadata": {
    "papermill": {
     "duration": 0.006071,
     "end_time": "2023-10-29T17:52:32.760372",
     "exception": false,
     "start_time": "2023-10-29T17:52:32.754301",
     "status": "completed"
    },
    "tags": []
   },
   "source": [
    "### Functions definition"
   ]
  },
  {
   "cell_type": "code",
   "execution_count": null,
   "id": "0e4c1b97",
   "metadata": {
    "execution": {
     "iopub.execute_input": "2023-10-29T17:52:32.774456Z",
     "iopub.status.busy": "2023-10-29T17:52:32.774146Z",
     "iopub.status.idle": "2023-10-29T17:52:32.787067Z",
     "shell.execute_reply": "2023-10-29T17:52:32.786161Z"
    },
    "papermill": {
     "duration": 0.022391,
     "end_time": "2023-10-29T17:52:32.789056",
     "exception": false,
     "start_time": "2023-10-29T17:52:32.766665",
     "status": "completed"
    },
    "tags": []
   },
   "outputs": [],
   "source": [
    "\"\"\"\n",
    "Load the dataset and setup values to start predictions\n",
    "    Parameters: name of the file to retrieve\n",
    "    Returns: the created dataframe, boundaries to start fetching for predictions\n",
    "\"\"\"\n",
    "\n",
    "def load_dataset(file_name):\n",
    "    # Retrieve pathes\n",
    "    input_filename = file_name + '_unrelatedContentRemoval_iocDefanging_passiveActiveConversion_synonymHomogenization_pronounsSubjectEllipsisResolution_stopwordsRemoval_internetSlangRemoval_aliasesHandling.json'\n",
    "    file_path = os.path.join(df_input_dir, input_filename)\n",
    "    intermediate_predictions_path = os.path.join(intermediate_predictions_dir, file_name) + '.txt'\n",
    "    \n",
    "    with open(file_path, 'r', encoding='utf-8') as file:\n",
    "            data = json.load(file)\n",
    "            \n",
    "    for i, entry in enumerate(data):\n",
    "        sentence_list = []\n",
    "        for sentence in entry['content']:\n",
    "            if sentence == \"\":\n",
    "                continue\n",
    "            sentence_list.append(sentence)\n",
    "        data[i]['content'] = sentence_list    \n",
    "            \n",
    "    df = pd.DataFrame(data)\n",
    "    # Convert the 'date' column to datetime format\n",
    "    df['date'] = pd.to_datetime(df['date'])\n",
    "    # Format the 'date' column as MM-DD-YYYY\n",
    "    df['date'] = df['date'].dt.strftime('%m-%d-%Y')\n",
    "\n",
    "    # Report the number of articles\n",
    "    print('Number of articles: {:,}'.format(df.shape[0]))\n",
    "    \n",
    "    new_data = []\n",
    "    for idx, row in df.iterrows():\n",
    "        r_ID = row['ID']\n",
    "        r_date = row['date']\n",
    "        r_flatContent = row['flatContent']\n",
    "        r_origin = row['origin']\n",
    "        r_content = row['content']\n",
    "        r_aliases_list = row['aliases_list']\n",
    "        for cont, al in zip(r_content, r_aliases_list):\n",
    "            new_data.append({\n",
    "                'ID':r_ID,\n",
    "                'date':r_date,\n",
    "                'flatContent':r_flatContent,\n",
    "                'origin':r_origin,\n",
    "                'content':cont,\n",
    "                'aliases_list':al\n",
    "            })\n",
    "            \n",
    "    df = pd.DataFrame(new_data)\n",
    "\n",
    "    # Report the number of sentences\n",
    "    print('Number of sentences: {:,}'.format(df.shape[0]))\n",
    "    \n",
    "    # Read file with intermediate predictions, count the number of rows and set min_retrieved_data\n",
    "    max_retrieved_data = df.shape[0]  \n",
    "    min_retrieved_data = 0\n",
    "\n",
    "    if os.path.isfile(intermediate_predictions_path):\n",
    "        with open(intermediate_predictions_path, 'r') as file:\n",
    "            min_retrieved_data = sum(1 for _ in file)\n",
    "    print(\"Resume prediction from row #\", min_retrieved_data)\n",
    "    \n",
    "    return df, max_retrieved_data, min_retrieved_data"
   ]
  },
  {
   "cell_type": "code",
   "execution_count": null,
   "id": "dfa13b07",
   "metadata": {
    "execution": {
     "iopub.execute_input": "2023-10-29T17:52:32.803209Z",
     "iopub.status.busy": "2023-10-29T17:52:32.802598Z",
     "iopub.status.idle": "2023-10-29T17:52:32.814590Z",
     "shell.execute_reply": "2023-10-29T17:52:32.813749Z"
    },
    "papermill": {
     "duration": 0.021186,
     "end_time": "2023-10-29T17:52:32.816560",
     "exception": false,
     "start_time": "2023-10-29T17:52:32.795374",
     "status": "completed"
    },
    "tags": []
   },
   "outputs": [],
   "source": [
    "\"\"\"\n",
    "Define the steps to tokenize the input and perform classification\n",
    "    Parameters: name of the file to retrieve, dataframe on which operating, boundaries to start fetching for predictions\n",
    "    Returns: Nothing -> Predictions are stored in the file intermediate_predictions_path\n",
    "\"\"\"\n",
    "def make_extraction(file_name, df, max_retrieved_data, min_retrieved_data):    \n",
    "    # Retrieve path\n",
    "    intermediate_predictions_path = os.path.join(intermediate_predictions_dir, file_name) + '.txt'\n",
    "\n",
    "    if min_retrieved_data >= max_retrieved_data:\n",
    "            print(\"Entity extraction already completed\")\n",
    "            return\n",
    "\n",
    "    df_slice = df.loc[min_retrieved_data:max_retrieved_data]\n",
    "    len_df = len(df_slice)\n",
    "\n",
    "    with open(intermediate_predictions_path, 'a') as file:\n",
    "        for idx, row in tqdm(df_slice.iterrows(), total=len_df, desc='Inference'):\n",
    "            sentence = row['content'].lower()\n",
    "            \n",
    "            inputs = tokenizer(sentence.strip().split(),\n",
    "                                is_split_into_words=True,\n",
    "                                return_offsets_mapping=True,\n",
    "                                padding='max_length',\n",
    "                                truncation=True,\n",
    "                                max_length=max_length,\n",
    "                                return_tensors=\"pt\")\n",
    "\n",
    "            # move to gpu\n",
    "            ids = inputs[\"input_ids\"].to(device)\n",
    "            mask = inputs[\"attention_mask\"].to(device)\n",
    "\n",
    "            # forward pass\n",
    "            outputs = model(ids, attention_mask=mask)\n",
    "            logits = outputs[0]\n",
    "\n",
    "            active_logits = logits.view(-1, model.num_labels) # shape (batch_size * seq_len, num_labels)\n",
    "            flattened_predictions = torch.argmax(active_logits, axis=1) # shape (batch_size*seq_len,) - predictions at the token level\n",
    "\n",
    "            tokens = tokenizer.convert_ids_to_tokens(ids.squeeze().tolist())\n",
    "            token_predictions = [ids_to_labels[str(i)] for i in flattened_predictions.cpu().numpy()]\n",
    "            wp_preds = list(zip(tokens, token_predictions)) # list of tuples. Each tuple = (wordpiece, prediction)\n",
    "\n",
    "            prediction = []\n",
    "            for token_pred in wp_preds:\n",
    "                if token_pred[0][0] == 'Ġ':  # Character identifying 1st token of a word\n",
    "                    prediction.append(token_pred[1])\n",
    "            padded_prediction = prediction + ['O'] * (len(sentence.split()) - len(prediction))  # Tokens padding in case of truncation\n",
    "\n",
    "            # Save intermediate predictions\n",
    "            if idx > 0:\n",
    "                file.write('\\n' + ','.join(padded_prediction))\n",
    "            else:\n",
    "                file.write(','.join(padded_prediction))"
   ]
  },
  {
   "cell_type": "code",
   "execution_count": null,
   "id": "8f5f1786",
   "metadata": {
    "execution": {
     "iopub.execute_input": "2023-10-29T17:52:32.831183Z",
     "iopub.status.busy": "2023-10-29T17:52:32.830799Z",
     "iopub.status.idle": "2023-10-29T17:52:32.839023Z",
     "shell.execute_reply": "2023-10-29T17:52:32.838069Z"
    },
    "papermill": {
     "duration": 0.01812,
     "end_time": "2023-10-29T17:52:32.841108",
     "exception": false,
     "start_time": "2023-10-29T17:52:32.822988",
     "status": "completed"
    },
    "tags": []
   },
   "outputs": [],
   "source": [
    "\"\"\"\n",
    "Show the statistics of the extracted entities and save them in a json file then release the dataframe\n",
    "    Parameters: name of the file to retrieve, dataframe on which operating, upper boundary\n",
    "    Returns: Nothing -> Entities are stored in the file intermediate_predictions_path\n",
    "\"\"\"\n",
    "def save_predictions(file_name, df, max_retrieved_data):\n",
    "    # Retrieve pathes\n",
    "    intermediate_predictions_path = os.path.join(intermediate_predictions_dir, file_name) + '.txt'\n",
    "    json_output_path = os.path.join(json_output_dir, file_name) + '.json'\n",
    "    \n",
    "    # After all entities are predicted, retrieve all their tokens\n",
    "    with open(intermediate_predictions_path, 'r') as file:\n",
    "        lines = file.readlines()\n",
    "    res = [row.strip() for row in lines]\n",
    "\n",
    "    # Create field for tags\n",
    "    df['tags'] = pd.Series(res)\n",
    "    \n",
    "    # Group the DataFrame by 'ID', 'date', and 'origin' and concatenate the 'content' strings\n",
    "    df = df.groupby(['ID', 'date', 'flatContent', 'origin']).agg({'content': list, 'tags': list, 'aliases_list': list}).reset_index()\n",
    "    \n",
    "    # Save files\n",
    "    print(\"Saving json to %s\\n\" % json_output_path)\n",
    "\n",
    "    # Save the DataFrame to a JSON file in the specified directory\n",
    "    df.to_json(json_output_path, orient='records', indent=4)\n",
    "    \n",
    "    # Free resources\n",
    "    del df"
   ]
  },
  {
   "cell_type": "markdown",
   "id": "256e49b3",
   "metadata": {
    "papermill": {
     "duration": 0.006055,
     "end_time": "2023-10-29T17:52:32.853331",
     "exception": false,
     "start_time": "2023-10-29T17:52:32.847276",
     "status": "completed"
    },
    "tags": []
   },
   "source": [
    "### Execution"
   ]
  },
  {
   "cell_type": "code",
   "execution_count": null,
   "id": "902d4f32",
   "metadata": {
    "execution": {
     "iopub.execute_input": "2023-10-29T17:52:32.867844Z",
     "iopub.status.busy": "2023-10-29T17:52:32.867006Z",
     "iopub.status.idle": "2023-10-29T17:52:32.873375Z",
     "shell.execute_reply": "2023-10-29T17:52:32.872430Z"
    },
    "papermill": {
     "duration": 0.016079,
     "end_time": "2023-10-29T17:52:32.875478",
     "exception": false,
     "start_time": "2023-10-29T17:52:32.859399",
     "status": "completed"
    },
    "tags": []
   },
   "outputs": [],
   "source": [
    "def execute_code(filename):\n",
    "    print(\"Retrieve\", filename)\n",
    "    \n",
    "    # Check if an output_json already exists for the given file -> if yes, skip to the next one\n",
    "    json_output_path = os.path.join(json_output_dir, filename) + '.json'\n",
    "    if os.path.isfile(json_output_path):\n",
    "        print(\"File already processed, skipped\\n\")\n",
    "        return\n",
    "        \n",
    "    # Load the dataset from df_input_dir\n",
    "    df, max_retrieved_data, min_retrieved_data = load_dataset(filename)\n",
    "    \n",
    "    # Entity extraction\n",
    "    make_extraction(filename, df, max_retrieved_data, min_retrieved_data)\n",
    "    \n",
    "    # Save predictions\n",
    "    save_predictions(filename, df, max_retrieved_data)"
   ]
  },
  {
   "cell_type": "code",
   "execution_count": null,
   "id": "eddf320a",
   "metadata": {
    "execution": {
     "iopub.execute_input": "2023-10-29T17:52:32.889241Z",
     "iopub.status.busy": "2023-10-29T17:52:32.888898Z",
     "iopub.status.idle": "2023-10-29T17:52:32.893239Z",
     "shell.execute_reply": "2023-10-29T17:52:32.892500Z"
    },
    "papermill": {
     "duration": 0.013402,
     "end_time": "2023-10-29T17:52:32.895175",
     "exception": false,
     "start_time": "2023-10-29T17:52:32.881773",
     "status": "completed"
    },
    "tags": []
   },
   "outputs": [],
   "source": [
    "choose_interval = True  # True if one wants to execute a specified interval of chunks"
   ]
  },
  {
   "cell_type": "code",
   "execution_count": null,
   "id": "9e621d9b",
   "metadata": {
    "execution": {
     "iopub.execute_input": "2023-10-29T17:52:32.909382Z",
     "iopub.status.busy": "2023-10-29T17:52:32.908994Z",
     "iopub.status.idle": "2023-10-29T21:48:17.865067Z",
     "shell.execute_reply": "2023-10-29T21:48:17.863951Z"
    },
    "papermill": {
     "duration": 14144.965537,
     "end_time": "2023-10-29T21:48:17.867087",
     "exception": false,
     "start_time": "2023-10-29T17:52:32.901550",
     "status": "completed"
    },
    "tags": []
   },
   "outputs": [],
   "source": [
    "if choose_interval:\n",
    "    for i in range(1, 197):  #394\n",
    "        filename = 'REP_{0}'.format(i)\n",
    "        execute_code(filename)"
   ]
  },
  {
   "cell_type": "code",
   "execution_count": null,
   "id": "f04134be",
   "metadata": {
    "execution": {
     "iopub.execute_input": "2023-10-29T21:48:37.852461Z",
     "iopub.status.busy": "2023-10-29T21:48:37.851647Z",
     "iopub.status.idle": "2023-10-29T21:48:37.856223Z",
     "shell.execute_reply": "2023-10-29T21:48:37.855386Z"
    },
    "papermill": {
     "duration": 9.831956,
     "end_time": "2023-10-29T21:48:37.857959",
     "exception": false,
     "start_time": "2023-10-29T21:48:28.026003",
     "status": "completed"
    },
    "tags": []
   },
   "outputs": [],
   "source": [
    "if not choose_interval:\n",
    "    for filename in os.listdir(df_input_dir):\n",
    "        execute_code(filename)"
   ]
  },
  {
   "cell_type": "code",
   "execution_count": null,
   "id": "a76d121d",
   "metadata": {
    "execution": {
     "iopub.execute_input": "2023-10-29T21:48:58.009567Z",
     "iopub.status.busy": "2023-10-29T21:48:58.009217Z",
     "iopub.status.idle": "2023-10-29T21:48:59.054593Z",
     "shell.execute_reply": "2023-10-29T21:48:59.053594Z"
    },
    "papermill": {
     "duration": 11.107247,
     "end_time": "2023-10-29T21:48:59.056795",
     "exception": false,
     "start_time": "2023-10-29T21:48:47.949548",
     "status": "completed"
    },
    "tags": []
   },
   "outputs": [],
   "source": [
    "# Directory path containing the intermediate files to zip\n",
    "source_directory = intermediate_predictions_dir\n",
    "\n",
    "# Zip file path\n",
    "zip_file_path = '/home/anon/working/intermediate_predictions.zip'\n",
    "\n",
    "# Create a ZIP archive\n",
    "with zipfile.ZipFile(zip_file_path, 'w', zipfile.ZIP_DEFLATED) as zipf:\n",
    "    # Loop through all files in the directory and add them to the ZIP archive\n",
    "    for root, _, files in os.walk(source_directory):\n",
    "        for file in files:\n",
    "            file_path = os.path.join(root, file)\n",
    "            zipf.write(file_path, os.path.relpath(file_path, source_directory))"
   ]
  },
  {
   "cell_type": "code",
   "execution_count": null,
   "id": "5bc49022",
   "metadata": {
    "execution": {
     "iopub.execute_input": "2023-10-29T21:49:18.877394Z",
     "iopub.status.busy": "2023-10-29T21:49:18.877026Z",
     "iopub.status.idle": "2023-10-29T21:49:35.130874Z",
     "shell.execute_reply": "2023-10-29T21:49:35.130067Z"
    },
    "papermill": {
     "duration": 26.312805,
     "end_time": "2023-10-29T21:49:35.133217",
     "exception": false,
     "start_time": "2023-10-29T21:49:08.820412",
     "status": "completed"
    },
    "tags": []
   },
   "outputs": [],
   "source": [
    "# Directory path containing the output files to zip\n",
    "source_directory = json_output_dir\n",
    "\n",
    "# Zip file path\n",
    "zip_file_path = '/home/anon/working/json_output.zip'\n",
    "\n",
    "# Create a ZIP archive\n",
    "with zipfile.ZipFile(zip_file_path, 'w', zipfile.ZIP_DEFLATED) as zipf:\n",
    "    # Loop through all files in the directory and add them to the ZIP archive\n",
    "    for root, _, files in os.walk(source_directory):\n",
    "        for file in files:\n",
    "            file_path = os.path.join(root, file)\n",
    "            zipf.write(file_path, os.path.relpath(file_path, source_directory))"
   ]
  }
 ],
 "metadata": {
  "kernelspec": {
   "display_name": "Python 3",
   "language": "python",
   "name": "python3"
  },
  "language_info": {
   "codemirror_mode": {
    "name": "ipython",
    "version": 3
   },
   "file_extension": ".py",
   "mimetype": "text/x-python",
   "name": "python",
   "nbconvert_exporter": "python",
   "pygments_lexer": "ipython3",
   "version": "3.10.12"
  },
  "papermill": {
   "default_parameters": {},
   "duration": 14263.635907,
   "end_time": "2023-10-29T21:49:48.158349",
   "environment_variables": {},
   "exception": null,
   "input_path": "__notebook__.ipynb",
   "output_path": "__notebook__.ipynb",
   "parameters": {},
   "start_time": "2023-10-29T17:52:04.522442",
   "version": "2.4.0"
  }
 },
 "nbformat": 4,
 "nbformat_minor": 5
}
