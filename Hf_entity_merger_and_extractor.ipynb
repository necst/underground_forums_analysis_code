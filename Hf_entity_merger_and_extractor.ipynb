{
 "cells": [
  {
   "cell_type": "code",
   "execution_count": null,
   "id": "46b37363",
   "metadata": {
    "_cell_guid": "b1076dfc-b9ad-4769-8c92-a6c4dae69d19",
    "_uuid": "8f2839f25d086af736a60e9eeb907d3b93b6e0e5",
    "execution": {
     "iopub.execute_input": "2023-10-30T13:42:43.055144Z",
     "iopub.status.busy": "2023-10-30T13:42:43.054380Z",
     "iopub.status.idle": "2023-10-30T13:42:55.346445Z",
     "shell.execute_reply": "2023-10-30T13:42:55.345302Z"
    },
    "papermill": {
     "duration": 12.301271,
     "end_time": "2023-10-30T13:42:55.348820",
     "exception": false,
     "start_time": "2023-10-30T13:42:43.047549",
     "status": "completed"
    },
    "tags": []
   },
   "outputs": [],
   "source": [
    "# Installation for IOC defanging - https://github.com/ioc-fang/ioc-fanger\n",
    "!pip install -q ioc-fanger"
   ]
  },
  {
   "cell_type": "code",
   "execution_count": null,
   "id": "2eb3b504",
   "metadata": {
    "execution": {
     "iopub.execute_input": "2023-10-30T13:42:55.359777Z",
     "iopub.status.busy": "2023-10-30T13:42:55.359376Z",
     "iopub.status.idle": "2023-10-30T13:42:55.789402Z",
     "shell.execute_reply": "2023-10-30T13:42:55.788258Z"
    },
    "papermill": {
     "duration": 0.441685,
     "end_time": "2023-10-30T13:42:55.796102",
     "exception": false,
     "start_time": "2023-10-30T13:42:55.354417",
     "status": "completed"
    },
    "tags": []
   },
   "outputs": [],
   "source": [
    "import ioc_fanger\n",
    "import pandas as pd\n",
    "import re\n",
    "import json\n",
    "from tqdm import tqdm\n",
    "import ipaddress"
   ]
  },
  {
   "cell_type": "markdown",
   "id": "1ef3dc1e",
   "metadata": {
    "papermill": {
     "duration": 0.005411,
     "end_time": "2023-10-30T13:42:55.806181",
     "exception": false,
     "start_time": "2023-10-30T13:42:55.800770",
     "status": "completed"
    },
    "tags": []
   },
   "source": [
    "## Merger"
   ]
  },
  {
   "cell_type": "code",
   "execution_count": null,
   "id": "51488695",
   "metadata": {
    "execution": {
     "iopub.execute_input": "2023-10-30T13:42:55.819628Z",
     "iopub.status.busy": "2023-10-30T13:42:55.818478Z",
     "iopub.status.idle": "2023-10-30T13:43:03.770047Z",
     "shell.execute_reply": "2023-10-30T13:43:03.769063Z"
    },
    "papermill": {
     "duration": 7.9606,
     "end_time": "2023-10-30T13:43:03.772313",
     "exception": false,
     "start_time": "2023-10-30T13:42:55.811713",
     "status": "completed"
    },
    "tags": []
   },
   "outputs": [],
   "source": [
    "total_data = []\n",
    "for i in tqdm(range(1,168), desc=\"Merging\"):\n",
    "    file_path = f'/home/anon/input/chunks-predictions/HF_chunks_predictions/HF_{i}.json'\n",
    "    with open(file_path, 'r', encoding='utf-8') as file:\n",
    "        data = json.load(file)\n",
    "    \n",
    "    for entry in data:\n",
    "        total_data.append(entry)"
   ]
  },
  {
   "cell_type": "code",
   "execution_count": null,
   "id": "dcd9a817",
   "metadata": {
    "execution": {
     "iopub.execute_input": "2023-10-30T13:43:03.787842Z",
     "iopub.status.busy": "2023-10-30T13:43:03.787470Z",
     "iopub.status.idle": "2023-10-30T13:43:03.794809Z",
     "shell.execute_reply": "2023-10-30T13:43:03.793865Z"
    },
    "papermill": {
     "duration": 0.017527,
     "end_time": "2023-10-30T13:43:03.796929",
     "exception": false,
     "start_time": "2023-10-30T13:43:03.779402",
     "status": "completed"
    },
    "tags": []
   },
   "outputs": [],
   "source": [
    "len(total_data)"
   ]
  },
  {
   "cell_type": "markdown",
   "id": "0b434f47",
   "metadata": {
    "papermill": {
     "duration": 0.007137,
     "end_time": "2023-10-30T13:43:03.811450",
     "exception": false,
     "start_time": "2023-10-30T13:43:03.804313",
     "status": "completed"
    },
    "tags": []
   },
   "source": [
    "## Extractor"
   ]
  },
  {
   "cell_type": "code",
   "execution_count": null,
   "id": "bbe54577",
   "metadata": {
    "execution": {
     "iopub.execute_input": "2023-10-30T13:43:03.827264Z",
     "iopub.status.busy": "2023-10-30T13:43:03.826894Z",
     "iopub.status.idle": "2023-10-30T13:43:03.834561Z",
     "shell.execute_reply": "2023-10-30T13:43:03.833847Z"
    },
    "papermill": {
     "duration": 0.017881,
     "end_time": "2023-10-30T13:43:03.836595",
     "exception": false,
     "start_time": "2023-10-30T13:43:03.818714",
     "status": "completed"
    },
    "tags": []
   },
   "outputs": [],
   "source": [
    "# Regular expressions to match different patterns\n",
    "email_regex = r'^[a-zA-Z0-9._%+-]+@[a-zA-Z0-9.-]+\\.[a-zA-Z]{2,}$'\n",
    "time_regex = r'^\\d{1,2}:\\d{1,2}(:\\d{1,2})?$'\n",
    "ip_regex = r'^\\d{1,3}\\.\\d{1,3}\\.\\d{1,3}\\.\\d{1,3}$'\n",
    "web_domain_regex = r'^([a-zA-Z0-9-]+\\.[a-zA-Z]{2,})$'\n",
    "url_regex = r'^https?://[^\\s/$.?#][^\\s/?#]*[^\\s/.?#]$'\n",
    "file_with_extension_regex = r'^[a-zA-Z0-9-]+\\.[a-zA-Z0-9]+$'\n",
    "md5_regex = r'^[a-fA-F0-9]{32}$'\n",
    "sha1_regex = r'^[a-fA-F0-9]{40}$'\n",
    "sha2_regex = r'^[a-fA-F0-9]{64}$'\n",
    "malware_name_regex = r'^[a-zA-Z0-9-]+(/[a-zA-Z0-9-]+)+$'\n",
    "cve_regex = r'^CVE-[0-9]{4}-[0-9]{4,}$'\n",
    "vulnerability_id_regex = r'^[a-zA-Z0-9-]+$'\n",
    "windows_environment_variable_regex = r'^%(WINDOWS|[a-zA-Z0-9_]+)%.*?(\\\\)?$'\n",
    "unix_like_environment_variable_regex = r'^\\$\\{[a-zA-Z_][a-zA-Z0-9_]*\\}.*?(\\\\)?$'\n",
    "\n",
    "def clean_keyword(word):\n",
    "    # Check if the word matches any of the special formats\n",
    "    special_formats = [\n",
    "        email_regex, time_regex, ip_regex, web_domain_regex, url_regex,\n",
    "        file_with_extension_regex, md5_regex, sha1_regex, sha2_regex, malware_name_regex,\n",
    "        cve_regex, vulnerability_id_regex, windows_environment_variable_regex, unix_like_environment_variable_regex\n",
    "    ]\n",
    "    for regex_pattern in special_formats:\n",
    "        if re.match(regex_pattern, word):\n",
    "            return word\n",
    "\n",
    "    if len(word.split()) == 1:\n",
    "        # Remove punctuation at the beginning and ending of the word\n",
    "        cleaned_word = re.sub(r'^\\W+|(^\\W+)|\\W+$', r'\\1', word)\n",
    "    else:\n",
    "        cleaned_word = re.sub(r'^\\W+|\\W+$', '', word)\n",
    "\n",
    "    \"\"\"if word != cleaned_word:\n",
    "        print('\\t{0} --> {1}'.format(word, cleaned_word))\"\"\"\n",
    "\n",
    "    return cleaned_word"
   ]
  },
  {
   "cell_type": "code",
   "execution_count": null,
   "id": "fbf4393d",
   "metadata": {
    "execution": {
     "iopub.execute_input": "2023-10-30T13:43:03.852950Z",
     "iopub.status.busy": "2023-10-30T13:43:03.852561Z",
     "iopub.status.idle": "2023-10-30T13:43:03.867228Z",
     "shell.execute_reply": "2023-10-30T13:43:03.866268Z"
    },
    "papermill": {
     "duration": 0.025948,
     "end_time": "2023-10-30T13:43:03.869747",
     "exception": false,
     "start_time": "2023-10-30T13:43:03.843799",
     "status": "completed"
    },
    "tags": []
   },
   "outputs": [],
   "source": [
    "def extract_entities(row):\n",
    "    entity_dict = {\n",
    "        \"ACT\": set(),\n",
    "        \"APT\": set(),\n",
    "        \"DOM\": set(),\n",
    "        \"EMAIL\": set(),\n",
    "        \"ENCR\": set(),\n",
    "        \"FILE\": set(),\n",
    "        \"IDTY\": set(),\n",
    "        \"IP\": set(),\n",
    "        \"LOC\": set(),\n",
    "        \"MAL\": set(),\n",
    "        \"MD5\": set(),\n",
    "        \"OS\": set(),\n",
    "        \"PROT\": set(),\n",
    "        \"SECTEAM\": set(),\n",
    "        \"SHA1\": set(),\n",
    "        \"SHA2\": set(),\n",
    "        \"TIME\": set(),\n",
    "        \"TOOL\": set(),\n",
    "        \"URL\": set(),\n",
    "        \"VULID\": set(),\n",
    "        \"VULNAME\": set()\n",
    "    }\n",
    "\n",
    "    if int(row['ID']) % 1000 == 0:\n",
    "        print('\\n-------------------------ROW {}\\\\91438 - {:.2%}\\n'\n",
    "              .format(row['ID'], int(row['ID'])/91438))\n",
    "\n",
    "    sentences_list = [string.split() for string in row['content']]\n",
    "    tags_list = [string.split(',') for string in row['tags']]\n",
    "\n",
    "    # Loop over sentences and tags simultaneously\n",
    "    for sentence, sentence_tags in zip(sentences_list, tags_list):\n",
    "\n",
    "        if len(sentence) != len(sentence_tags):\n",
    "            if sentence_tags[0] == 'O':\n",
    "                sentence_tags = sentence_tags[1:]\n",
    "            else:\n",
    "                sentence_tags = [sentence_tags[0]] + sentence_tags[2:]\n",
    "            if len(sentence) != len(sentence_tags):\n",
    "                print(\"ERROR DIFFERENT LENGTH - at ID \"+str(row['ID'])+\" with:\")\n",
    "                print(len(sentence), '-', sentence)\n",
    "                print(len(sentence_tags), '-', sentence_tags)\n",
    "\n",
    "        # Reset vars for each sentence\n",
    "        entity = ''\n",
    "        keyword = ''\n",
    "\n",
    "        # Loop over sentence tags\n",
    "        for idx_tag, tag in enumerate(sentence_tags):\n",
    "            # If it starts a new entity\n",
    "            if tag[0] == 'B':\n",
    "                # If the previous token is an entity itself\n",
    "                if entity != '' and keyword != '':\n",
    "                    # Add to set\n",
    "                    #entity_dict[entity].add(clean_keyword(keyword))\n",
    "                    entity_dict[entity].add(re.sub(r'^[\\W\\-_]+|[\\W\\-_]+$', '', clean_keyword(keyword)))\n",
    "                # Store new entity and verify if it's composed of more word-tokens\n",
    "                entity = tag.split('-')[1]\n",
    "                keyword = sentence[idx_tag]\n",
    "\n",
    "            # If it continues an existing entity\n",
    "            elif tag[0] == 'I':\n",
    "                # If there isn't a starting token\n",
    "                if entity == '' or tag.split('-')[1] != entity:\n",
    "                    \"\"\"print('\\tERROR AT ID {0} with entity \\'{1}\\':'.format(row['ID'], entity))\n",
    "                    print('\\t\\t', ' '.join(sentence))\n",
    "                    print('\\t\\t', ' '.join(sentence_tags))\"\"\"\n",
    "                    entity = tag.split('-')[1]\n",
    "                    \"\"\"print('\\t\\t --> keep \\'{0}\\''.format(entity))\"\"\"\n",
    "                # Keep storing the entity and verify if it's composed of more word-tokens\n",
    "                keyword += ' ' + sentence[idx_tag]\n",
    "\n",
    "            # If it's not an entity\n",
    "            elif tag[0] == 'O':\n",
    "                # If the previous token is an entity\n",
    "                if entity != '' and keyword != '':\n",
    "                    # Add to set\n",
    "                    #entity_dict[entity].add(clean_keyword(keyword))\n",
    "                    entity_dict[entity].add(re.sub(r'^[\\W\\-_]+|[\\W\\-_]+$', '', clean_keyword(keyword)))\n",
    "                    # Reset vars\n",
    "                    entity = ''\n",
    "                    keyword = ''\n",
    "\n",
    "        # If the last token is an entity\n",
    "        if entity != '' and keyword != '':\n",
    "            # Add to set\n",
    "            #entity_dict[entity].add(clean_keyword(keyword))\n",
    "            entity_dict[entity].add(re.sub(r'^[\\W\\-_]+|[\\W\\-_]+$', '', clean_keyword(keyword)))\n",
    "\n",
    "    return {key: list(value) for key, value in entity_dict.items()}"
   ]
  },
  {
   "cell_type": "code",
   "execution_count": null,
   "id": "1c73a781",
   "metadata": {
    "execution": {
     "iopub.execute_input": "2023-10-30T13:43:03.886091Z",
     "iopub.status.busy": "2023-10-30T13:43:03.885670Z",
     "iopub.status.idle": "2023-10-30T13:43:30.054450Z",
     "shell.execute_reply": "2023-10-30T13:43:30.053427Z"
    },
    "papermill": {
     "duration": 26.179709,
     "end_time": "2023-10-30T13:43:30.056920",
     "exception": false,
     "start_time": "2023-10-30T13:43:03.877211",
     "status": "completed"
    },
    "tags": []
   },
   "outputs": [],
   "source": [
    "df = pd.DataFrame(total_data)\n",
    "\n",
    "# Convert the 'date' column to datetime format\n",
    "df['date'] = pd.to_datetime(df['date'])\n",
    "\n",
    "# Format the 'date' column as MM-DD-YYYY\n",
    "df['date'] = df['date'].dt.strftime('%m-%d-%Y')\n",
    "\n",
    "print('Starting extraction')\n",
    "\n",
    "# Extract entities\n",
    "df['entities'] = df.apply(extract_entities, axis=1)\n",
    "\n",
    "print('Saving results')\n",
    "\n",
    "# Save the result\n",
    "df.to_json('HF_extracted_entities.json', orient='records', indent=4)"
   ]
  },
  {
   "cell_type": "code",
   "execution_count": null,
   "id": "daad6dfa",
   "metadata": {
    "execution": {
     "iopub.execute_input": "2023-10-30T13:43:30.080970Z",
     "iopub.status.busy": "2023-10-30T13:43:30.080597Z",
     "iopub.status.idle": "2023-10-30T13:43:30.085230Z",
     "shell.execute_reply": "2023-10-30T13:43:30.084211Z"
    },
    "papermill": {
     "duration": 0.019095,
     "end_time": "2023-10-30T13:43:30.087182",
     "exception": false,
     "start_time": "2023-10-30T13:43:30.068087",
     "status": "completed"
    },
    "tags": []
   },
   "outputs": [],
   "source": [
    "def defang_iocs_in_text(text):\n",
    "    defanged_text = ioc_fanger.defang(text)\n",
    "    return defanged_text\n",
    "\n",
    "def fang_iocs_in_text(text):\n",
    "    fanged_text = ioc_fanger.fang(text)\n",
    "    return fanged_text"
   ]
  },
  {
   "cell_type": "code",
   "execution_count": null,
   "id": "a3214977",
   "metadata": {
    "execution": {
     "iopub.execute_input": "2023-10-30T13:43:30.110675Z",
     "iopub.status.busy": "2023-10-30T13:43:30.110075Z",
     "iopub.status.idle": "2023-10-30T13:43:30.115462Z",
     "shell.execute_reply": "2023-10-30T13:43:30.114377Z"
    },
    "papermill": {
     "duration": 0.01923,
     "end_time": "2023-10-30T13:43:30.117277",
     "exception": false,
     "start_time": "2023-10-30T13:43:30.098047",
     "status": "completed"
    },
    "tags": []
   },
   "outputs": [],
   "source": [
    "def is_valid_ip(ip_str):\n",
    "    try:\n",
    "        ipaddress.ip_address(ip_str)\n",
    "        return True\n",
    "    except ValueError:\n",
    "        return False\n",
    "    \n",
    "def is_numeric(input_str):\n",
    "    pattern = r'^[\\d.,]+$'  # Pattern for a combination of numbers and dots/commas\n",
    "    return bool(re.match(pattern, input_str))"
   ]
  },
  {
   "cell_type": "code",
   "execution_count": null,
   "id": "3d4bb0e2",
   "metadata": {
    "execution": {
     "iopub.execute_input": "2023-10-30T13:43:30.140897Z",
     "iopub.status.busy": "2023-10-30T13:43:30.140151Z",
     "iopub.status.idle": "2023-10-30T13:44:04.644095Z",
     "shell.execute_reply": "2023-10-30T13:44:04.642857Z"
    },
    "papermill": {
     "duration": 34.518716,
     "end_time": "2023-10-30T13:44:04.646734",
     "exception": false,
     "start_time": "2023-10-30T13:43:30.128018",
     "status": "completed"
    },
    "tags": []
   },
   "outputs": [],
   "source": [
    "entity_dict = {\n",
    "        \"ACT\": set(),\n",
    "        \"APT\": set(),\n",
    "        \"DOM\": set(),\n",
    "        \"EMAIL\": set(),\n",
    "        \"ENCR\": set(),\n",
    "        \"FILE\": set(),\n",
    "        \"IDTY\": set(),\n",
    "        \"IP\": set(),\n",
    "        \"LOC\": set(),\n",
    "        \"MAL\": set(),\n",
    "        \"MD5\": set(),\n",
    "        \"OS\": set(),\n",
    "        \"PROT\": set(),\n",
    "        \"SECTEAM\": set(),\n",
    "        \"SHA1\": set(),\n",
    "        \"SHA2\": set(),\n",
    "        \"TIME\": set(),\n",
    "        \"TOOL\": set(),\n",
    "        \"URL\": set(),\n",
    "        \"VULID\": set(),\n",
    "        \"VULNAME\": set()\n",
    "    }\n",
    "complete_list = set()\n",
    "\n",
    "for _, r in df.iterrows():\n",
    "    for e, l in r['entities'].items():\n",
    "        for i in l:\n",
    "            if i == '':\n",
    "                continue  \n",
    "            fang_i = fang_iocs_in_text(i).lower()\n",
    "            if not is_valid_ip(fang_i) and is_numeric(fang_i):  # Avoid to ad pure numbers\n",
    "                continue\n",
    "            entity_dict[e].add(fang_i)\n",
    "            complete_list.add(fang_i)"
   ]
  },
  {
   "cell_type": "code",
   "execution_count": null,
   "id": "8f17e35a",
   "metadata": {
    "execution": {
     "iopub.execute_input": "2023-10-30T13:44:04.670358Z",
     "iopub.status.busy": "2023-10-30T13:44:04.669947Z",
     "iopub.status.idle": "2023-10-30T13:44:04.927906Z",
     "shell.execute_reply": "2023-10-30T13:44:04.926457Z"
    },
    "papermill": {
     "duration": 0.272423,
     "end_time": "2023-10-30T13:44:04.930366",
     "exception": false,
     "start_time": "2023-10-30T13:44:04.657943",
     "status": "completed"
    },
    "tags": []
   },
   "outputs": [],
   "source": [
    "tags = [\"APT\", \"SECTEAM\", \"IDTY\", \"OS\", \"EMAIL\", \"LOC\", \"TIME\", \"IP\", \"DOM\", \"URL\", \"PROT\", \n",
    "         \"FILE\", \"TOOL\", \"MD5\", \"SHA1\", \"SHA2\", \"MAL\", \"ENCR\", \"VULNAME\", \"VULID\", \"ACT\"]\n",
    "\n",
    "for t in tags:\n",
    "    file_path = t + \"_list.txt\"\n",
    "\n",
    "    # Open the file for writing ('w' mode)\n",
    "    with open(file_path, 'w', encoding='utf-8') as file:\n",
    "        file.write('\\n'.join(sorted(entity_dict[t])))\n",
    "        \n",
    "file_path = \"complete_list.txt\"\n",
    "with open(file_path, 'w', encoding='utf-8') as file:\n",
    "    file.write('\\n'.join(sorted(complete_list)))"
   ]
  }
 ],
 "metadata": {
  "kernelspec": {
   "display_name": "Python 3",
   "language": "python",
   "name": "python3"
  },
  "language_info": {
   "codemirror_mode": {
    "name": "ipython",
    "version": 3
   },
   "file_extension": ".py",
   "mimetype": "text/x-python",
   "name": "python",
   "nbconvert_exporter": "python",
   "pygments_lexer": "ipython3",
   "version": "3.10.12"
  },
  "papermill": {
   "default_parameters": {},
   "duration": 86.371475,
   "end_time": "2023-10-30T13:44:06.464800",
   "environment_variables": {},
   "exception": null,
   "input_path": "__notebook__.ipynb",
   "output_path": "__notebook__.ipynb",
   "parameters": {},
   "start_time": "2023-10-30T13:42:40.093325",
   "version": "2.4.0"
  }
 },
 "nbformat": 4,
 "nbformat_minor": 5
}
