{
 "cells": [
  {
   "cell_type": "code",
   "execution_count": null,
   "id": "3b3dfdac",
   "metadata": {
    "execution": {
     "iopub.execute_input": "2023-10-31T14:33:50.804210Z",
     "iopub.status.busy": "2023-10-31T14:33:50.803264Z",
     "iopub.status.idle": "2023-10-31T14:33:50.817720Z",
     "shell.execute_reply": "2023-10-31T14:33:50.816928Z"
    },
    "papermill": {
     "duration": 0.024372,
     "end_time": "2023-10-31T14:33:50.820049",
     "exception": false,
     "start_time": "2023-10-31T14:33:50.795677",
     "status": "completed"
    },
    "tags": []
   },
   "outputs": [],
   "source": [
    "import datetime\n",
    "import pandas as pd\n",
    "import json\n",
    "import time\n",
    "import re\n",
    "import os\n",
    "import zipfile\n",
    "from collections import defaultdict\n",
    "from tqdm import tqdm\n",
    "from concurrent.futures import ThreadPoolExecutor"
   ]
  },
  {
   "cell_type": "code",
   "execution_count": null,
   "id": "b5c7136d",
   "metadata": {
    "execution": {
     "iopub.execute_input": "2023-10-31T14:33:50.832604Z",
     "iopub.status.busy": "2023-10-31T14:33:50.831840Z",
     "iopub.status.idle": "2023-10-31T14:33:50.866153Z",
     "shell.execute_reply": "2023-10-31T14:33:50.865311Z"
    },
    "papermill": {
     "duration": 0.043654,
     "end_time": "2023-10-31T14:33:50.868908",
     "exception": false,
     "start_time": "2023-10-31T14:33:50.825254",
     "status": "completed"
    },
    "tags": []
   },
   "outputs": [],
   "source": [
    "# Aliases material\n",
    "import csv\n",
    "\n",
    "def read_alias_from_csv(filename):\n",
    "    data, first_elem = [], []\n",
    "\n",
    "  # Use the 'r' mode to open the CSV file for reading\n",
    "    with open(filename, \"r\", newline=\"\") as file:\n",
    "        reader = csv.reader(file)\n",
    " \n",
    "      # Iterate through each row in the CSV file and append it to the data list\n",
    "        for row in reader:\n",
    "            data.append(row)\n",
    "\n",
    "    for line in data:\n",
    "        line[0] = line[0].upper()\n",
    "        first_elem.append(line[0])\n",
    "    return data, first_elem\n",
    "\n",
    "actor_groups_aliases, actor_first_elem_list = read_alias_from_csv('/home/anon/input/threat-aliases/threat_actors_aliases.csv')\n",
    "malware_families_aliases, malware_first_elem_list = read_alias_from_csv('/home/anon/input/threat-aliases/threat_names_aliases.csv')"
   ]
  },
  {
   "cell_type": "markdown",
   "id": "5b6200e7",
   "metadata": {
    "papermill": {
     "duration": 0.004713,
     "end_time": "2023-10-31T14:33:50.878680",
     "exception": false,
     "start_time": "2023-10-31T14:33:50.873967",
     "status": "completed"
    },
    "tags": []
   },
   "source": [
    "## Generate complete list of HF keywords"
   ]
  },
  {
   "cell_type": "code",
   "execution_count": null,
   "id": "1e072db7",
   "metadata": {
    "execution": {
     "iopub.execute_input": "2023-10-31T14:33:50.890095Z",
     "iopub.status.busy": "2023-10-31T14:33:50.889696Z",
     "iopub.status.idle": "2023-10-31T14:33:51.478535Z",
     "shell.execute_reply": "2023-10-31T14:33:51.477567Z"
    },
    "papermill": {
     "duration": 0.597748,
     "end_time": "2023-10-31T14:33:51.481253",
     "exception": false,
     "start_time": "2023-10-31T14:33:50.883505",
     "status": "completed"
    },
    "tags": []
   },
   "outputs": [],
   "source": [
    "tags = [\"APT\", \"SECTEAM\", \"IDTY\", \"OS\", \"EMAIL\", \"IP\", \"DOM\", \"URL\", \"PROT\", \n",
    "         \"FILE\", \"TOOL\", \"MD5\", \"SHA1\", \"SHA2\", \"MAL\", \"ENCR\", \"VULNAME\", \"VULID\", \"ACT\"]  #\"LOC\", \"TIME\", \n",
    "\n",
    "complete_list = set()\n",
    "for t in tags:\n",
    "    file_path = f'/home/anon/input/datasets-extracted-entities/HF_extracted_entities/entity_lists/{t}_list.txt'\n",
    "    with open(file_path, 'r', encoding='utf-8') as file:\n",
    "        for line in file:\n",
    "            complete_list.add(line.strip())\n",
    "complete_list = sorted(complete_list, key=lambda x: (-len(x), x))\n",
    "len(complete_list)"
   ]
  },
  {
   "cell_type": "code",
   "execution_count": null,
   "id": "aa8c9503",
   "metadata": {
    "execution": {
     "iopub.execute_input": "2023-10-31T14:33:51.493015Z",
     "iopub.status.busy": "2023-10-31T14:33:51.492170Z",
     "iopub.status.idle": "2023-10-31T14:33:51.697211Z",
     "shell.execute_reply": "2023-10-31T14:33:51.696235Z"
    },
    "papermill": {
     "duration": 0.214771,
     "end_time": "2023-10-31T14:33:51.700963",
     "exception": false,
     "start_time": "2023-10-31T14:33:51.486192",
     "status": "completed"
    },
    "tags": []
   },
   "outputs": [],
   "source": [
    "chunk_size = 500\n",
    "\n",
    "def save_chunk(output_directory, count, chunk):\n",
    "    output_file = os.path.join(output_directory, f\"chunk_{count}.txt\")\n",
    "    with open(output_file, 'w', encoding='utf-8') as file:\n",
    "        file.write('\\n'.join(chunk))\n",
    "        \n",
    "output_directory = 'chunks_complete_entity_list'\n",
    "if not os.path.exists(output_directory):\n",
    "    os.makedirs(output_directory)\n",
    "\n",
    "idx_file = 1\n",
    "count = 0\n",
    "chunk = []\n",
    "for elem in tqdm(complete_list):\n",
    "    chunk.append(elem)\n",
    "    count += 1\n",
    "    if count % chunk_size == 0:\n",
    "        save_chunk(output_directory, idx_file, chunk)\n",
    "        chunk = []\n",
    "        idx_file += 1\n",
    "\n",
    "if chunk:\n",
    "    save_chunk(output_directory, idx_file, chunk)\n",
    "print('Total files:', idx_file)\n",
    "\n",
    "output_file = os.path.join(output_directory, \"complete_list.txt\")\n",
    "with open(output_file, 'w', encoding='utf-8') as file:\n",
    "    file.write('\\n'.join(complete_list))\n",
    "    \n",
    "print(f'Chunks: {idx_file}')"
   ]
  },
  {
   "cell_type": "markdown",
   "id": "7782915d",
   "metadata": {
    "papermill": {
     "duration": 0.005119,
     "end_time": "2023-10-31T14:33:51.711821",
     "exception": false,
     "start_time": "2023-10-31T14:33:51.706702",
     "status": "completed"
    },
    "tags": []
   },
   "source": [
    "## Search HF keywords in REP articles"
   ]
  },
  {
   "cell_type": "code",
   "execution_count": null,
   "id": "d0fe8792",
   "metadata": {
    "execution": {
     "iopub.execute_input": "2023-10-31T14:33:51.724386Z",
     "iopub.status.busy": "2023-10-31T14:33:51.724015Z",
     "iopub.status.idle": "2023-10-31T14:33:51.745734Z",
     "shell.execute_reply": "2023-10-31T14:33:51.744673Z"
    },
    "papermill": {
     "duration": 0.030813,
     "end_time": "2023-10-31T14:33:51.748045",
     "exception": false,
     "start_time": "2023-10-31T14:33:51.717232",
     "status": "completed"
    },
    "tags": []
   },
   "outputs": [],
   "source": [
    "def read_lines_from_file(file_path):\n",
    "    with open(file_path, 'r', encoding='utf-8') as file:\n",
    "        for line in file:\n",
    "            yield line.strip()\n",
    "\n",
    "def create_set_from_file(file_path):\n",
    "    return set(read_lines_from_file(file_path))\n",
    "\n",
    "def create_bulk_search_pattern(keywords_list):\n",
    "    keywords_list = sorted(keywords_list, key=lambda x: (-len(x), x))\n",
    "    #keyword_regex = r\"\\b(?:\" + \"|\".join(re.escape(word) for word in keywords_list) + r\")\\b\"\n",
    "    keyword_regex = r\"(^|\\s)[^a-zA-Z0-9]*(\" + \"|\".join(re.escape(word.lower()) for word in keywords_list) + r\")[^a-zA-Z0-9]*(\\s|$)\"\n",
    "    return re.compile(keyword_regex)\n",
    "\n",
    "def search_matches_in_chunk(chunk, bulk_search_pattern):\n",
    "    word_matching = defaultdict(list)\n",
    "    for post in chunk.itertuples(index=False):\n",
    "        content = post.merged_content.lower()\n",
    "\n",
    "        matches = bulk_search_pattern.findall(content)\n",
    "        for word in matches:\n",
    "            matched_word = word[1].lower()\n",
    "            word_matching[matched_word].append({\n",
    "                'ID': post.ID,\n",
    "                'date': post.date\n",
    "            })\n",
    "\n",
    "    return word_matching\n",
    "\n",
    "def search_matches(input_file_path, output_file_path, df_REP):\n",
    "    # Load keywords of reports\n",
    "    keywords_list = create_set_from_file(input_file_path)\n",
    "    print('\\nNumber of hf keywords: ', len(keywords_list))\n",
    "\n",
    "    print(datetime.datetime.now())\n",
    "    start = time.time()\n",
    "    print(\"Start searching for matches in file\", input_file_path)\n",
    "\n",
    "    # Convert keywords_list to lowercase for efficient matching\n",
    "    keywords_list_lower = {word.lower() for word in keywords_list}\n",
    "\n",
    "    # Compile the bulk search pattern\n",
    "    print('Create regex pattern')\n",
    "    bulk_search_pattern = create_bulk_search_pattern(keywords_list_lower)\n",
    "\n",
    "    # Divide the dataframe into smaller chunks for parallel processing\n",
    "    chunk_size = 1000\n",
    "    df_chunks = [df_REP[i:i+chunk_size] for i in range(0, df_REP.shape[0], chunk_size)]\n",
    "    \n",
    "    # Use ThreadPoolExecutor for parallel processing\n",
    "    with ThreadPoolExecutor() as executor:\n",
    "        futures = [executor.submit(search_matches_in_chunk, chunk, bulk_search_pattern) for chunk in df_chunks]\n",
    "        word_matching_dict = {}\n",
    "        for future in tqdm(futures, total=len(futures), desc='Processing Chunks'):\n",
    "            chunk_word_matching = future.result()\n",
    "            for word, matches in chunk_word_matching.items():\n",
    "                if word in word_matching_dict:\n",
    "                    word_matching_dict[word].extend(matches)\n",
    "                else:\n",
    "                    word_matching_dict[word] = matches\n",
    "\n",
    "    # Convert word_matching_dict to a list of dictionaries\n",
    "    word_matching = [{'keyword': word, 'matching posts': matches} for word, matches in word_matching_dict.items()]\n",
    "\n",
    "    end = time.time()\n",
    "    print(datetime.datetime.now())\n",
    "    print(\"Time elapsed: {} minutes\".format((end - start) / 60))\n",
    "\n",
    "    # Count non-empty lists\n",
    "    total_keywords = len(keywords_list)\n",
    "    print(f\"The total number of keywords is: {total_keywords}\")\n",
    "    non_empty_lists_count = sum(1 for entry in word_matching if entry['matching posts'])\n",
    "    percentage = (non_empty_lists_count / total_keywords) * 100\n",
    "    print(f\"The percentage of non-empty lists associated with keywords is: {percentage}%\")\n",
    "\n",
    "    # Create a dictionary to store unique IDs for each keyword using sets\n",
    "    unique_ids = {}\n",
    "    # Iterate through the data and remove duplicates using sets\n",
    "    for item in word_matching:\n",
    "        keyword = item[\"keyword\"]\n",
    "        matching_posts = item[\"matching posts\"]\n",
    "        # Create a set to store unique IDs for the current keyword\n",
    "        unique_ids[keyword] = set()\n",
    "        # Create a list to store unique posts for the current keyword\n",
    "        unique_posts = []\n",
    "        for post in matching_posts:\n",
    "            post_id = post[\"ID\"]\n",
    "            # Check if the ID is not in the unique_ids set for this keyword\n",
    "            if post_id not in unique_ids[keyword]:\n",
    "                # Add the ID to the unique_ids set\n",
    "                unique_ids[keyword].add(post_id)\n",
    "                # Add the post to the unique_posts list\n",
    "                unique_posts.append(post)\n",
    "        # Update the matching posts for the current keyword\n",
    "        item[\"matching posts\"] = unique_posts\n",
    "\n",
    "    # Save the result\n",
    "    print(\"Saving json to %s\" % output_file_path)\n",
    "    with open(output_file_path, 'w') as file:\n",
    "        json.dump(word_matching, file, indent=4)"
   ]
  },
  {
   "cell_type": "code",
   "execution_count": null,
   "id": "caabc594",
   "metadata": {
    "execution": {
     "iopub.execute_input": "2023-10-31T14:33:51.760494Z",
     "iopub.status.busy": "2023-10-31T14:33:51.760100Z",
     "iopub.status.idle": "2023-10-31T14:33:51.764976Z",
     "shell.execute_reply": "2023-10-31T14:33:51.764079Z"
    },
    "papermill": {
     "duration": 0.013433,
     "end_time": "2023-10-31T14:33:51.767092",
     "exception": false,
     "start_time": "2023-10-31T14:33:51.753659",
     "status": "completed"
    },
    "tags": []
   },
   "outputs": [],
   "source": [
    "# Function to merge entity lists\n",
    "def merge_sentence_list(article):\n",
    "    merged_list = ' '.join(article).lower()\n",
    "    return merged_list"
   ]
  },
  {
   "cell_type": "code",
   "execution_count": null,
   "id": "4c1038d7",
   "metadata": {
    "execution": {
     "iopub.execute_input": "2023-10-31T14:33:51.779153Z",
     "iopub.status.busy": "2023-10-31T14:33:51.778802Z",
     "iopub.status.idle": "2023-10-31T14:33:51.784274Z",
     "shell.execute_reply": "2023-10-31T14:33:51.783387Z"
    },
    "papermill": {
     "duration": 0.013988,
     "end_time": "2023-10-31T14:33:51.786451",
     "exception": false,
     "start_time": "2023-10-31T14:33:51.772463",
     "status": "completed"
    },
    "tags": []
   },
   "outputs": [],
   "source": [
    "input_directory_keywords = '/home/anon/working/chunks_complete_entity_list'\n",
    "input_path_REP = '/home/anon/input/datasets-extracted-entities/REP_extracted_entities/REP_extracted_entities.json'\n",
    "output_directory = '/home/anon/working/chunks_HF_keywords_in_REP_articles/'\n",
    "if not os.path.exists(output_directory):\n",
    "    os.makedirs(output_directory)"
   ]
  },
  {
   "cell_type": "code",
   "execution_count": null,
   "id": "163d297b",
   "metadata": {
    "execution": {
     "iopub.execute_input": "2023-10-31T14:33:51.798292Z",
     "iopub.status.busy": "2023-10-31T14:33:51.797993Z",
     "iopub.status.idle": "2023-10-31T14:34:28.210789Z",
     "shell.execute_reply": "2023-10-31T14:34:28.209526Z"
    },
    "papermill": {
     "duration": 36.424495,
     "end_time": "2023-10-31T14:34:28.216261",
     "exception": false,
     "start_time": "2023-10-31T14:33:51.791766",
     "status": "completed"
    },
    "tags": []
   },
   "outputs": [],
   "source": [
    "# Load reports\n",
    "df_REP = pd.read_json(input_path_REP)\n",
    "\n",
    "df_REP['date'] = pd.to_datetime(df_REP['date'])\n",
    "df_REP['date'] = df_REP['date'].dt.strftime('%m-%d-%Y')\n",
    "# Sort the DataFrame by the 'date' column\n",
    "df_REP.sort_values(by='date', inplace=True)\n",
    "\n",
    "# Apply the merge_entity_lists function to each row and create a new column and filter the DataFrame to only keep the selected columns\n",
    "#df_REP['merged_content'] = df_REP['flatContent'].apply(merge_sentence_list)\n",
    "df_REP['merged_content'] = df_REP['content'].apply(merge_sentence_list)\n",
    "df_REP = df_REP[['ID', 'merged_content', 'date']]\n",
    "\n",
    "print('Number of articles: ', df_REP.shape[0])"
   ]
  },
  {
   "cell_type": "code",
   "execution_count": null,
   "id": "3f77d4c6",
   "metadata": {
    "execution": {
     "iopub.execute_input": "2023-10-31T14:34:28.229461Z",
     "iopub.status.busy": "2023-10-31T14:34:28.229015Z",
     "iopub.status.idle": "2023-10-31T17:08:43.170982Z",
     "shell.execute_reply": "2023-10-31T17:08:43.169150Z"
    },
    "papermill": {
     "duration": 9254.95229,
     "end_time": "2023-10-31T17:08:43.174052",
     "exception": false,
     "start_time": "2023-10-31T14:34:28.221762",
     "status": "completed"
    },
    "tags": []
   },
   "outputs": [],
   "source": [
    "start = 1\n",
    "end = start + 54\n",
    "# (1, 55) - (55, 109) - (109, 163) - (163, 217) - (217, 271)\n",
    "\n",
    "end = min(end, 271)\n",
    "\n",
    "print('Searching from {0} to {1}'.format(start, end-1))\n",
    "\n",
    "for idx_file in range(start, end):  \n",
    "    iFilename = 'chunk_{0}.txt'.format(idx_file)\n",
    "    input_path = os.path.join(input_directory_keywords, iFilename)\n",
    "\n",
    "    oFilename = 'HF_keywords_in_REP_articles_{0}.json'.format(idx_file)\n",
    "    output_path = os.path.join(output_directory, oFilename)\n",
    "\n",
    "    search_matches(input_path, output_path, df_REP)\n",
    "    \n",
    "    print()"
   ]
  },
  {
   "cell_type": "markdown",
   "id": "1c2d6e26",
   "metadata": {
    "papermill": {
     "duration": 0.284571,
     "end_time": "2023-10-31T17:08:43.743316",
     "exception": false,
     "start_time": "2023-10-31T17:08:43.458745",
     "status": "completed"
    },
    "tags": []
   },
   "source": [
    "## Save as ZIP"
   ]
  },
  {
   "cell_type": "code",
   "execution_count": null,
   "id": "30e75828",
   "metadata": {
    "execution": {
     "iopub.execute_input": "2023-10-31T17:08:44.416178Z",
     "iopub.status.busy": "2023-10-31T17:08:44.415723Z",
     "iopub.status.idle": "2023-10-31T17:08:44.434093Z",
     "shell.execute_reply": "2023-10-31T17:08:44.432903Z"
    },
    "papermill": {
     "duration": 0.406124,
     "end_time": "2023-10-31T17:08:44.436703",
     "exception": false,
     "start_time": "2023-10-31T17:08:44.030579",
     "status": "completed"
    },
    "tags": []
   },
   "outputs": [],
   "source": [
    "# Directory path containing the output files to zip\n",
    "source_directory = output_directory\n",
    "\n",
    "# Zip file path\n",
    "zip_file_path = '/home/anon/working/HF_keywords_in_REP_articles.zip'\n",
    "\n",
    "# Create a ZIP archive\n",
    "with zipfile.ZipFile(zip_file_path, 'w', zipfile.ZIP_DEFLATED) as zipf:\n",
    "    # Loop through all files in the directory and add them to the ZIP archive\n",
    "    for root, _, files in os.walk(source_directory):\n",
    "        for file in files:\n",
    "            file_path = os.path.join(root, file)\n",
    "            zipf.write(file_path, os.path.relpath(file_path, source_directory))"
   ]
  }
 ],
 "metadata": {
  "kernelspec": {
   "display_name": "Python 3",
   "language": "python",
   "name": "python3"
  },
  "language_info": {
   "codemirror_mode": {
    "name": "ipython",
    "version": 3
   },
   "file_extension": ".py",
   "mimetype": "text/x-python",
   "name": "python",
   "nbconvert_exporter": "python",
   "pygments_lexer": "ipython3",
   "version": "3.10.12"
  },
  "papermill": {
   "default_parameters": {},
   "duration": 9306.432319,
   "end_time": "2023-10-31T17:08:45.969630",
   "environment_variables": {},
   "exception": null,
   "input_path": "__notebook__.ipynb",
   "output_path": "__notebook__.ipynb",
   "parameters": {},
   "start_time": "2023-10-31T14:33:39.537311",
   "version": "2.4.0"
  }
 },
 "nbformat": 4,
 "nbformat_minor": 5
}
